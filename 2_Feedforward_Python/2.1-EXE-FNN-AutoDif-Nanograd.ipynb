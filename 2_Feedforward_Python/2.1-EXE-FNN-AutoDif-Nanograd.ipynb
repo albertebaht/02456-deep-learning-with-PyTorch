{
  "cells": [
    {
      "cell_type": "markdown",
      "metadata": {
        "id": "HAva8TnYFtFu"
      },
      "source": [
        "# Contents and why we need this lab\n",
        "\n",
        "This lab is about implementing neural networks yourself before we start using other frameworks that hide some of the computation from you. It builds on the first lab, where you derived the equations for neural network forward and backward propagation and gradient descent parameter updates.\n",
        "\n",
        "All the frameworks for deep learning you will meet from now on use automatic differentiation (autodiff), so you do not have to code the backward step yourself. In this version of this lab, you will develop your own autodif implementation. We also have an optional [version](https://github.com/DeepLearningDTU/02456-deep-learning-with-PyTorch/blob/master/2_Feedforward_Python/2.2-FNN-NumPy.ipynb) of this lab where you have to code the backward pass explicitly in Numpy."
      ]
    },
    {
      "cell_type": "markdown",
      "metadata": {
        "id": "sCa7HzwpFtFy"
      },
      "source": [
        "# External sources of information\n",
        "\n",
        "1. Jupyter notebook. You can find more information about Jupyter notebooks [here](https://jupyter.org/). It will come as part of the [Anaconda](https://www.anaconda.com/) Python installation.\n",
        "2. [NumPy](https://numpy.org/). Part of Anaconda distribution.  If you already know how to program, most things about Python and NumPy can be found with Google searches.\n",
        "3. [Nanograd](https://github.com/rasmusbergpalm/nanograd) is a minimalistic version of autodiff developed by Rasmus Berg Palm that we use for our framework.\n"
      ]
    },
    {
      "cell_type": "markdown",
      "metadata": {
        "id": "1SjiIp-TFtF0"
      },
      "source": [
        "# This notebook will follow the next steps:\n",
        "\n",
        "1. Nanograd automatic differentiation framework\n",
        "2. Finite difference method\n",
        "3. Data generation\n",
        "4. Defining and initializing the network\n",
        "5. Forward pass\n",
        "6. Training loop\n",
        "7. Testing your model\n",
        "8. Further extensions"
      ]
    },
    {
      "cell_type": "markdown",
      "metadata": {
        "id": "OyXeAA-HuT7s"
      },
      "source": [
        "# Nanograd automatic differention framework"
      ]
    },
    {
      "cell_type": "markdown",
      "metadata": {
        "id": "k6UWKCLKubgA"
      },
      "source": [
        "The [Nanograd](https://github.com/rasmusbergpalm/nanograd) framework defines a class Var which both holds a value and gradient value that we can use to store the intermediate values when we apply the chain rule of differentiation."
      ]
    },
    {
      "cell_type": "code",
      "execution_count": 5,
      "metadata": {
        "id": "Jd4CoEBNzNWS"
      },
      "outputs": [],
      "source": [
        "# Copy and pasted from https://github.com/rasmusbergpalm/nanograd/blob/3a1bf9e9e724da813bfccf91a6f309abdade9f39/nanograd.py\n",
        "\n",
        "from math import exp, log, tanh\n",
        "\n",
        "sig = lambda x: 1/(1.0+exp(-x))\n",
        "\n",
        "class Var:\n",
        "    \"\"\"\n",
        "    A variable which holds a float and enables gradient computations.\n",
        "    \"\"\"\n",
        "\n",
        "    def __init__(self, val: float, grad_fn=lambda: []):\n",
        "        assert type(val) == float\n",
        "        self.v = val\n",
        "        self.grad_fn = grad_fn\n",
        "        self.grad = 0.0\n",
        "\n",
        "    def backprop(self, bp):\n",
        "        self.grad += bp\n",
        "        for input, grad in self.grad_fn():\n",
        "          input.backprop(grad * bp)\n",
        "\n",
        "    def backward(self):\n",
        "        self.backprop(1.0)\n",
        "\n",
        "    def __add__(self: 'Var', other: 'Var') -> 'Var':\n",
        "        return Var(self.v + other.v, lambda: [(self, 1.0), (other, 1.0)])\n",
        "\n",
        "    def __mul__(self: 'Var', other: 'Var') -> 'Var':\n",
        "        return Var(self.v * other.v, lambda: [(self, other.v), (other, self.v)])\n",
        "\n",
        "    def __pow__(self, power):\n",
        "        assert type(power) in {float, int}, \"power must be float or int\"\n",
        "        return Var(self.v ** power, lambda: [(self, power * self.v ** (power - 1))])\n",
        "\n",
        "    def __neg__(self: 'Var') -> 'Var':\n",
        "        return Var(-1.0) * self\n",
        "\n",
        "    def __sub__(self: 'Var', other: 'Var') -> 'Var':\n",
        "        return self + (-other)\n",
        "\n",
        "    def __truediv__(self: 'Var', other: 'Var') -> 'Var':\n",
        "        return self * other ** -1\n",
        "\n",
        "    def __repr__(self):\n",
        "        return \"Var(v=%.4f, grad=%.4f)\" % (self.v, self.grad)\n",
        "\n",
        "    def relu(self):\n",
        "        return Var(self.v if self.v > 0.0 else 0.0, lambda: [(self, 1.0 if self.v > 0.0 else 0.0)])\n",
        "\n",
        "    def identity(self):\n",
        "        return Var(self.v, lambda: [(self, 1.0)])\n",
        "\n",
        "    def tanh(self):\n",
        "        return Var(tanh(self.v), lambda: [(self, 1.0- tanh(self.v)**2)])\n",
        "\n",
        "    def sigmoid(self):\n",
        "        return Var(sig(self.v), lambda: [(self, sig(self.v)*(1-sig(self.v)))])\n",
        "\n",
        "    def exp(self):\n",
        "        return Var(exp(self.v), lambda: [(self, exp(self.v))])\n",
        "\n",
        "    def log(self):\n",
        "        return Var(log(self.v), lambda: [(self, self.v ** -1)])"
      ]
    },
    {
      "cell_type": "markdown",
      "metadata": {
        "id": "yDX67D6jzcte"
      },
      "source": [
        "A few examples illustrate how we can use this:"
      ]
    },
    {
      "cell_type": "code",
      "execution_count": 6,
      "metadata": {
        "colab": {
          "base_uri": "https://localhost:8080/"
        },
        "id": "xk6PeLc3zwPT",
        "outputId": "bb8f008b-f447-4225-d12a-a23f0c3ae377"
      },
      "outputs": [
        {
          "output_type": "stream",
          "name": "stdout",
          "text": [
            "Var(v=3.0000, grad=5.0000)\n",
            "Var(v=5.0000, grad=3.0000)\n",
            "Var(v=15.0000, grad=1.0000)\n"
          ]
        }
      ],
      "source": [
        "a = Var(3.0)\n",
        "b = Var(5.0)\n",
        "f = a * b\n",
        "\n",
        "f.backward()\n",
        "\n",
        "for v in [a, b, f]:\n",
        "    print(v)"
      ]
    },
    {
      "cell_type": "code",
      "execution_count": 7,
      "metadata": {
        "colab": {
          "base_uri": "https://localhost:8080/"
        },
        "id": "JmKhYgsY0g_o",
        "outputId": "ff509190-803d-4af4-f9e8-54b00cb48395"
      },
      "outputs": [
        {
          "output_type": "stream",
          "name": "stdout",
          "text": [
            "Var(v=3.0000, grad=14.0000)\n",
            "Var(v=5.0000, grad=3.0000)\n",
            "Var(v=15.0000, grad=1.0000)\n",
            "Var(v=9.0000, grad=3.0000)\n",
            "Var(v=27.0000, grad=1.0000)\n",
            "Var(v=42.0000, grad=1.0000)\n"
          ]
        }
      ],
      "source": [
        "a = Var(3.0)\n",
        "b = Var(5.0)\n",
        "c = a * b\n",
        "d = Var(9.0)\n",
        "e = a * d\n",
        "f = c + e\n",
        "\n",
        "f.backward()\n",
        "\n",
        "for v in [a, b, c, d, e, f]:\n",
        "    print(v)"
      ]
    },
    {
      "cell_type": "markdown",
      "metadata": {
        "id": "Fe3B6uEH140p"
      },
      "source": [
        "## Exercise a) What is being calculated?\n",
        "\n",
        "Explain briefly the output of the code? What is the expression we differentiate and with respect to what variables?"
      ]
    },
    {
      "cell_type": "markdown",
      "source": [
        "The output of the code is the value and gradient for each variable. The gradients are f differentiated with respect to the variable. Hence for a we have:\n",
        "$$\n",
        "\\frac{df}{da} = \\frac{df}{dc} \\frac{dc}{da} + \\frac{df}{de} \\frac{de}{da} = 1\\cdot b + 1 \\cdot d = 5+9=14\n",
        "$$"
      ],
      "metadata": {
        "id": "OATe2obVeI1m"
      }
    },
    {
      "cell_type": "markdown",
      "metadata": {
        "id": "q8_Q0t2I3Ruj"
      },
      "source": [
        "## Exercise b) How does the backward function work?\n",
        "\n",
        "You need to understand how the backward function calculates the gradients. We can use the two examples above to help with that.\n",
        "\n",
        "Go through the following four steps and answer the questions on the way:\n",
        "\n",
        "1. We represent the two expressions as graphs as shown below. Fill in the missing expressions for the different derivatives.\n",
        "\n",
        "2. In the remainder consider the first expression. Make a schematic of the data structure which is generated when we define the expression for f.\n",
        "\n",
        "3. Then execute the backward function by hand to convince yourself that it indeed calculates the gradients with respect to the variables.\n",
        "\n",
        "4. Write down the sequence of calls to backprop."
      ]
    },
    {
      "cell_type": "code",
      "execution_count": 8,
      "metadata": {
        "id": "idGr71jYXl26"
      },
      "outputs": [],
      "source": [
        "# import logging\n",
        "import graphviz\n",
        "\n",
        "#logging.basicConfig(format='[%(levelname)s@%(name)s] %(message)s', level=logging.DEBUG)\n",
        "\n",
        "#graphviz.__version__, graphviz.version()"
      ]
    },
    {
      "cell_type": "code",
      "execution_count": 9,
      "metadata": {
        "colab": {
          "base_uri": "https://localhost:8080/",
          "height": 150
        },
        "id": "KPe30Q2QXzeG",
        "outputId": "6c3ebec8-4b9f-4fda-96f1-af5986accf74"
      },
      "outputs": [
        {
          "output_type": "execute_result",
          "data": {
            "image/svg+xml": "<?xml version=\"1.0\" encoding=\"UTF-8\" standalone=\"no\"?>\n<!DOCTYPE svg PUBLIC \"-//W3C//DTD SVG 1.1//EN\"\n \"http://www.w3.org/Graphics/SVG/1.1/DTD/svg11.dtd\">\n<!-- Generated by graphviz version 2.43.0 (0)\n -->\n<!-- Title: first expression Pages: 1 -->\n<svg width=\"174pt\" height=\"98pt\"\n viewBox=\"0.00 0.00 174.00 98.00\" xmlns=\"http://www.w3.org/2000/svg\" xmlns:xlink=\"http://www.w3.org/1999/xlink\">\n<g id=\"graph0\" class=\"graph\" transform=\"scale(1 1) rotate(0) translate(4 94)\">\n<title>first expression</title>\n<polygon fill=\"white\" stroke=\"transparent\" points=\"-4,4 -4,-94 170,-94 170,4 -4,4\"/>\n<!-- a -->\n<g id=\"node1\" class=\"node\">\n<title>a</title>\n<ellipse fill=\"none\" stroke=\"black\" cx=\"18\" cy=\"-72\" rx=\"18\" ry=\"18\"/>\n<text text-anchor=\"middle\" x=\"18\" y=\"-68.3\" font-family=\"Times,serif\" font-size=\"14.00\">a</text>\n</g>\n<!-- f -->\n<g id=\"node2\" class=\"node\">\n<title>f</title>\n<ellipse fill=\"none\" stroke=\"black\" cx=\"148\" cy=\"-45\" rx=\"18\" ry=\"18\"/>\n<text text-anchor=\"middle\" x=\"148\" y=\"-41.3\" font-family=\"Times,serif\" font-size=\"14.00\">f</text>\n</g>\n<!-- a&#45;&gt;f -->\n<g id=\"edge1\" class=\"edge\">\n<title>a&#45;&gt;f</title>\n<path fill=\"none\" stroke=\"black\" d=\"M35.73,-68.47C57.2,-63.94 94.69,-56.03 120.16,-50.66\"/>\n<polygon fill=\"black\" stroke=\"black\" points=\"121.2,-54.02 130.26,-48.53 119.76,-47.17 121.2,-54.02\"/>\n<text text-anchor=\"middle\" x=\"83\" y=\"-67.8\" font-family=\"Times,serif\" font-size=\"14.00\">df/da=b=5</text>\n</g>\n<!-- b -->\n<g id=\"node3\" class=\"node\">\n<title>b</title>\n<ellipse fill=\"none\" stroke=\"black\" cx=\"18\" cy=\"-18\" rx=\"18\" ry=\"18\"/>\n<text text-anchor=\"middle\" x=\"18\" y=\"-14.3\" font-family=\"Times,serif\" font-size=\"14.00\">b</text>\n</g>\n<!-- b&#45;&gt;f -->\n<g id=\"edge2\" class=\"edge\">\n<title>b&#45;&gt;f</title>\n<path fill=\"none\" stroke=\"black\" d=\"M35.98,-19.86C54.75,-22.11 85.82,-26.45 112,-33 115.02,-33.76 118.15,-34.65 121.24,-35.62\"/>\n<polygon fill=\"black\" stroke=\"black\" points=\"120.2,-38.96 130.79,-38.8 122.41,-32.32 120.2,-38.96\"/>\n<text text-anchor=\"middle\" x=\"83\" y=\"-36.8\" font-family=\"Times,serif\" font-size=\"14.00\">df/db=a=3</text>\n</g>\n</g>\n</svg>\n",
            "text/plain": [
              "<graphviz.graphs.Digraph at 0x7d8950204160>"
            ]
          },
          "metadata": {},
          "execution_count": 9
        }
      ],
      "source": [
        "e1 = graphviz.Digraph('first expression', filename='fsm.gv')\n",
        "\n",
        "e1.attr(rankdir='LR', size='8,5')\n",
        "\n",
        "e1.attr('node', shape='circle')\n",
        "e1.edge('a', 'f', label='df/da=b=5')\n",
        "e1.edge('b', 'f', label='df/db=a=3')\n",
        "\n",
        "e1"
      ]
    },
    {
      "cell_type": "code",
      "execution_count": 10,
      "metadata": {
        "colab": {
          "base_uri": "https://localhost:8080/",
          "height": 230
        },
        "id": "0nittR-mZFeX",
        "outputId": "640424a4-18e2-40cc-86d5-67d69dd3ffae"
      },
      "outputs": [
        {
          "output_type": "execute_result",
          "data": {
            "image/svg+xml": "<?xml version=\"1.0\" encoding=\"UTF-8\" standalone=\"no\"?>\n<!DOCTYPE svg PUBLIC \"-//W3C//DTD SVG 1.1//EN\"\n \"http://www.w3.org/Graphics/SVG/1.1/DTD/svg11.dtd\">\n<!-- Generated by graphviz version 2.43.0 (0)\n -->\n<!-- Title: second expression Pages: 1 -->\n<svg width=\"291pt\" height=\"158pt\"\n viewBox=\"0.00 0.00 291.00 158.00\" xmlns=\"http://www.w3.org/2000/svg\" xmlns:xlink=\"http://www.w3.org/1999/xlink\">\n<g id=\"graph0\" class=\"graph\" transform=\"scale(1 1) rotate(0) translate(4 154)\">\n<title>second expression</title>\n<polygon fill=\"white\" stroke=\"transparent\" points=\"-4,4 -4,-154 287,-154 287,4 -4,4\"/>\n<!-- a -->\n<g id=\"node1\" class=\"node\">\n<title>a</title>\n<ellipse fill=\"none\" stroke=\"black\" cx=\"18\" cy=\"-75\" rx=\"18\" ry=\"18\"/>\n<text text-anchor=\"middle\" x=\"18\" y=\"-71.3\" font-family=\"Times,serif\" font-size=\"14.00\">a</text>\n</g>\n<!-- c -->\n<g id=\"node2\" class=\"node\">\n<title>c</title>\n<ellipse fill=\"none\" stroke=\"black\" cx=\"150\" cy=\"-102\" rx=\"18\" ry=\"18\"/>\n<text text-anchor=\"middle\" x=\"150\" y=\"-98.3\" font-family=\"Times,serif\" font-size=\"14.00\">c</text>\n</g>\n<!-- a&#45;&gt;c -->\n<g id=\"edge1\" class=\"edge\">\n<title>a&#45;&gt;c</title>\n<path fill=\"none\" stroke=\"black\" d=\"M35.73,-78.47C57.67,-83.03 96.41,-91.08 122.4,-96.48\"/>\n<polygon fill=\"black\" stroke=\"black\" points=\"121.83,-99.93 132.34,-98.54 123.26,-93.08 121.83,-99.93\"/>\n<text text-anchor=\"middle\" x=\"84\" y=\"-97.8\" font-family=\"Times,serif\" font-size=\"14.00\">dc/da=b=5</text>\n</g>\n<!-- e -->\n<g id=\"node4\" class=\"node\">\n<title>e</title>\n<ellipse fill=\"none\" stroke=\"black\" cx=\"150\" cy=\"-48\" rx=\"18\" ry=\"18\"/>\n<text text-anchor=\"middle\" x=\"150\" y=\"-44.3\" font-family=\"Times,serif\" font-size=\"14.00\">e</text>\n</g>\n<!-- a&#45;&gt;e -->\n<g id=\"edge3\" class=\"edge\">\n<title>a&#45;&gt;e</title>\n<path fill=\"none\" stroke=\"black\" d=\"M35.21,-68.79C41.06,-66.72 47.77,-64.55 54,-63 76.59,-57.39 102.75,-53.44 121.89,-51.01\"/>\n<polygon fill=\"black\" stroke=\"black\" points=\"122.5,-54.46 132.01,-49.78 121.66,-47.51 122.5,-54.46\"/>\n<text text-anchor=\"middle\" x=\"84\" y=\"-66.8\" font-family=\"Times,serif\" font-size=\"14.00\">de/da=d=9</text>\n</g>\n<!-- f -->\n<g id=\"node6\" class=\"node\">\n<title>f</title>\n<ellipse fill=\"none\" stroke=\"black\" cx=\"265\" cy=\"-75\" rx=\"18\" ry=\"18\"/>\n<text text-anchor=\"middle\" x=\"265\" y=\"-71.3\" font-family=\"Times,serif\" font-size=\"14.00\">f</text>\n</g>\n<!-- c&#45;&gt;f -->\n<g id=\"edge5\" class=\"edge\">\n<title>c&#45;&gt;f</title>\n<path fill=\"none\" stroke=\"black\" d=\"M167.67,-98.02C186.03,-93.63 215.81,-86.51 237.4,-81.36\"/>\n<polygon fill=\"black\" stroke=\"black\" points=\"238.35,-84.73 247.26,-79 236.72,-77.92 238.35,-84.73\"/>\n<text text-anchor=\"middle\" x=\"207.5\" y=\"-96.8\" font-family=\"Times,serif\" font-size=\"14.00\">df/dc=1</text>\n</g>\n<!-- b -->\n<g id=\"node3\" class=\"node\">\n<title>b</title>\n<ellipse fill=\"none\" stroke=\"black\" cx=\"18\" cy=\"-132\" rx=\"18\" ry=\"18\"/>\n<text text-anchor=\"middle\" x=\"18\" y=\"-128.3\" font-family=\"Times,serif\" font-size=\"14.00\">b</text>\n</g>\n<!-- b&#45;&gt;c -->\n<g id=\"edge2\" class=\"edge\">\n<title>b&#45;&gt;c</title>\n<path fill=\"none\" stroke=\"black\" d=\"M35.73,-128.14C57.67,-123.08 96.41,-114.14 122.4,-108.14\"/>\n<polygon fill=\"black\" stroke=\"black\" points=\"123.38,-111.5 132.34,-105.85 121.8,-104.68 123.38,-111.5\"/>\n<text text-anchor=\"middle\" x=\"84\" y=\"-126.8\" font-family=\"Times,serif\" font-size=\"14.00\">dc/db=a=3</text>\n</g>\n<!-- e&#45;&gt;f -->\n<g id=\"edge6\" class=\"edge\">\n<title>e&#45;&gt;f</title>\n<path fill=\"none\" stroke=\"black\" d=\"M167.85,-50.94C183.73,-53.83 208.12,-58.59 229,-64 231.89,-64.75 234.9,-65.59 237.88,-66.47\"/>\n<polygon fill=\"black\" stroke=\"black\" points=\"237.13,-69.9 247.72,-69.5 239.19,-63.21 237.13,-69.9\"/>\n<text text-anchor=\"middle\" x=\"207.5\" y=\"-67.8\" font-family=\"Times,serif\" font-size=\"14.00\">df/de=1</text>\n</g>\n<!-- d -->\n<g id=\"node5\" class=\"node\">\n<title>d</title>\n<ellipse fill=\"none\" stroke=\"black\" cx=\"18\" cy=\"-18\" rx=\"18\" ry=\"18\"/>\n<text text-anchor=\"middle\" x=\"18\" y=\"-14.3\" font-family=\"Times,serif\" font-size=\"14.00\">d</text>\n</g>\n<!-- d&#45;&gt;e -->\n<g id=\"edge4\" class=\"edge\">\n<title>d&#45;&gt;e</title>\n<path fill=\"none\" stroke=\"black\" d=\"M36.09,-19.41C55.33,-21.29 87.37,-25.32 114,-33 117.41,-33.98 120.92,-35.21 124.35,-36.54\"/>\n<polygon fill=\"black\" stroke=\"black\" points=\"123.05,-39.79 133.62,-40.43 125.76,-33.33 123.05,-39.79\"/>\n<text text-anchor=\"middle\" x=\"84\" y=\"-36.8\" font-family=\"Times,serif\" font-size=\"14.00\">de/dd=a=5</text>\n</g>\n</g>\n</svg>\n",
            "text/plain": [
              "<graphviz.graphs.Digraph at 0x7d8950206fe0>"
            ]
          },
          "metadata": {},
          "execution_count": 10
        }
      ],
      "source": [
        "e2 = graphviz.Digraph('second expression', filename='fsm.gv')\n",
        "\n",
        "e2.attr(rankdir='LR', size='8,5')\n",
        "\n",
        "e2.attr('node', shape='circle')\n",
        "e2.edge('a', 'c', label='dc/da=b=5')\n",
        "e2.edge('b', 'c', label='dc/db=a=3')\n",
        "e2.edge('a', 'e', label='de/da=d=9')\n",
        "e2.edge('d', 'e', label='de/dd=a=5')\n",
        "e2.edge('c', 'f', label='df/dc=1')\n",
        "e2.edge('e', 'f', label='df/de=1')\n",
        "\n",
        "e2"
      ]
    },
    {
      "cell_type": "markdown",
      "source": [
        "The data structure that is generated for f in the first expression:$$\n",
        "\\texttt{f: Var} \\\\\n",
        "\\texttt{f.v = a.v*b.v} \\\\\n",
        "\\texttt{f.grad_fn = lambda: [Var(a,b.v),Var(b,a.v)]}\n",
        "$$\n",
        "\n",
        "The backward() method starts by calling backprop(1.0) on f. This sets the initial gradient for f to 1 because $\\frac{df}{df} = 1$. The backpropagation for f will trigger two recursive calls: \\\\\n",
        "a.backprop(5.0) (gradient of f w.r.t. a is 5.0) \\\\\n",
        "b.backprop(3.0) (gradient of f w.r.t. b is 3.0) \\\\\n",
        "\n"
      ],
      "metadata": {
        "id": "glXnjG3fi6G2"
      }
    },
    {
      "cell_type": "markdown",
      "source": [
        "When backward() is called on a Var, it initiates the process of backpropagation by setting the initial gradient (seed gradient) to 1, then propagating this gradient back through all the variables that contributed to it.\n"
      ],
      "metadata": {
        "id": "PPCHwCV75TJo"
      }
    },
    {
      "cell_type": "markdown",
      "metadata": {
        "id": "A5oi21W4gpeM"
      },
      "source": [
        "## Exercise c) What happens if we run backward again?\n",
        "\n",
        "Try to execute the code below. Explain what happens."
      ]
    },
    {
      "cell_type": "code",
      "execution_count": 11,
      "metadata": {
        "colab": {
          "base_uri": "https://localhost:8080/"
        },
        "id": "DCtpJyr-gyX1",
        "outputId": "78292865-f0b9-410d-b20d-4c1fb0d74aaa"
      },
      "outputs": [
        {
          "output_type": "stream",
          "name": "stdout",
          "text": [
            "Var(v=3.0000, grad=28.0000)\n",
            "Var(v=5.0000, grad=6.0000)\n",
            "Var(v=15.0000, grad=2.0000)\n",
            "Var(v=9.0000, grad=6.0000)\n",
            "Var(v=27.0000, grad=2.0000)\n",
            "Var(v=42.0000, grad=2.0000)\n"
          ]
        }
      ],
      "source": [
        "f.backward()\n",
        "\n",
        "for v in [a, b, c, d, e, f]:\n",
        "    print(v)"
      ]
    },
    {
      "cell_type": "markdown",
      "source": [
        "The stored gradients are not deleted when running backward. The gradients are instead updated and hence the values are doubled."
      ],
      "metadata": {
        "id": "DwAjc5gmlOM1"
      }
    },
    {
      "cell_type": "markdown",
      "metadata": {
        "id": "e8bPVq2VhsP-"
      },
      "source": [
        "## Exercise d) Zero gradient\n",
        "\n",
        "We can zero the gradient by backpropagating a -1.0 as is shown in the example below. (If you have run backward multiple time then you also have to run the cell below an equal amount of times.) Explain what is going on."
      ]
    },
    {
      "cell_type": "code",
      "execution_count": 12,
      "metadata": {
        "colab": {
          "base_uri": "https://localhost:8080/"
        },
        "id": "OnyPDQx9lJe0",
        "outputId": "e735d744-8f27-405a-eda6-f56a80f611b3"
      },
      "outputs": [
        {
          "output_type": "stream",
          "name": "stdout",
          "text": [
            "Var(v=2.0000, grad=0.0000)\n",
            "Var(v=5.0000, grad=6.0000)\n",
            "Var(v=15.0000, grad=2.0000)\n",
            "Var(v=9.0000, grad=6.0000)\n",
            "Var(v=27.0000, grad=2.0000)\n",
            "Var(v=42.0000, grad=2.0000)\n",
            "Var(v=2.0000, grad=0.0000)\n",
            "Var(v=5.0000, grad=3.0000)\n",
            "Var(v=15.0000, grad=1.0000)\n",
            "Var(v=9.0000, grad=3.0000)\n",
            "Var(v=27.0000, grad=1.0000)\n",
            "Var(v=42.0000, grad=1.0000)\n"
          ]
        }
      ],
      "source": [
        "a = Var(2.0)\n",
        "\n",
        "for v in [a, b, c, d, e, f]:\n",
        "    print(v)\n",
        "\n",
        "f.backprop(-1.0)\n",
        "\n",
        "for v in [a, b, c, d, e, f]:\n",
        "    print(v)"
      ]
    },
    {
      "cell_type": "markdown",
      "source": [
        "Since we are backpropagating with -1.0, the gradient contributions from this backpropagation exactly cancel out the contributions from the original backpropagation with 1.0"
      ],
      "metadata": {
        "id": "CCj48xsUmnB2"
      }
    },
    {
      "cell_type": "markdown",
      "metadata": {
        "id": "U4057_ljNvWB"
      },
      "source": [
        "## Exercise e) Test correctness of derivatives with the finite difference method\n",
        "\n",
        "Write a small function that uses [the finite difference method](https://en.wikipedia.org/wiki/Finite_difference_method) to numerically test that backpropation implementation is working. In short we will use\n",
        "$$\n",
        "\\frac{\\partial f(a)}{\\partial a} \\approx \\frac{f(a+da)-f(a)}{da}\n",
        "$$\n",
        "for $da \\ll 1$.\n",
        "\n",
        "As an example, we could approximate the derivative of the function $f(a)=a^2$ in e.g. the value $a=4$ using the finite difference method. This amounts to inserting the relevant values and approximating the gradient $f'(4)$ with the fraction above.\n"
      ]
    },
    {
      "cell_type": "code",
      "execution_count": 13,
      "metadata": {
        "colab": {
          "base_uri": "https://localhost:8080/"
        },
        "id": "9TGil92lSXDN",
        "outputId": "280702f0-1f58-49dd-d9a5-d985b55bfe9b"
      },
      "outputs": [
        {
          "output_type": "stream",
          "name": "stdout",
          "text": [
            "Var(v=2.0000, grad=4.0000)\n",
            "Var(v=5.0000, grad=0.0000)\n",
            "Var(v=4.0000, grad=1.0000)\n",
            "4.000000330961484\n"
          ]
        }
      ],
      "source": [
        "# f function - try to change the code to test other types of functions as well (such as different polynomials etc.)\n",
        "def f_function(a):\n",
        "  a = Var(a)\n",
        "  b = Var(5.0)\n",
        "  f = a * a # b\n",
        "  f.backward()\n",
        "  return a,b,f\n",
        "\n",
        "for v in f_function(2.0):\n",
        "  print(v)\n",
        "\n",
        "# Insert your finite difference code here\n",
        "def finite_difference(a, da=1e-10):\n",
        "    \"\"\"\n",
        "    This function compute the finite difference between\n",
        "\n",
        "    Input:\n",
        "    da:          The finite difference                           (float)\n",
        "\n",
        "    Output:\n",
        "    finite_difference: numerical approximation to the derivative (float)\n",
        "    \"\"\"\n",
        "\n",
        "    fa_da = f_function(a+da)[2].v           # <- Insert correct expression\n",
        "    fa = f_function(a)[2].v               # <- Insert correct expression\n",
        "\n",
        "    finite_difference = (fa_da - fa) / da\n",
        "\n",
        "    return finite_difference\n",
        "\n",
        "print(finite_difference(a = 2.0))"
      ]
    },
    {
      "cell_type": "markdown",
      "metadata": {
        "id": "6pZar5RKaUkg"
      },
      "source": [
        "# Create an artificial dataset to play with\n",
        "\n",
        "We create a non-linear 1d regression task. The generator supports various noise levels and it creates train, validation and test sets. You can modify it yourself if you want more or less challenging tasks."
      ]
    },
    {
      "cell_type": "code",
      "execution_count": 14,
      "metadata": {
        "id": "Y6yfMAQ8aduj"
      },
      "outputs": [],
      "source": [
        "import numpy as np\n",
        "import matplotlib.pyplot as plt\n",
        "\n",
        "np.random.seed(42)"
      ]
    },
    {
      "cell_type": "code",
      "execution_count": 15,
      "metadata": {
        "id": "4YabfD43ajNh"
      },
      "outputs": [],
      "source": [
        "def data_generator(noise=0.1, n_samples=300, D1=True):\n",
        "    # Create covariates and response variable\n",
        "    if D1:\n",
        "        X = np.linspace(-3, 3, num=n_samples).reshape(-1,1) # 1-D\n",
        "        np.random.shuffle(X)\n",
        "        y = np.random.normal((0.5*np.sin(X[:,0]*3) + X[:,0]), noise) # 1-D with trend\n",
        "    else:\n",
        "        X = np.random.multivariate_normal(np.zeros(3), noise*np.eye(3), size = n_samples) # 3-D\n",
        "        np.random.shuffle(X)\n",
        "        y = np.sin(X[:,0]) - 5*(X[:,1]**2) + 0.5*X[:,2] # 3-D\n",
        "\n",
        "    # Stack them together vertically to split data set\n",
        "    data_set = np.vstack((X.T,y)).T\n",
        "\n",
        "    train, validation, test = np.split(data_set, [int(0.35*n_samples), int(0.7*n_samples)], axis=0)\n",
        "\n",
        "    # Standardization of the data, remember we do the standardization with the training set mean and standard deviation\n",
        "    train_mu = np.mean(train, axis=0)\n",
        "    train_sigma = np.std(train, axis=0)\n",
        "\n",
        "    train = (train-train_mu)/train_sigma\n",
        "    validation = (validation-train_mu)/train_sigma\n",
        "    test = (test-train_mu)/train_sigma\n",
        "\n",
        "    x_train, x_validation, x_test = train[:,:-1], validation[:,:-1], test[:,:-1]\n",
        "    y_train, y_validation, y_test = train[:,-1], validation[:,-1], test[:,-1]\n",
        "\n",
        "    return x_train, y_train,  x_validation, y_validation, x_test, y_test"
      ]
    },
    {
      "cell_type": "code",
      "execution_count": 16,
      "metadata": {
        "id": "u1oDngHLapIz"
      },
      "outputs": [],
      "source": [
        "D1 = True\n",
        "x_train, y_train,  x_validation, y_validation, x_test, y_test = data_generator(noise=0.5, D1=D1)"
      ]
    },
    {
      "cell_type": "code",
      "execution_count": 17,
      "metadata": {
        "colab": {
          "base_uri": "https://localhost:8080/",
          "height": 429
        },
        "id": "Ysfa3FsBavlm",
        "outputId": "14df0a6b-f219-4f54-e0b9-829c9d741932"
      },
      "outputs": [
        {
          "output_type": "display_data",
          "data": {
            "text/plain": [
              "<Figure size 640x480 with 1 Axes>"
            ],
            "image/png": "[encoded data removed]"
          },
          "metadata": {}
        }
      ],
      "source": [
        "if D1:\n",
        "    plt.scatter(x_train[:,0], y_train);\n",
        "    plt.scatter(x_validation[:,0], y_validation);\n",
        "    plt.scatter(x_test[:,0], y_test);\n",
        "else:\n",
        "    plt.scatter(x_train[:,1], y_train);\n",
        "    plt.scatter(x_validation[:,1], y_validation);\n",
        "    plt.scatter(x_test[:,1], y_test);\n",
        "plt.show()"
      ]
    },
    {
      "cell_type": "code",
      "execution_count": 18,
      "metadata": {
        "id": "zac2HHNlgbpm"
      },
      "outputs": [],
      "source": [
        "# convert from nparray to Var\n",
        "def nparray_to_Var(x):\n",
        "  if x.ndim==1:\n",
        "    y = [[Var(float(x[i]))] for i in range(x.shape[0])] # always work with list of list\n",
        "  else:\n",
        "    y = [[Var(float(x[i,j])) for j in range(x.shape[1])] for i in range(x.shape[0])]\n",
        "  return y\n",
        "\n",
        "x_train = nparray_to_Var(x_train)\n",
        "y_train = nparray_to_Var(y_train)\n",
        "x_validation = nparray_to_Var(x_validation)\n",
        "y_validation = nparray_to_Var(y_validation)\n",
        "x_test = nparray_to_Var(x_test)\n",
        "y_test = nparray_to_Var(y_test)\n"
      ]
    },
    {
      "cell_type": "markdown",
      "metadata": {
        "id": "VbjrqcpVFtGe"
      },
      "source": [
        "# Defining and initializing the network\n",
        "\n",
        "The steps to create a feed forward neural network are the following:\n",
        "\n",
        "1. **Number of hidden layer and hidden units**. We have to define the number of hidden units in each layer. The number of features in X and the output dimensionality (the size of Y) are given but the numbers in between are set by the researcher. Remember that for each unit in each layer beside in the input has a bias term.\n",
        "2. **Activation functions** for each hidden layer. Each hidden layer in your list must have an activation function (it can also be the linear activation which is equivalent to identity function). The power of neural networks comes from non-linear activation functions that learn representations (features) from the data allowing us to learn from it.\n",
        "3. **Parameter initialization**. We will initialize the weights to have random values. This is done in practice by drawing pseudo random numbers from a Gaussian or uniform distribution. It turns out that for deeper models we have to be careful about how we scale the random numbers. This will be the topic of the exercise below. For now we will just use unit variance Gaussians.  \n",
        "\n",
        "In order to make life easier for ourselves we define a DenseLayer class that takes care of initialization and the forward pass. We can also extend it later with print and advanced initialization capabilities. For the latter we have introduced a Initializer class.\n",
        "\n",
        "Note that we use Sequence in the code below. A Sequence is an ordered list. This means the order we insert and access items are the same."
      ]
    },
    {
      "cell_type": "code",
      "execution_count": 19,
      "metadata": {
        "id": "ij_ieRsAt7Xt"
      },
      "outputs": [],
      "source": [
        "class Initializer:\n",
        "\n",
        "  def init_weights(self, n_in, n_out):\n",
        "    raise NotImplementedError\n",
        "\n",
        "  def init_bias(self, n_out):\n",
        "    raise NotImplementedError"
      ]
    },
    {
      "cell_type": "code",
      "execution_count": 20,
      "metadata": {
        "id": "eb18N5phuIha"
      },
      "outputs": [],
      "source": [
        "import random\n",
        "\n",
        "class NormalInitializer(Initializer):\n",
        "\n",
        "  def __init__(self, mean=0, std=0.1):\n",
        "    self.mean = mean\n",
        "    self.std = std\n",
        "\n",
        "  def init_weights(self, n_in, n_out):\n",
        "    return [[Var(random.gauss(self.mean, self.std)) for _ in range(n_out)] for _ in range(n_in)]\n",
        "\n",
        "  def init_bias(self, n_out):\n",
        "    return [Var(0.0) for _ in range(n_out)]\n",
        "\n",
        "class ConstantInitializer(Initializer):\n",
        "\n",
        "  def __init__(self, weight=1.0, bias=0.0):\n",
        "    self.weight = weight\n",
        "    self.bias = bias\n",
        "\n",
        "  def init_weights(self, n_in, n_out):\n",
        "    return [[Var(self.weight) for _ in range(n_out)] for _ in range(n_in)]\n",
        "\n",
        "  def init_bias(self, n_out):\n",
        "    return [Var(self.bias) for _ in range(n_out)]"
      ]
    },
    {
      "cell_type": "code",
      "execution_count": 21,
      "metadata": {
        "id": "jOLYGnZKuM6W"
      },
      "outputs": [],
      "source": [
        "from typing import Sequence\n",
        "\n",
        "class DenseLayer:\n",
        "    def __init__(self, n_in: int, n_out: int, act_fn, initializer = NormalInitializer()):\n",
        "        self.weights = initializer.init_weights(n_in, n_out)\n",
        "        self.bias = initializer.init_bias(n_out)\n",
        "        self.act_fn = act_fn\n",
        "\n",
        "    def __repr__(self):\n",
        "        return 'Weights: ' + repr(self.weights) + ' Biases: ' + repr(self.bias)\n",
        "\n",
        "    def parameters(self) -> Sequence[Var]:\n",
        "      params = []\n",
        "      for r in self.weights:\n",
        "        params += r\n",
        "\n",
        "      return params + self.bias\n",
        "\n",
        "    def forward(self, single_input: Sequence[Var]) -> Sequence[Var]:\n",
        "        # self.weights is a matrix with dimension n_in x n_out. We check that the dimensionality of the input\n",
        "        # to the current layer matches the number of nodes in the current layer\n",
        "        assert len(self.weights) == len(single_input), \"weights and single_input must match in first dimension\"\n",
        "        weights = self.weights\n",
        "        out = []\n",
        "        # For some given data point single_input, we now want to calculate the resulting value in each node in the current layer\n",
        "        # We therefore loop over the (number of) nodes in the current layer:\n",
        "        for j in range(len(weights[0])):\n",
        "            # Initialize the node value depending on its corresponding parameters.\n",
        "            node = (self.bias[j]) # <- Insert code\n",
        "            # We now finish the linear transformation corresponding to the parameters of the currently considered node.\n",
        "            for i in range(len(single_input)):\n",
        "                node += single_input[i] * self.weights[i][j]  # <- Insert code\n",
        "            node = self.act_fn(node)\n",
        "            out.append(node)\n",
        "\n",
        "        return out"
      ]
    },
    {
      "cell_type": "markdown",
      "metadata": {
        "id": "jpIZPBpNI0pO"
      },
      "source": [
        "## Exercise f) Add more activation functions\n",
        "\n",
        "To have a full definition of the neural network, we must define an activation function for every layer. Several activation functions have been proposed and have different characteristics. In the Var class we have already defined the rectified linear init (relu).\n",
        "\n",
        "Implement the following activation functions in the Var class:\n",
        "\n",
        "* Identity: $$\\mathrm{identity}(x) = x$$\n",
        "* Hyperbolic tangent: $$\\tanh(x)$$\n",
        "* Sigmoid (or logistic function): $$\\mathrm{sigmoid}(x) = \\frac{1}{1.0 + \\exp(-x ) }$$  Hint: $\\mathrm{sigmoid}'(x)= \\mathrm{sigmoid}(x)(1-\\mathrm{sigmoid}(x))$.  \n",
        "\n",
        "Hint: You can seek inspiration in the relu method in the Var class."
      ]
    },
    {
      "cell_type": "markdown",
      "metadata": {
        "id": "p_8n_SKnIW2F"
      },
      "source": [
        "## Exercise g) Complete the forward pass\n",
        "\n",
        "In the code below we initialize a 1-5-1 network and pass the training set through it. *The forward method in DenseLayer is **not** complete*. It just outputs zeros right now. The method forward should perform an [affine transformation](https://en.wikipedia.org/wiki/Affine_transformation) on the input followed by an application of the activation function."
      ]
    },
    {
      "cell_type": "code",
      "execution_count": 22,
      "metadata": {
        "colab": {
          "base_uri": "https://localhost:8080/"
        },
        "id": "xDEjtePxE7Mv",
        "outputId": "153ec64a-c895-4c9f-abd2-0a313632bb2b"
      },
      "outputs": [
        {
          "output_type": "stream",
          "name": "stdout",
          "text": [
            "[[Var(v=-0.0021, grad=0.0000)], [Var(v=-0.0042, grad=0.0000)], [Var(v=-0.0004, grad=0.0000)], [Var(v=-0.0103, grad=0.0000)], [Var(v=-0.0031, grad=0.0000)], [Var(v=-0.0029, grad=0.0000)], [Var(v=-0.0019, grad=0.0000)], [Var(v=-0.0025, grad=0.0000)], [Var(v=-0.0106, grad=0.0000)], [Var(v=-0.0012, grad=0.0000)], [Var(v=-0.0032, grad=0.0000)], [Var(v=-0.0066, grad=0.0000)], [Var(v=-0.0026, grad=0.0000)], [Var(v=-0.0075, grad=0.0000)], [Var(v=-0.0014, grad=0.0000)], [Var(v=-0.0027, grad=0.0000)], [Var(v=-0.0050, grad=0.0000)], [Var(v=-0.0024, grad=0.0000)], [Var(v=-0.0002, grad=0.0000)], [Var(v=-0.0008, grad=0.0000)], [Var(v=-0.0049, grad=0.0000)], [Var(v=-0.0022, grad=0.0000)], [Var(v=-0.0036, grad=0.0000)], [Var(v=-0.0037, grad=0.0000)], [Var(v=-0.0029, grad=0.0000)], [Var(v=-0.0077, grad=0.0000)], [Var(v=-0.0047, grad=0.0000)], [Var(v=-0.0052, grad=0.0000)], [Var(v=-0.0006, grad=0.0000)], [Var(v=-0.0033, grad=0.0000)], [Var(v=-0.0097, grad=0.0000)], [Var(v=-0.0008, grad=0.0000)], [Var(v=-0.0085, grad=0.0000)], [Var(v=-0.0092, grad=0.0000)], [Var(v=-0.0025, grad=0.0000)], [Var(v=-0.0017, grad=0.0000)], [Var(v=-0.0105, grad=0.0000)], [Var(v=-0.0040, grad=0.0000)], [Var(v=-0.0074, grad=0.0000)], [Var(v=-0.0053, grad=0.0000)], [Var(v=-0.0037, grad=0.0000)], [Var(v=-0.0051, grad=0.0000)], [Var(v=-0.0049, grad=0.0000)], [Var(v=-0.0063, grad=0.0000)], [Var(v=-0.0050, grad=0.0000)], [Var(v=-0.0061, grad=0.0000)], [Var(v=-0.0031, grad=0.0000)], [Var(v=-0.0030, grad=0.0000)], [Var(v=-0.0023, grad=0.0000)], [Var(v=-0.0030, grad=0.0000)], [Var(v=-0.0013, grad=0.0000)], [Var(v=-0.0001, grad=0.0000)], [Var(v=-0.0033, grad=0.0000)], [Var(v=-0.0052, grad=0.0000)], [Var(v=-0.0053, grad=0.0000)], [Var(v=-0.0046, grad=0.0000)], [Var(v=-0.0034, grad=0.0000)], [Var(v=-0.0038, grad=0.0000)], [Var(v=-0.0017, grad=0.0000)], [Var(v=-0.0091, grad=0.0000)], [Var(v=-0.0031, grad=0.0000)], [Var(v=-0.0064, grad=0.0000)], [Var(v=-0.0106, grad=0.0000)], [Var(v=-0.0015, grad=0.0000)], [Var(v=-0.0011, grad=0.0000)], [Var(v=-0.0087, grad=0.0000)], [Var(v=-0.0093, grad=0.0000)], [Var(v=-0.0039, grad=0.0000)], [Var(v=-0.0066, grad=0.0000)], [Var(v=-0.0015, grad=0.0000)], [Var(v=-0.0026, grad=0.0000)], [Var(v=-0.0011, grad=0.0000)], [Var(v=-0.0030, grad=0.0000)], [Var(v=-0.0018, grad=0.0000)], [Var(v=-0.0009, grad=0.0000)], [Var(v=-0.0048, grad=0.0000)], [Var(v=-0.0046, grad=0.0000)], [Var(v=-0.0044, grad=0.0000)], [Var(v=-0.0059, grad=0.0000)], [Var(v=-0.0050, grad=0.0000)], [Var(v=-0.0008, grad=0.0000)], [Var(v=-0.0005, grad=0.0000)], [Var(v=-0.0095, grad=0.0000)], [Var(v=-0.0013, grad=0.0000)], [Var(v=-0.0048, grad=0.0000)], [Var(v=-0.0021, grad=0.0000)], [Var(v=-0.0018, grad=0.0000)], [Var(v=-0.0054, grad=0.0000)], [Var(v=-0.0099, grad=0.0000)], [Var(v=-0.0103, grad=0.0000)], [Var(v=-0.0018, grad=0.0000)], [Var(v=-0.0031, grad=0.0000)], [Var(v=-0.0057, grad=0.0000)], [Var(v=-0.0028, grad=0.0000)], [Var(v=-0.0081, grad=0.0000)], [Var(v=-0.0098, grad=0.0000)], [Var(v=-0.0013, grad=0.0000)], [Var(v=-0.0002, grad=0.0000)], [Var(v=-0.0045, grad=0.0000)], [Var(v=-0.0058, grad=0.0000)], [Var(v=-0.0029, grad=0.0000)], [Var(v=-0.0056, grad=0.0000)], [Var(v=-0.0086, grad=0.0000)], [Var(v=-0.0014, grad=0.0000)], [Var(v=-0.0042, grad=0.0000)]]\n"
          ]
        }
      ],
      "source": [
        "NN = [\n",
        "    DenseLayer(1, 5, lambda x: x.relu()),\n",
        "    DenseLayer(5, 1, lambda x: x.identity())\n",
        "]\n",
        "\n",
        "def forward(input, network):\n",
        "\n",
        "  def forward_single(x, network):\n",
        "    for layer in network:\n",
        "        x = layer.forward(x)\n",
        "    return x\n",
        "\n",
        "  output = [ forward_single(input[n], network) for n in range(len(input))]\n",
        "  return output\n",
        "\n",
        "print(forward(x_train, NN))\n"
      ]
    },
    {
      "cell_type": "markdown",
      "metadata": {
        "id": "oLrGJytZFtGm"
      },
      "source": [
        "## Exercise h) Print all network parameters\n",
        "\n",
        "Make a function that prints all the parameters of the network (weights and biases) with information about in which layer the appear. In the object oriented spirit you should introduce a method in the DenseLayer class to print the parameters of a layer. Hint: You can take inspiration from the corresponding method in Var."
      ]
    },
    {
      "cell_type": "code",
      "execution_count": 23,
      "metadata": {
        "id": "iac-VwYGFtGm",
        "colab": {
          "base_uri": "https://localhost:8080/"
        },
        "outputId": "961745fe-1a5b-46d3-888c-5fa765c68c12"
      },
      "outputs": [
        {
          "output_type": "stream",
          "name": "stdout",
          "text": [
            "layer 0:\n",
            "Weights: [[Var(v=-0.0164, grad=0.0000), Var(v=-0.0551, grad=0.0000), Var(v=-0.0969, grad=0.0000), Var(v=0.0349, grad=0.0000), Var(v=0.0378, grad=0.0000)]] Biases: [Var(v=0.0000, grad=0.0000), Var(v=0.0000, grad=0.0000), Var(v=0.0000, grad=0.0000), Var(v=0.0000, grad=0.0000), Var(v=0.0000, grad=0.0000)]\n",
            "layer 1:\n",
            "Weights: [[Var(v=-0.1529, grad=0.0000)], [Var(v=0.1162, grad=0.0000)], [Var(v=-0.1103, grad=0.0000)], [Var(v=-0.0331, grad=0.0000)], [Var(v=-0.0464, grad=0.0000)]] Biases: [Var(v=0.0000, grad=0.0000)]\n"
          ]
        }
      ],
      "source": [
        "# Insert code here and in the DenseLayer class\n",
        "def print_nn(network):\n",
        "  for i, layer in enumerate(network):\n",
        "    print(f\"layer {i}:\")\n",
        "    print(layer)\n",
        "\n",
        "print_nn(NN)\n"
      ]
    },
    {
      "cell_type": "markdown",
      "metadata": {
        "id": "_79HOAXrFtHK"
      },
      "source": [
        "## Visualization\n",
        "\n",
        "Now that we have defined our activation functions we can visualize them to see what they look like:"
      ]
    },
    {
      "cell_type": "code",
      "execution_count": 24,
      "metadata": {
        "id": "1FcylHqLTl-Z",
        "colab": {
          "base_uri": "https://localhost:8080/",
          "height": 445
        },
        "outputId": "6932c7a4-6028-49d4-d321-5b0b5a7a0d9b"
      },
      "outputs": [
        {
          "output_type": "execute_result",
          "data": {
            "text/plain": [
              "[<matplotlib.lines.Line2D at 0x7d89501c5fc0>]"
            ]
          },
          "metadata": {},
          "execution_count": 24
        },
        {
          "output_type": "display_data",
          "data": {
            "text/plain": [
              "<Figure size 640x480 with 1 Axes>"
            ],
            "image/png": "[encoded data removed]"
          },
          "metadata": {}
        }
      ],
      "source": [
        "x = np.linspace(-6, 6, 100)\n",
        "\n",
        "# convert from Var to ndarray\n",
        "def Var_to_nparray(x):\n",
        "  y = np.zeros((len(x),len(x[0])))\n",
        "  for i in range(len(x)):\n",
        "    for j in range(len(x[0])):\n",
        "      y[i,j] = x[i][j].v\n",
        "  return y\n",
        "\n",
        "# define 1-1 network with weight = 1 and relu activation\n",
        "NN = [ DenseLayer(1, 1, lambda x: x.relu(), initializer = ConstantInitializer(1.0)) ]\n",
        "y = Var_to_nparray(forward(nparray_to_Var(x), NN))\n",
        "\n",
        "#y = Var_to_nparray(relu(nparray_to_Var(x)))\n",
        "plt.plot(x,y)"
      ]
    },
    {
      "cell_type": "code",
      "execution_count": 25,
      "metadata": {
        "id": "oOL2UolJFtHL",
        "colab": {
          "base_uri": "https://localhost:8080/",
          "height": 475
        },
        "outputId": "7f591a1a-00d2-4c6a-aaa3-80e41d3cfe11"
      },
      "outputs": [
        {
          "output_type": "display_data",
          "data": {
            "text/plain": [
              "<Figure size 500x500 with 1 Axes>"
            ],
            "image/png": "[encoded data removed]"
          },
          "metadata": {}
        }
      ],
      "source": [
        "# Testing all activation layers\n",
        "\n",
        "x = np.linspace(-6, 6, 100)\n",
        "units = {\n",
        "    \"identity\": lambda x: x.identity(),\n",
        "    \"sigmoid\": lambda x: x.sigmoid(),\n",
        "    \"relu\": lambda x: x.relu(),\n",
        "    \"tanh\": lambda x: x.tanh()\n",
        "}\n",
        "\n",
        "plt.figure(figsize=(5, 5))\n",
        "[plt.plot(x, Var_to_nparray(forward(nparray_to_Var(x), [DenseLayer(1, 1, unit, initializer = ConstantInitializer(1.0))]) ), label=unit_name, lw=2) for unit_name, unit in units.items()] # unit(nparray_to_Var(x))), label=unit_name, lw=2) for unit_name, unit in units.items()]\n",
        "plt.legend(loc=2, fontsize=16)\n",
        "plt.title('Our activation functions', fontsize=20)\n",
        "plt.ylim([-2, 5])\n",
        "plt.xlim([-6, 6])\n",
        "plt.show()"
      ]
    },
    {
      "cell_type": "markdown",
      "metadata": {
        "id": "b-jdEl-7FtGs"
      },
      "source": [
        "# Advanced initialization schemes\n",
        "\n",
        "If we are not careful with initialization, the signals we propagate forward ($a^{(l)}$, $l=1,\\ldots,L$) and backward ($\\delta^l$, $l=L,L-1,\\ldots,1$) can blow up or shrink to zero. A statistical analysis of the variance of the signals for different activation functions can be found in these two papers: [Glorot initialization](http://proceedings.mlr.press/v9/glorot10a/glorot10a.pdf) and [He initialization](https://arxiv.org/pdf/1502.01852v1.pdf).\n",
        "\n",
        "The result of the analyses are proposals for how to make the initialization such that the variance of the signals (forward and backward) are kept approxmimatly constant when propagating from layer to layer. The exact expressions depend upon the non-linear activation function used. In Glorot initialization, the aim is to keep both the forward and backward variances constant whereas He only aims at keeping the variance in the forward pass constant.\n",
        "\n",
        "We define $n_{in}$ and $n_{out}$ as the number of input units and output units of a particular layer.\n",
        "\n",
        "The Glorot initialization has the form:\n",
        "\n",
        "$$w_{ij} \\sim N \\bigg( 0, \\, \\frac{2 \\alpha }{n_{in} + n_{out}} \\bigg) \\ . $$\n",
        "\n",
        "where $N(\\mu,\\sigma^2)$ is a Gaussian distribution with mean $\\mu$ and variance $\\sigma^2$ and $\\alpha$ is a parameter that depends upon the activation function used. For $\\tanh$, $\\alpha=1$ and for Rectified Linear Unit (ReLU) activations, $\\alpha=2$. (It is also possible to use a uniform distribution for initialization, see [this blog post](https://mmuratarat.github.io/2019-02-25/xavier-glorot-he-weight-init).)\n",
        "\n",
        "The He initialization is very similar\n",
        "\n",
        "$$w_{ij} \\sim N \\bigg( 0, \\, \\frac{\\alpha}{n_{in}} \\bigg) \\ . $$"
      ]
    },
    {
      "cell_type": "markdown",
      "metadata": {
        "id": "mqeyab9qFtGs"
      },
      "source": [
        "## Exercise i) Glorot and He initialization\n",
        "\n",
        "Using the Initializer class, implement functions that implement Glorot and He\n",
        "\n",
        "Explain briefly how you would test numerically that these initializations have the sought after property. Hint: See plots in Glorot paper.\n",
        "\n",
        "Comment: If you want to be more advanced then try to make a universal initializer taking both the activation function and type (Glorot or He) as argument."
      ]
    },
    {
      "cell_type": "code",
      "execution_count": 26,
      "metadata": {
        "id": "Qyk01CgaFtGt"
      },
      "outputs": [],
      "source": [
        "## Glorot\n",
        "def DenseLayer_Glorot_tanh(n_in: int, n_out: int):\n",
        "  std = 2/(n_in + n_out) # <- replace with proper initialization\n",
        "  return DenseLayer(n_in, n_out, lambda x: x.tanh(), initializer = NormalInitializer(std))\n",
        "\n",
        "## He\n",
        "def DenseLayer_He_relu(n_in: int, n_out: int):\n",
        "  std = 2/n_in # <- replace with proper initialization\n",
        "  return DenseLayer(n_in, n_out, lambda x: x.relu(), initializer = NormalInitializer(std))"
      ]
    },
    {
      "cell_type": "markdown",
      "source": [
        "I would look at the signal variance. For proper initialization, these variances should remain approximately constant across layers."
      ],
      "metadata": {
        "id": "vi-jSMjnTVa3"
      }
    },
    {
      "cell_type": "markdown",
      "metadata": {
        "id": "-XyXBD37FtHk"
      },
      "source": [
        "## Exercise j) Forward pass unit test\n",
        "\n",
        "Write a bit of code to make a unit test that the forward pass works. This can be done by defining a simple network with for example all weights equal to one (using the ConstantInitializer method) and identity activation functions.\n",
        "\n",
        "Hints: Use the [assert](https://www.w3schools.com/python/ref_keyword_assert.asp), the nparray_to_Var and the Var_to_nparray commands."
      ]
    },
    {
      "cell_type": "code",
      "execution_count": 27,
      "metadata": {
        "id": "k0miqRUAFtHl",
        "colab": {
          "base_uri": "https://localhost:8080/",
          "height": 482
        },
        "outputId": "d1875c8a-9533-485f-de25-b7de83fbd970"
      },
      "outputs": [
        {
          "output_type": "stream",
          "name": "stdout",
          "text": [
            "[[Var(v=1.4426, grad=0.0000)], [Var(v=2.8995, grad=0.0000)], [Var(v=0.2632, grad=0.0000)], [Var(v=-3.0437, grad=0.0000)], [Var(v=2.1363, grad=0.0000)], [Var(v=1.9745, grad=0.0000)], [Var(v=1.2807, grad=0.0000)], [Var(v=-0.7312, grad=0.0000)], [Var(v=-3.1362, grad=0.0000)], [Var(v=0.7951, grad=0.0000)], [Var(v=2.2288, grad=0.0000)], [Var(v=-1.9337, grad=0.0000)], [Var(v=1.7895, grad=0.0000)], [Var(v=-2.2112, grad=0.0000)], [Var(v=0.9569, grad=0.0000)], [Var(v=1.8588, grad=0.0000)], [Var(v=3.4313, grad=0.0000)], [Var(v=1.6276, grad=0.0000)], [Var(v=0.1707, grad=0.0000)], [Var(v=0.5638, grad=0.0000)], [Var(v=-1.4481, grad=0.0000)], [Var(v=-0.6387, grad=0.0000)], [Var(v=2.5063, grad=0.0000)], [Var(v=2.5295, grad=0.0000)], [Var(v=-0.8468, grad=0.0000)], [Var(v=-2.2806, grad=0.0000)], [Var(v=3.2463, grad=0.0000)], [Var(v=3.5701, grad=0.0000)], [Var(v=0.3788, grad=0.0000)], [Var(v=2.2520, grad=0.0000)], [Var(v=-2.8587, grad=0.0000)], [Var(v=0.5407, grad=0.0000)], [Var(v=-2.4887, grad=0.0000)], [Var(v=-2.6968, grad=0.0000)], [Var(v=1.7201, grad=0.0000)], [Var(v=-0.4999, grad=0.0000)], [Var(v=-3.0900, grad=0.0000)], [Var(v=-1.1706, grad=0.0000)], [Var(v=-2.1881, grad=0.0000)], [Var(v=-1.5637, grad=0.0000)], [Var(v=-1.1012, grad=0.0000)], [Var(v=-1.4943, grad=0.0000)], [Var(v=3.3620, grad=0.0000)], [Var(v=-1.8643, grad=0.0000)], [Var(v=-1.4712, grad=0.0000)], [Var(v=-1.7950, grad=0.0000)], [Var(v=2.1595, grad=0.0000)], [Var(v=2.0438, grad=0.0000)], [Var(v=-0.6849, grad=0.0000)], [Var(v=2.0901, grad=0.0000)], [Var(v=0.9107, grad=0.0000)], [Var(v=0.0782, grad=0.0000)], [Var(v=2.2751, grad=0.0000)], [Var(v=-1.5175, grad=0.0000)], [Var(v=3.6164, grad=0.0000)], [Var(v=3.1770, grad=0.0000)], [Var(v=-1.0087, grad=0.0000)], [Var(v=-1.1243, grad=0.0000)], [Var(v=1.1882, grad=0.0000)], [Var(v=-2.6737, grad=0.0000)], [Var(v=2.1132, grad=0.0000)], [Var(v=-1.8875, grad=0.0000)], [Var(v=-3.1131, grad=0.0000)], [Var(v=1.0263, grad=0.0000)], [Var(v=0.7488, grad=0.0000)], [Var(v=-2.5581, grad=0.0000)], [Var(v=-2.7431, grad=0.0000)], [Var(v=2.6682, grad=0.0000)], [Var(v=-1.9568, grad=0.0000)], [Var(v=1.0494, grad=0.0000)], [Var(v=-0.7543, grad=0.0000)], [Var(v=-0.3381, grad=0.0000)], [Var(v=2.0670, grad=0.0000)], [Var(v=1.2113, grad=0.0000)], [Var(v=-0.2687, grad=0.0000)], [Var(v=3.2695, grad=0.0000)], [Var(v=-1.3556, grad=0.0000)], [Var(v=-1.3093, grad=0.0000)], [Var(v=-1.7256, grad=0.0000)], [Var(v=3.4082, grad=0.0000)], [Var(v=0.5176, grad=0.0000)], [Var(v=0.3094, grad=0.0000)], [Var(v=-2.8125, grad=0.0000)], [Var(v=-0.3843, grad=0.0000)], [Var(v=-1.4250, grad=0.0000)], [Var(v=-0.6156, grad=0.0000)], [Var(v=-0.5231, grad=0.0000)], [Var(v=-1.5868, grad=0.0000)], [Var(v=-2.9050, grad=0.0000)], [Var(v=-3.0206, grad=0.0000)], [Var(v=1.2344, grad=0.0000)], [Var(v=-0.9162, grad=0.0000)], [Var(v=-1.6793, grad=0.0000)], [Var(v=1.9282, grad=0.0000)], [Var(v=-2.3962, grad=0.0000)], [Var(v=-2.8818, grad=0.0000)], [Var(v=0.8876, grad=0.0000)], [Var(v=0.1476, grad=0.0000)], [Var(v=3.0845, grad=0.0000)], [Var(v=-1.7025, grad=0.0000)], [Var(v=2.0207, grad=0.0000)], [Var(v=-1.6562, grad=0.0000)], [Var(v=-2.5350, grad=0.0000)], [Var(v=0.9801, grad=0.0000)], [Var(v=2.8763, grad=0.0000)]]\n"
          ]
        },
        {
          "output_type": "execute_result",
          "data": {
            "text/plain": [
              "[<matplotlib.lines.Line2D at 0x7d89501ee500>]"
            ]
          },
          "metadata": {},
          "execution_count": 27
        },
        {
          "output_type": "display_data",
          "data": {
            "text/plain": [
              "<Figure size 640x480 with 1 Axes>"
            ],
            "image/png": "[encoded data removed]"
          },
          "metadata": {}
        }
      ],
      "source": [
        "# Insert code here\n",
        "NNunittest = [\n",
        "    DenseLayer(1, 2, lambda x: x.identity(), ConstantInitializer()),\n",
        "    DenseLayer(2, 1, lambda x: x.identity(), ConstantInitializer())\n",
        "]\n",
        "\n",
        "\n",
        "print(forward(x_train, NNunittest))\n",
        "\n",
        "y = Var_to_nparray(forward(nparray_to_Var(x), NNunittest))\n",
        "\n",
        "plt.plot(x,y)\n"
      ]
    },
    {
      "cell_type": "markdown",
      "source": [
        "All looks good"
      ],
      "metadata": {
        "id": "HLhFOmuE8H6S"
      }
    },
    {
      "cell_type": "markdown",
      "metadata": {
        "id": "faCxhfFnFtHp"
      },
      "source": [
        "# Loss functions\n",
        "\n",
        "We are only missing a loss function to we need to define a loss function and its derivative with respect to the output of the neural network $y$"
      ]
    },
    {
      "cell_type": "code",
      "execution_count": 28,
      "metadata": {
        "id": "I2eDYKvAFtHq"
      },
      "outputs": [],
      "source": [
        "def squared_loss(t, y):\n",
        "\n",
        "  # add check that sizes agree\n",
        "  assert len(t) == len(y),  \"Sizes don't match\"\n",
        "\n",
        "  def squared_loss_single(t, y):\n",
        "    Loss = Var(0.0)\n",
        "    for i in range(len(t)): # sum over outputs\n",
        "      Loss += (t[i]-y[i]) ** 2\n",
        "    return Loss\n",
        "\n",
        "  Loss = Var(0.0)\n",
        "  for n in range(len(t)): # sum over training data\n",
        "    Loss += squared_loss_single(t[n],y[n])\n",
        "  return Loss"
      ]
    },
    {
      "cell_type": "markdown",
      "metadata": {
        "id": "SrwSJ2UWFtHu"
      },
      "source": [
        "## Exercise k) Implement cross entropy loss\n",
        "\n",
        "Insert code below to implement cross-entropy loss for general dimensionality of $t$. Use a logits formulation:\n",
        "$$\n",
        "\\rm{Loss} = - \\sum_i t_i \\, log \\, p_i\n",
        "$$\n",
        "with $p$ given by the the softmax function in terms of the logits $h$:\n",
        "$$\n",
        "p_i = \\frac{\\exp(h_i)}{\\sum_{i'} \\exp(h_{i'})} .\n",
        "$$\n",
        "Inserting $p$ in the expression for the loss gives\n",
        "$$\n",
        "\\rm{Loss} = - \\sum_i t_i h_i + \\rm{LogSumExp}(h) \\ ,\n",
        "$$\n",
        "where\n",
        "$$\n",
        "\\rm{LogSumExp}(h) = \\log \\sum_i \\exp h_i \\ .\n",
        "$$\n",
        "This is true for $t$ being a one-hot vector.\n",
        "\n",
        "Call the function to convince yourself it works.\n",
        "\n",
        "In practice you want to implement a [numerically stable](https://leimao.github.io/blog/LogSumExp/) version of LogSumExp. But we will not bother about that here.\n",
        "\n",
        "Help: You can add these methods in the Var class:\n",
        "\n",
        "    def exp(self):\n",
        "        return Var(exp(self.v), lambda: [(self, exp(self.v))])\n",
        "    \n",
        "    def log(self):\n",
        "        return Var(log(self.v), lambda: [(self, self.v ** -1)])"
      ]
    },
    {
      "cell_type": "code",
      "execution_count": 29,
      "metadata": {
        "id": "6nMuxyfzFtHv"
      },
      "outputs": [],
      "source": [
        "def cross_entropy_loss(t, h):\n",
        "\n",
        "    Loss = Var(0.0)\n",
        "    SumExp = Var(0.0)\n",
        "    # Insert code here\n",
        "    for i in range(len(h)):\n",
        "      SumExp += h[i][0].exp()\n",
        "      Loss += -t[i][0]*h[i][0]\n",
        "\n",
        "    LogSumExp = SumExp.log()\n",
        "\n",
        "    Loss += LogSumExp\n",
        "    return Loss"
      ]
    },
    {
      "cell_type": "markdown",
      "metadata": {
        "id": "8fAF5ew4FtHy"
      },
      "source": [
        "# Backward pass\n",
        "\n",
        "Now the magic happens! We get the calculation of the gradients for free. Just do:"
      ]
    },
    {
      "cell_type": "code",
      "execution_count": 30,
      "metadata": {
        "id": "iHyfPPI9Qqwu"
      },
      "outputs": [],
      "source": [
        "NN = [\n",
        "    DenseLayer(1, 5, lambda x: x.relu()),\n",
        "    DenseLayer(5, 1, lambda x: x.identity())\n",
        "]\n",
        "\n",
        "output = forward(x_train, NN)\n",
        "\n",
        "Loss = cross_entropy_loss(y_train,output)\n",
        "Loss.backward()"
      ]
    },
    {
      "cell_type": "markdown",
      "metadata": {
        "id": "49biIAYKQ1oG"
      },
      "source": [
        "and the gradients will be calculated:"
      ]
    },
    {
      "cell_type": "code",
      "execution_count": 31,
      "metadata": {
        "id": "_rGt1bq_Q7uk",
        "colab": {
          "base_uri": "https://localhost:8080/"
        },
        "outputId": "7bbde594-f220-4913-b98f-64e79b7cb61b"
      },
      "outputs": [
        {
          "output_type": "stream",
          "name": "stdout",
          "text": [
            "Layer 0 \n",
            " Weights: [[Var(v=-0.0077, grad=1.0065), Var(v=-0.1111, grad=7.6610), Var(v=-0.0889, grad=2.9580), Var(v=0.0527, grad=5.1887), Var(v=0.0125, grad=-4.9692)]] Biases: [Var(v=0.0000, grad=-0.9171), Var(v=0.0000, grad=-6.9800), Var(v=0.0000, grad=-2.6951), Var(v=0.0000, grad=4.4449), Var(v=0.0000, grad=-4.2569)]\n",
            "Layer 1 \n",
            " Weights: [[Var(v=-0.0208, grad=0.3735)], [Var(v=-0.1582, grad=5.3825)], [Var(v=-0.0611, grad=4.3057)], [Var(v=-0.1030, grad=-2.6524)], [Var(v=0.0987, grad=-0.6307)]] Biases: [Var(v=0.0000, grad=1.0000)]\n"
          ]
        },
        {
          "output_type": "execute_result",
          "data": {
            "text/plain": [
              "[None, None]"
            ]
          },
          "metadata": {},
          "execution_count": 31
        }
      ],
      "source": [
        "[print('Layer', i, '\\n', NN[i]) for i in range(len(NN))]"
      ]
    },
    {
      "cell_type": "markdown",
      "metadata": {
        "id": "D7d7qK0uFtH9"
      },
      "source": [
        "# Backward pass unit test\n",
        "\n",
        "Above we used finite differences to test that Nanograd is actually doing what it is supposed to do. We can in principle try the same for the neural network. But we will trust that the test above is enough."
      ]
    },
    {
      "cell_type": "markdown",
      "metadata": {
        "id": "WgBi8GOSFtIN"
      },
      "source": [
        "# Training and validation\n",
        "\n",
        "We are ready to train some neural networks!\n",
        "\n",
        "We initialize again:"
      ]
    },
    {
      "cell_type": "code",
      "execution_count": 32,
      "metadata": {
        "id": "01ePmzBzRtdh"
      },
      "outputs": [],
      "source": [
        "NN = [\n",
        "    DenseLayer(1, 15, lambda x: x.relu()),\n",
        "    DenseLayer(15, 50, lambda x: x.relu()),\n",
        "    DenseLayer(50, 1, lambda x: x.identity())\n",
        "]\n",
        "\n",
        "output = forward(x_train, NN)\n",
        "\n",
        "Loss = squared_loss(y_train,output)\n",
        "Loss.backward()"
      ]
    },
    {
      "cell_type": "markdown",
      "metadata": {
        "id": "10iRPiQ1ISHw"
      },
      "source": [
        "and make an update:\n",
        "\n",
        "We introduce a help function parameters to have a handle in all parameters in the network."
      ]
    },
    {
      "cell_type": "code",
      "execution_count": 33,
      "metadata": {
        "id": "dhAI7eyeznia",
        "colab": {
          "base_uri": "https://localhost:8080/"
        },
        "outputId": "076ac889-3f18-4491-e827-ee9c04d57369"
      },
      "outputs": [
        {
          "output_type": "stream",
          "name": "stdout",
          "text": [
            "Network before update:\n",
            "Layer 0 \n",
            " Weights: [[Var(v=-0.1060, grad=4.1110), Var(v=-0.0801, grad=-7.4117), Var(v=-0.0681, grad=-2.2153), Var(v=-0.0416, grad=1.9843), Var(v=0.0560, grad=2.6546), Var(v=0.0393, grad=-4.5270), Var(v=0.0234, grad=-2.7479), Var(v=-0.2546, grad=2.8923), Var(v=0.0751, grad=-4.2748), Var(v=-0.0153, grad=-4.5875), Var(v=0.0852, grad=7.4600), Var(v=0.0104, grad=-0.1961), Var(v=-0.0510, grad=2.1512), Var(v=-0.0912, grad=8.0060), Var(v=0.0643, grad=8.7690)]] Biases: [Var(v=0.0000, grad=-3.7357), Var(v=0.0000, grad=6.7352), Var(v=0.0000, grad=2.0131), Var(v=0.0000, grad=-1.8032), Var(v=0.0000, grad=2.2800), Var(v=0.0000, grad=-3.8881), Var(v=0.0000, grad=-2.3601), Var(v=0.0000, grad=-2.6283), Var(v=0.0000, grad=-3.6715), Var(v=0.0000, grad=4.1687), Var(v=0.0000, grad=6.4071), Var(v=0.0000, grad=-0.1684), Var(v=0.0000, grad=-1.9549), Var(v=0.0000, grad=-7.2752), Var(v=0.0000, grad=7.5314)]\n",
            "Layer 1 \n",
            " Weights: [[Var(v=-0.0547, grad=-0.7835), Var(v=-0.0783, grad=0.0000), Var(v=-0.2265, grad=0.0000), Var(v=0.1865, grad=-0.7613), Var(v=-0.0378, grad=-0.4180), Var(v=-0.0681, grad=0.0000), Var(v=-0.0361, grad=0.0000), Var(v=-0.0316, grad=1.7139), Var(v=-0.0844, grad=-2.1534), Var(v=0.0403, grad=-0.0121), Var(v=0.0874, grad=-0.4067), Var(v=-0.0186, grad=0.0000), Var(v=-0.0026, grad=0.0000), Var(v=-0.0911, grad=0.0000), Var(v=-0.0162, grad=-0.1281), Var(v=-0.1614, grad=-0.1896), Var(v=-0.0092, grad=0.0000), Var(v=-0.0988, grad=-0.7564), Var(v=-0.0691, grad=-0.0703), Var(v=-0.0857, grad=0.0000), Var(v=0.0520, grad=0.0000), Var(v=0.0014, grad=0.0000), Var(v=0.0587, grad=0.6760), Var(v=0.0949, grad=0.0000), Var(v=-0.0943, grad=0.0000), Var(v=0.1983, grad=0.0000), Var(v=-0.0252, grad=-0.9810), Var(v=-0.0300, grad=-1.6550), Var(v=0.1928, grad=-0.6962), Var(v=0.0123, grad=-1.1852), Var(v=-0.0562, grad=0.0000), Var(v=0.0906, grad=0.0000), Var(v=-0.0291, grad=-0.8921), Var(v=-0.0585, grad=0.0000), Var(v=-0.0505, grad=-0.5719), Var(v=-0.0687, grad=0.0000), Var(v=-0.2277, grad=0.0000), Var(v=0.0021, grad=2.5463), Var(v=-0.0271, grad=-1.2779), Var(v=-0.1654, grad=0.0000), Var(v=0.0325, grad=-0.7292), Var(v=-0.0751, grad=0.0000), Var(v=-0.0210, grad=0.0000), Var(v=-0.0910, grad=0.0000), Var(v=-0.2003, grad=1.5154), Var(v=0.0141, grad=-1.6966), Var(v=0.0206, grad=-1.9378), Var(v=-0.0862, grad=1.7866), Var(v=-0.0457, grad=0.0000), Var(v=-0.0861, grad=0.8280)], [Var(v=-0.0103, grad=-0.5924), Var(v=0.0450, grad=0.0000), Var(v=-0.0562, grad=0.0000), Var(v=-0.0371, grad=-0.5756), Var(v=-0.0148, grad=-0.3160), Var(v=-0.0710, grad=0.0000), Var(v=0.0027, grad=0.0000), Var(v=0.0808, grad=1.2958), Var(v=0.0882, grad=-1.6280), Var(v=0.1027, grad=-0.0092), Var(v=0.1053, grad=-0.3075), Var(v=0.0533, grad=0.0000), Var(v=0.0445, grad=0.0000), Var(v=-0.1276, grad=0.0000), Var(v=0.1056, grad=-0.0968), Var(v=0.0950, grad=-0.1433), Var(v=-0.0053, grad=0.0000), Var(v=-0.0515, grad=-0.5718), Var(v=0.0714, grad=-0.0531), Var(v=-0.0108, grad=0.0000), Var(v=-0.0702, grad=0.0000), Var(v=-0.0506, grad=0.0000), Var(v=0.1230, grad=0.5111), Var(v=0.0518, grad=0.0000), Var(v=-0.0888, grad=0.0000), Var(v=0.0360, grad=0.0000), Var(v=-0.1748, grad=-0.7416), Var(v=-0.0294, grad=-1.2512), Var(v=0.0089, grad=-0.5263), Var(v=-0.0702, grad=-0.8960), Var(v=-0.0749, grad=0.0000), Var(v=-0.0212, grad=0.0000), Var(v=0.0383, grad=-0.6744), Var(v=0.1071, grad=0.0000), Var(v=-0.0211, grad=-0.4323), Var(v=-0.1523, grad=0.0000), Var(v=0.1357, grad=0.0000), Var(v=0.1291, grad=1.9250), Var(v=-0.0301, grad=-0.9661), Var(v=-0.1480, grad=0.0000), Var(v=-0.0263, grad=-0.5513), Var(v=-0.0661, grad=0.0000), Var(v=-0.1489, grad=0.0000), Var(v=0.0757, grad=0.0000), Var(v=0.0001, grad=1.1457), Var(v=0.1161, grad=-1.2827), Var(v=0.0020, grad=-1.4650), Var(v=0.0544, grad=1.3507), Var(v=-0.0337, grad=0.0000), Var(v=0.2357, grad=0.6259)], [Var(v=-0.0112, grad=-0.5035), Var(v=0.1387, grad=0.0000), Var(v=-0.1835, grad=0.0000), Var(v=-0.1106, grad=-0.4892), Var(v=0.0347, grad=-0.2686), Var(v=-0.0448, grad=0.0000), Var(v=-0.0250, grad=0.0000), Var(v=0.1450, grad=1.1014), Var(v=0.1228, grad=-1.3838), Var(v=0.1095, grad=-0.0078), Var(v=0.0362, grad=-0.2614), Var(v=-0.0333, grad=0.0000), Var(v=-0.1239, grad=0.0000), Var(v=-0.0709, grad=0.0000), Var(v=-0.0684, grad=-0.0823), Var(v=-0.0140, grad=-0.1218), Var(v=-0.1735, grad=0.0000), Var(v=0.0567, grad=-0.4861), Var(v=0.0034, grad=-0.0452), Var(v=0.1129, grad=0.0000), Var(v=-0.1567, grad=0.0000), Var(v=-0.0346, grad=0.0000), Var(v=-0.1252, grad=0.4344), Var(v=0.1103, grad=0.0000), Var(v=-0.0230, grad=0.0000), Var(v=-0.1889, grad=0.0000), Var(v=-0.0490, grad=-0.6304), Var(v=0.0408, grad=-1.0635), Var(v=-0.1943, grad=-0.4474), Var(v=-0.0598, grad=-0.7616), Var(v=-0.0154, grad=0.0000), Var(v=-0.0703, grad=0.0000), Var(v=-0.0456, grad=-0.5733), Var(v=0.0674, grad=0.0000), Var(v=0.1709, grad=-0.3675), Var(v=0.1223, grad=0.0000), Var(v=-0.1882, grad=0.0000), Var(v=-0.0488, grad=1.6363), Var(v=0.1038, grad=-0.8212), Var(v=0.0581, grad=0.0000), Var(v=-0.0479, grad=-0.4686), Var(v=0.0426, grad=0.0000), Var(v=-0.0783, grad=0.0000), Var(v=0.1579, grad=0.0000), Var(v=0.0194, grad=0.9738), Var(v=0.0534, grad=-1.0903), Var(v=-0.0891, grad=-1.2453), Var(v=0.1314, grad=1.1481), Var(v=-0.0938, grad=0.0000), Var(v=0.0612, grad=0.5321)], [Var(v=-0.0813, grad=-0.3078), Var(v=-0.0014, grad=0.0000), Var(v=-0.0017, grad=0.0000), Var(v=-0.0237, grad=-0.2990), Var(v=0.0572, grad=-0.1642), Var(v=-0.0557, grad=0.0000), Var(v=-0.1845, grad=0.0000), Var(v=-0.0279, grad=0.6732), Var(v=-0.1292, grad=-0.8458), Var(v=-0.0526, grad=-0.0048), Var(v=0.1183, grad=-0.1598), Var(v=-0.0194, grad=0.0000), Var(v=0.0312, grad=0.0000), Var(v=-0.1160, grad=0.0000), Var(v=0.0102, grad=-0.0503), Var(v=-0.2001, grad=-0.0745), Var(v=-0.1558, grad=0.0000), Var(v=-0.0743, grad=-0.2971), Var(v=-0.0045, grad=-0.0276), Var(v=0.0119, grad=0.0000), Var(v=-0.0531, grad=0.0000), Var(v=0.0736, grad=0.0000), Var(v=-0.0191, grad=0.2655), Var(v=-0.1516, grad=0.0000), Var(v=0.0873, grad=0.0000), Var(v=-0.0035, grad=0.0000), Var(v=0.2560, grad=-0.3853), Var(v=-0.0726, grad=-0.6501), Var(v=0.1605, grad=-0.2735), Var(v=0.0144, grad=-0.4655), Var(v=0.0987, grad=0.0000), Var(v=-0.1629, grad=0.0000), Var(v=0.1126, grad=-0.3504), Var(v=-0.1491, grad=0.0000), Var(v=0.0328, grad=-0.2246), Var(v=0.0660, grad=0.0000), Var(v=-0.2223, grad=0.0000), Var(v=0.1096, grad=1.0001), Var(v=0.0371, grad=-0.5019), Var(v=0.0653, grad=0.0000), Var(v=0.0014, grad=-0.2864), Var(v=-0.0648, grad=0.0000), Var(v=-0.0361, grad=0.0000), Var(v=0.0189, grad=0.0000), Var(v=0.1046, grad=0.5952), Var(v=0.1007, grad=-0.6664), Var(v=0.3152, grad=-0.7611), Var(v=0.1006, grad=0.7018), Var(v=-0.1410, grad=0.0000), Var(v=0.0729, grad=0.3252)], [Var(v=-0.1483, grad=0.0000), Var(v=-0.0521, grad=0.0000), Var(v=0.0937, grad=-0.0438), Var(v=0.0901, grad=0.0000), Var(v=-0.2660, grad=0.0000), Var(v=0.0899, grad=-0.0096), Var(v=-0.1974, grad=0.0000), Var(v=-0.0537, grad=-0.9805), Var(v=0.0447, grad=0.0000), Var(v=0.0689, grad=0.0069), Var(v=-0.1562, grad=0.2327), Var(v=0.1357, grad=0.3705), Var(v=-0.0421, grad=0.5567), Var(v=0.0025, grad=0.0000), Var(v=-0.0160, grad=0.0733), Var(v=0.0223, grad=0.0000), Var(v=-0.0727, grad=0.0972), Var(v=0.1862, grad=0.4327), Var(v=0.0150, grad=0.0000), Var(v=-0.1027, grad=0.0000), Var(v=-0.1288, grad=0.0000), Var(v=-0.0507, grad=0.0000), Var(v=0.2428, grad=-0.3867), Var(v=0.0487, grad=0.0000), Var(v=-0.0214, grad=0.3709), Var(v=0.0239, grad=0.0000), Var(v=0.0543, grad=0.0000), Var(v=-0.0523, grad=0.0000), Var(v=0.2164, grad=0.0000), Var(v=0.0671, grad=0.6780), Var(v=-0.0134, grad=0.1588), Var(v=0.1992, grad=0.7973), Var(v=0.0930, grad=0.0000), Var(v=-0.1338, grad=0.0000), Var(v=0.0043, grad=0.3272), Var(v=0.0532, grad=0.0000), Var(v=-0.0133, grad=0.0000), Var(v=-0.0336, grad=0.0000), Var(v=0.0608, grad=0.7311), Var(v=-0.1062, grad=0.0000), Var(v=0.0619, grad=0.4172), Var(v=-0.0698, grad=0.0000), Var(v=-0.1605, grad=0.0000), Var(v=-0.0501, grad=0.1389), Var(v=0.0159, grad=0.0000), Var(v=-0.1205, grad=0.0000), Var(v=-0.0563, grad=1.1086), Var(v=0.0635, grad=-1.0221), Var(v=-0.0062, grad=0.0000), Var(v=-0.0423, grad=0.0000)], [Var(v=0.0699, grad=0.0000), Var(v=-0.0757, grad=0.0000), Var(v=0.0369, grad=-0.0307), Var(v=-0.2199, grad=0.0000), Var(v=-0.0026, grad=0.0000), Var(v=-0.0984, grad=-0.0067), Var(v=0.0874, grad=0.0000), Var(v=-0.0098, grad=-0.6880), Var(v=-0.1695, grad=0.0000), Var(v=0.1660, grad=0.0049), Var(v=-0.1493, grad=0.1633), Var(v=0.0252, grad=0.2600), Var(v=0.0732, grad=0.3906), Var(v=0.2199, grad=0.0000), Var(v=0.0312, grad=0.0514), Var(v=-0.0927, grad=0.0000), Var(v=-0.0760, grad=0.0682), Var(v=-0.1030, grad=0.3036), Var(v=-0.0924, grad=0.0000), Var(v=-0.0226, grad=0.0000), Var(v=0.0582, grad=0.0000), Var(v=0.1202, grad=0.0000), Var(v=0.0674, grad=-0.2713), Var(v=-0.0196, grad=0.0000), Var(v=0.0498, grad=0.2602), Var(v=0.0713, grad=0.0000), Var(v=0.0228, grad=0.0000), Var(v=-0.1813, grad=0.0000), Var(v=-0.1512, grad=0.0000), Var(v=-0.0198, grad=0.4757), Var(v=-0.0549, grad=0.1114), Var(v=-0.0076, grad=0.5594), Var(v=-0.1134, grad=0.0000), Var(v=0.0882, grad=0.0000), Var(v=-0.0024, grad=0.2296), Var(v=0.0314, grad=0.0000), Var(v=0.1590, grad=0.0000), Var(v=-0.1151, grad=0.0000), Var(v=-0.2485, grad=0.5130), Var(v=0.0294, grad=0.0000), Var(v=0.0227, grad=0.2927), Var(v=0.1722, grad=0.0000), Var(v=-0.0758, grad=0.0000), Var(v=0.0454, grad=0.0974), Var(v=-0.1281, grad=0.0000), Var(v=0.0268, grad=0.0000), Var(v=0.1349, grad=0.7778), Var(v=0.1728, grad=-0.7172), Var(v=0.1097, grad=0.0000), Var(v=-0.0114, grad=0.0000)], [Var(v=0.0379, grad=0.0000), Var(v=0.2082, grad=0.0000), Var(v=0.0844, grad=-0.0183), Var(v=-0.0153, grad=0.0000), Var(v=-0.0972, grad=0.0000), Var(v=0.0393, grad=-0.0040), Var(v=0.0708, grad=0.0000), Var(v=0.0435, grad=-0.4086), Var(v=0.1990, grad=0.0000), Var(v=0.2245, grad=0.0029), Var(v=0.0350, grad=0.0970), Var(v=-0.0675, grad=0.1544), Var(v=0.0841, grad=0.2320), Var(v=0.0131, grad=0.0000), Var(v=0.0050, grad=0.0305), Var(v=-0.3250, grad=0.0000), Var(v=-0.0832, grad=0.0405), Var(v=0.0857, grad=0.1803), Var(v=-0.1539, grad=0.0000), Var(v=-0.0160, grad=0.0000), Var(v=0.1258, grad=0.0000), Var(v=0.0910, grad=0.0000), Var(v=-0.0781, grad=-0.1611), Var(v=0.0382, grad=0.0000), Var(v=-0.0450, grad=0.1546), Var(v=-0.1017, grad=0.0000), Var(v=-0.0175, grad=0.0000), Var(v=0.0499, grad=0.0000), Var(v=-0.0727, grad=0.0000), Var(v=0.0404, grad=0.2825), Var(v=0.0345, grad=0.0662), Var(v=-0.1012, grad=0.3322), Var(v=-0.1065, grad=0.0000), Var(v=-0.1270, grad=0.0000), Var(v=-0.0681, grad=0.1363), Var(v=-0.0309, grad=0.0000), Var(v=-0.0167, grad=0.0000), Var(v=0.0109, grad=0.0000), Var(v=-0.0045, grad=0.3046), Var(v=0.1010, grad=0.0000), Var(v=-0.0378, grad=0.1738), Var(v=0.0867, grad=0.0000), Var(v=-0.0651, grad=0.0000), Var(v=0.0865, grad=0.0579), Var(v=0.0573, grad=0.0000), Var(v=0.1651, grad=0.0000), Var(v=-0.0361, grad=0.4620), Var(v=0.0632, grad=-0.4259), Var(v=0.1288, grad=0.0000), Var(v=-0.0869, grad=0.0000)], [Var(v=0.1159, grad=-1.8820), Var(v=-0.0545, grad=0.0000), Var(v=0.0638, grad=0.0000), Var(v=0.1446, grad=-1.8286), Var(v=0.0555, grad=-1.0040), Var(v=-0.2297, grad=0.0000), Var(v=-0.1525, grad=0.0000), Var(v=0.1165, grad=4.1167), Var(v=-0.0305, grad=-5.1722), Var(v=0.0397, grad=-0.0291), Var(v=-0.0056, grad=-0.9770), Var(v=-0.1636, grad=0.0000), Var(v=-0.1306, grad=0.0000), Var(v=-0.2461, grad=0.0000), Var(v=0.0733, grad=-0.3077), Var(v=0.0855, grad=-0.4554), Var(v=0.0598, grad=0.0000), Var(v=-0.0253, grad=-1.8168), Var(v=0.0094, grad=-0.1688), Var(v=-0.1336, grad=0.0000), Var(v=-0.0166, grad=0.0000), Var(v=-0.0037, grad=0.0000), Var(v=0.0901, grad=1.6237), Var(v=-0.1686, grad=0.0000), Var(v=-0.2334, grad=0.0000), Var(v=-0.1369, grad=0.0000), Var(v=0.2247, grad=-2.3562), Var(v=0.0985, grad=-3.9752), Var(v=0.0022, grad=-1.6722), Var(v=0.0301, grad=-2.8467), Var(v=-0.1590, grad=0.0000), Var(v=-0.0284, grad=0.0000), Var(v=0.0841, grad=-2.1427), Var(v=0.0112, grad=0.0000), Var(v=0.0184, grad=-1.3736), Var(v=-0.0117, grad=0.0000), Var(v=-0.0614, grad=0.0000), Var(v=0.0042, grad=6.1159), Var(v=0.1135, grad=-3.0695), Var(v=-0.0233, grad=0.0000), Var(v=-0.0280, grad=-1.7515), Var(v=-0.0652, grad=0.0000), Var(v=0.0323, grad=0.0000), Var(v=-0.0909, grad=0.0000), Var(v=0.0654, grad=3.6400), Var(v=0.0664, grad=-4.0751), Var(v=0.0088, grad=-4.6544), Var(v=0.1218, grad=4.2914), Var(v=-0.0465, grad=0.0000), Var(v=0.0357, grad=1.9887)], [Var(v=-0.1759, grad=0.0000), Var(v=0.0361, grad=0.0000), Var(v=0.0395, grad=-0.0587), Var(v=-0.0747, grad=0.0000), Var(v=0.0433, grad=0.0000), Var(v=0.2124, grad=-0.0128), Var(v=0.0392, grad=0.0000), Var(v=0.1712, grad=-1.3135), Var(v=-0.1221, grad=0.0000), Var(v=0.0168, grad=0.0093), Var(v=0.0331, grad=0.3117), Var(v=0.0025, grad=0.4963), Var(v=-0.0828, grad=0.7458), Var(v=-0.0760, grad=0.0000), Var(v=0.0030, grad=0.0982), Var(v=-0.0303, grad=0.0000), Var(v=0.1738, grad=0.1302), Var(v=0.0689, grad=0.5797), Var(v=-0.0899, grad=0.0000), Var(v=-0.0384, grad=0.0000), Var(v=-0.1207, grad=0.0000), Var(v=-0.0114, grad=0.0000), Var(v=-0.0089, grad=-0.5180), Var(v=-0.1159, grad=0.0000), Var(v=-0.0384, grad=0.4968), Var(v=-0.0084, grad=0.0000), Var(v=0.0056, grad=0.0000), Var(v=-0.2285, grad=0.0000), Var(v=-0.1167, grad=0.0000), Var(v=0.0847, grad=0.9083), Var(v=0.1211, grad=0.2127), Var(v=-0.0158, grad=1.0681), Var(v=-0.0514, grad=0.0000), Var(v=0.0566, grad=0.0000), Var(v=0.1122, grad=0.4383), Var(v=0.0607, grad=0.0000), Var(v=-0.1508, grad=0.0000), Var(v=0.0645, grad=0.0000), Var(v=-0.0859, grad=0.9793), Var(v=-0.2584, grad=0.0000), Var(v=0.1136, grad=0.5588), Var(v=0.0015, grad=0.0000), Var(v=-0.1191, grad=0.0000), Var(v=-0.0851, grad=0.1860), Var(v=0.0767, grad=0.0000), Var(v=0.0092, grad=0.0000), Var(v=0.0853, grad=1.4850), Var(v=0.2298, grad=-1.3692), Var(v=0.0027, grad=0.0000), Var(v=0.1201, grad=0.0000)], [Var(v=-0.0185, grad=-0.1132), Var(v=-0.1074, grad=0.0000), Var(v=0.2461, grad=0.0000), Var(v=0.1064, grad=-0.1100), Var(v=-0.1247, grad=-0.0604), Var(v=0.1946, grad=0.0000), Var(v=0.0050, grad=0.0000), Var(v=-0.0037, grad=0.2477), Var(v=0.0920, grad=-0.3112), Var(v=0.0010, grad=-0.0018), Var(v=0.0330, grad=-0.0588), Var(v=-0.0486, grad=0.0000), Var(v=-0.0402, grad=0.0000), Var(v=0.0458, grad=0.0000), Var(v=-0.1121, grad=-0.0185), Var(v=-0.0480, grad=-0.0274), Var(v=0.0079, grad=0.0000), Var(v=0.0762, grad=-0.1093), Var(v=-0.0618, grad=-0.0102), Var(v=0.0590, grad=0.0000), Var(v=-0.0057, grad=0.0000), Var(v=-0.0091, grad=0.0000), Var(v=0.1349, grad=0.0977), Var(v=0.0317, grad=0.0000), Var(v=0.0571, grad=0.0000), Var(v=-0.0046, grad=0.0000), Var(v=-0.0721, grad=-0.1418), Var(v=-0.0475, grad=-0.2392), Var(v=-0.0482, grad=-0.1006), Var(v=-0.0127, grad=-0.1713), Var(v=0.1202, grad=0.0000), Var(v=0.0092, grad=0.0000), Var(v=0.0432, grad=-0.1289), Var(v=0.0759, grad=0.0000), Var(v=0.0541, grad=-0.0826), Var(v=0.0285, grad=0.0000), Var(v=0.0821, grad=0.0000), Var(v=0.2240, grad=0.3680), Var(v=-0.0918, grad=-0.1847), Var(v=-0.0770, grad=0.0000), Var(v=-0.0608, grad=-0.1054), Var(v=-0.0236, grad=0.0000), Var(v=0.0624, grad=0.0000), Var(v=0.0533, grad=0.0000), Var(v=-0.0806, grad=0.2190), Var(v=0.0038, grad=-0.2452), Var(v=-0.0586, grad=-0.2800), Var(v=-0.0115, grad=0.2582), Var(v=-0.0902, grad=0.0000), Var(v=-0.2024, grad=0.1197)], [Var(v=-0.0034, grad=0.0000), Var(v=-0.0543, grad=0.0000), Var(v=-0.0082, grad=-0.0666), Var(v=0.0969, grad=0.0000), Var(v=0.0035, grad=0.0000), Var(v=-0.0674, grad=-0.0146), Var(v=-0.0302, grad=0.0000), Var(v=0.0996, grad=-1.4902), Var(v=0.0317, grad=0.0000), Var(v=-0.0888, grad=0.0105), Var(v=0.0472, grad=0.3536), Var(v=-0.0020, grad=0.5631), Var(v=0.1721, grad=0.8461), Var(v=-0.0271, grad=0.0000), Var(v=0.1504, grad=0.1114), Var(v=-0.1299, grad=0.0000), Var(v=-0.0062, grad=0.1477), Var(v=0.0275, grad=0.6576), Var(v=-0.1432, grad=0.0000), Var(v=-0.0699, grad=0.0000), Var(v=-0.0866, grad=0.0000), Var(v=0.0604, grad=0.0000), Var(v=-0.0276, grad=-0.5877), Var(v=-0.0800, grad=0.0000), Var(v=0.0093, grad=0.5637), Var(v=-0.2684, grad=0.0000), Var(v=-0.0983, grad=0.0000), Var(v=0.0099, grad=0.0000), Var(v=-0.0540, grad=0.0000), Var(v=0.0636, grad=1.0305), Var(v=-0.1348, grad=0.2414), Var(v=0.0277, grad=1.2118), Var(v=-0.0414, grad=0.0000), Var(v=0.0151, grad=0.0000), Var(v=0.1828, grad=0.4972), Var(v=-0.0395, grad=0.0000), Var(v=-0.0182, grad=0.0000), Var(v=-0.0679, grad=0.0000), Var(v=0.1381, grad=1.1111), Var(v=0.0331, grad=0.0000), Var(v=0.0258, grad=0.6340), Var(v=-0.0398, grad=0.0000), Var(v=0.0986, grad=0.0000), Var(v=0.0814, grad=0.2111), Var(v=-0.0353, grad=0.0000), Var(v=0.1000, grad=0.0000), Var(v=0.1146, grad=1.6848), Var(v=-0.0188, grad=-1.5534), Var(v=-0.0628, grad=0.0000), Var(v=-0.0316, grad=0.0000)], [Var(v=-0.0222, grad=0.0000), Var(v=-0.0684, grad=0.0000), Var(v=0.0734, grad=-0.0081), Var(v=-0.0860, grad=0.0000), Var(v=0.0198, grad=0.0000), Var(v=0.1665, grad=-0.0018), Var(v=0.1075, grad=0.0000), Var(v=0.0735, grad=-0.1817), Var(v=0.0684, grad=0.0000), Var(v=-0.0377, grad=0.0013), Var(v=0.0252, grad=0.0431), Var(v=-0.0362, grad=0.0687), Var(v=0.1100, grad=0.1032), Var(v=-0.0518, grad=0.0000), Var(v=-0.0647, grad=0.0136), Var(v=0.0627, grad=0.0000), Var(v=0.0106, grad=0.0180), Var(v=0.0739, grad=0.0802), Var(v=0.0483, grad=0.0000), Var(v=-0.0096, grad=0.0000), Var(v=-0.0034, grad=0.0000), Var(v=-0.1299, grad=0.0000), Var(v=0.0748, grad=-0.0717), Var(v=0.0358, grad=0.0000), Var(v=-0.0731, grad=0.0687), Var(v=-0.0117, grad=0.0000), Var(v=-0.1699, grad=0.0000), Var(v=-0.0085, grad=0.0000), Var(v=-0.0570, grad=0.0000), Var(v=-0.0735, grad=0.1257), Var(v=0.0055, grad=0.0294), Var(v=0.1897, grad=0.1478), Var(v=-0.0632, grad=0.0000), Var(v=-0.1740, grad=0.0000), Var(v=-0.0905, grad=0.0606), Var(v=-0.1143, grad=0.0000), Var(v=-0.0048, grad=0.0000), Var(v=-0.0354, grad=0.0000), Var(v=0.0788, grad=0.1355), Var(v=0.0383, grad=0.0000), Var(v=0.0323, grad=0.0773), Var(v=-0.0599, grad=0.0000), Var(v=-0.0890, grad=0.0000), Var(v=-0.0688, grad=0.0257), Var(v=0.0917, grad=0.0000), Var(v=-0.0232, grad=0.0000), Var(v=-0.0981, grad=0.2055), Var(v=-0.0145, grad=-0.1894), Var(v=0.0238, grad=0.0000), Var(v=-0.1138, grad=0.0000)], [Var(v=-0.0579, grad=-0.3773), Var(v=-0.0026, grad=0.0000), Var(v=-0.0938, grad=0.0000), Var(v=-0.2123, grad=-0.3666), Var(v=-0.0646, grad=-0.2013), Var(v=-0.0060, grad=0.0000), Var(v=0.1121, grad=0.0000), Var(v=0.0252, grad=0.8253), Var(v=0.2171, grad=-1.0369), Var(v=0.0977, grad=-0.0058), Var(v=0.2279, grad=-0.1959), Var(v=0.0853, grad=0.0000), Var(v=-0.0133, grad=0.0000), Var(v=-0.0255, grad=0.0000), Var(v=-0.0467, grad=-0.0617), Var(v=0.0153, grad=-0.0913), Var(v=-0.1714, grad=0.0000), Var(v=0.0379, grad=-0.3642), Var(v=0.0944, grad=-0.0338), Var(v=0.0884, grad=0.0000), Var(v=0.0856, grad=0.0000), Var(v=-0.0298, grad=0.0000), Var(v=0.0607, grad=0.3255), Var(v=0.0723, grad=0.0000), Var(v=0.0218, grad=0.0000), Var(v=0.0837, grad=0.0000), Var(v=0.0101, grad=-0.4723), Var(v=-0.0730, grad=-0.7969), Var(v=0.1094, grad=-0.3352), Var(v=-0.0471, grad=-0.5707), Var(v=-0.0795, grad=0.0000), Var(v=0.0845, grad=0.0000), Var(v=0.0366, grad=-0.4295), Var(v=-0.0074, grad=0.0000), Var(v=0.0278, grad=-0.2754), Var(v=0.0566, grad=0.0000), Var(v=0.0774, grad=0.0000), Var(v=-0.0711, grad=1.2260), Var(v=-0.0252, grad=-0.6153), Var(v=-0.0858, grad=0.0000), Var(v=-0.0866, grad=-0.3511), Var(v=-0.0881, grad=0.0000), Var(v=-0.1730, grad=0.0000), Var(v=0.0503, grad=0.0000), Var(v=-0.0472, grad=0.7297), Var(v=-0.1011, grad=-0.8169), Var(v=0.0662, grad=-0.9331), Var(v=0.0778, grad=0.8603), Var(v=-0.0684, grad=0.0000), Var(v=-0.0240, grad=0.3987)], [Var(v=-0.0793, grad=-0.6738), Var(v=0.0347, grad=0.0000), Var(v=-0.0502, grad=0.0000), Var(v=-0.0060, grad=-0.6547), Var(v=0.0833, grad=-0.3595), Var(v=-0.0934, grad=0.0000), Var(v=0.1378, grad=0.0000), Var(v=0.1180, grad=1.4740), Var(v=0.0121, grad=-1.8519), Var(v=0.0017, grad=-0.0104), Var(v=-0.0324, grad=-0.3498), Var(v=-0.0921, grad=0.0000), Var(v=0.0489, grad=0.0000), Var(v=-0.0476, grad=0.0000), Var(v=0.0964, grad=-0.1102), Var(v=0.0198, grad=-0.1630), Var(v=-0.0506, grad=0.0000), Var(v=0.2914, grad=-0.6505), Var(v=0.1344, grad=-0.0604), Var(v=0.0856, grad=0.0000), Var(v=0.0148, grad=0.0000), Var(v=-0.1252, grad=0.0000), Var(v=0.0287, grad=0.5814), Var(v=0.0160, grad=0.0000), Var(v=-0.1094, grad=0.0000), Var(v=0.0636, grad=0.0000), Var(v=-0.0918, grad=-0.8436), Var(v=0.1518, grad=-1.4233), Var(v=0.1917, grad=-0.5987), Var(v=0.2873, grad=-1.0192), Var(v=-0.0795, grad=0.0000), Var(v=0.0611, grad=0.0000), Var(v=0.0341, grad=-0.7672), Var(v=-0.0714, grad=0.0000), Var(v=0.0688, grad=-0.4918), Var(v=-0.0165, grad=0.0000), Var(v=0.2109, grad=0.0000), Var(v=0.0271, grad=2.1898), Var(v=0.0423, grad=-1.0990), Var(v=-0.0960, grad=0.0000), Var(v=0.1886, grad=-0.6271), Var(v=-0.0156, grad=0.0000), Var(v=-0.0811, grad=0.0000), Var(v=-0.0406, grad=0.0000), Var(v=0.0357, grad=1.3033), Var(v=0.0555, grad=-1.4591), Var(v=0.0090, grad=-1.6665), Var(v=0.0448, grad=1.5365), Var(v=0.0245, grad=0.0000), Var(v=-0.0468, grad=0.7120)], [Var(v=0.0165, grad=0.0000), Var(v=-0.0658, grad=0.0000), Var(v=-0.0201, grad=-0.0502), Var(v=-0.0026, grad=0.0000), Var(v=-0.1295, grad=0.0000), Var(v=0.0072, grad=-0.0110), Var(v=-0.1085, grad=0.0000), Var(v=0.0525, grad=-1.1243), Var(v=0.0340, grad=0.0000), Var(v=-0.0899, grad=0.0080), Var(v=0.1699, grad=0.2668), Var(v=-0.0099, grad=0.4248), Var(v=-0.0860, grad=0.6384), Var(v=-0.0244, grad=0.0000), Var(v=-0.0053, grad=0.0840), Var(v=-0.0140, grad=0.0000), Var(v=0.0216, grad=0.1115), Var(v=0.0179, grad=0.4962), Var(v=-0.0512, grad=0.0000), Var(v=-0.1864, grad=0.0000), Var(v=0.0178, grad=0.0000), Var(v=-0.1716, grad=0.0000), Var(v=-0.1015, grad=-0.4434), Var(v=-0.0168, grad=0.0000), Var(v=0.1301, grad=0.4253), Var(v=-0.1770, grad=0.0000), Var(v=0.0010, grad=0.0000), Var(v=-0.0296, grad=0.0000), Var(v=0.0558, grad=0.0000), Var(v=0.2619, grad=0.7774), Var(v=0.1242, grad=0.1821), Var(v=0.0592, grad=0.9142), Var(v=0.0898, grad=0.0000), Var(v=-0.0287, grad=0.0000), Var(v=-0.0302, grad=0.3751), Var(v=-0.0725, grad=0.0000), Var(v=0.0635, grad=0.0000), Var(v=0.0273, grad=0.0000), Var(v=0.1216, grad=0.8383), Var(v=-0.0035, grad=0.0000), Var(v=-0.0710, grad=0.4783), Var(v=-0.1775, grad=0.0000), Var(v=-0.0209, grad=0.0000), Var(v=0.1522, grad=0.1592), Var(v=-0.0759, grad=0.0000), Var(v=-0.2602, grad=0.0000), Var(v=0.1095, grad=1.2711), Var(v=-0.0209, grad=-1.1720), Var(v=-0.0383, grad=0.0000), Var(v=-0.0968, grad=0.0000)]] Biases: [Var(v=0.0000, grad=-6.7163), Var(v=0.0000, grad=0.0000), Var(v=0.0000, grad=-0.6714), Var(v=0.0000, grad=-6.5259), Var(v=0.0000, grad=-3.5831), Var(v=0.0000, grad=-0.1469), Var(v=0.0000, grad=0.0000), Var(v=0.0000, grad=-0.3346), Var(v=0.0000, grad=-18.4585), Var(v=0.0000, grad=0.0024), Var(v=0.0000, grad=0.0794), Var(v=0.0000, grad=5.6782), Var(v=0.0000, grad=8.5320), Var(v=0.0000, grad=0.0000), Var(v=0.0000, grad=0.0250), Var(v=0.0000, grad=-1.6251), Var(v=0.0000, grad=1.4898), Var(v=0.0000, grad=0.1477), Var(v=0.0000, grad=-0.6024), Var(v=0.0000, grad=0.0000), Var(v=0.0000, grad=0.0000), Var(v=0.0000, grad=0.0000), Var(v=0.0000, grad=-0.1320), Var(v=0.0000, grad=0.0000), Var(v=0.0000, grad=5.6840), Var(v=0.0000, grad=0.0000), Var(v=0.0000, grad=-8.4087), Var(v=0.0000, grad=-14.1867), Var(v=0.0000, grad=-5.9679), Var(v=0.0000, grad=0.2314), Var(v=0.0000, grad=2.4338), Var(v=0.0000, grad=12.2188), Var(v=0.0000, grad=-7.6468), Var(v=0.0000, grad=0.0000), Var(v=0.0000, grad=0.1117), Var(v=0.0000, grad=0.0000), Var(v=0.0000, grad=0.0000), Var(v=0.0000, grad=21.8263), Var(v=0.0000, grad=0.2495), Var(v=0.0000, grad=0.0000), Var(v=0.0000, grad=0.1424), Var(v=0.0000, grad=0.0000), Var(v=0.0000, grad=0.0000), Var(v=0.0000, grad=2.1283), Var(v=0.0000, grad=12.9903), Var(v=0.0000, grad=-14.5433), Var(v=0.0000, grad=0.3784), Var(v=0.0000, grad=-0.3488), Var(v=0.0000, grad=0.0000), Var(v=0.0000, grad=7.0972)]\n",
            "Layer 2 \n",
            " Weights: [[Var(v=-0.0781, grad=0.7825)], [Var(v=0.0526, grad=0.0000)], [Var(v=0.0076, grad=-1.0659)], [Var(v=-0.0759, grad=3.3437)], [Var(v=-0.0417, grad=1.5227)], [Var(v=0.0017, grad=-1.4830)], [Var(v=0.0257, grad=0.0000)], [Var(v=0.1708, grad=2.6995)], [Var(v=-0.2146, grad=0.6570)], [Var(v=-0.0012, grad=2.8036)], [Var(v=-0.0405, grad=2.7153)], [Var(v=-0.0645, grad=-0.6169)], [Var(v=-0.0970, grad=-0.6710)], [Var(v=0.0634, grad=0.0000)], [Var(v=-0.0128, grad=1.1718)], [Var(v=-0.0189, grad=0.4604)], [Var(v=-0.0169, grad=-0.5135)], [Var(v=-0.0754, grad=-0.9359)], [Var(v=-0.0070, grad=1.6064)], [Var(v=-0.0097, grad=0.0000)], [Var(v=-0.1043, grad=0.0000)], [Var(v=-0.1153, grad=0.0000)], [Var(v=0.0674, grad=2.9673)], [Var(v=-0.0381, grad=0.0000)], [Var(v=-0.0646, grad=-0.5342)], [Var(v=0.1063, grad=0.0000)], [Var(v=-0.0978, grad=3.6823)], [Var(v=-0.1649, grad=2.7141)], [Var(v=-0.0694, grad=3.5475)], [Var(v=-0.1181, grad=-1.0336)], [Var(v=-0.0277, grad=-0.3627)], [Var(v=-0.1389, grad=-1.5821)], [Var(v=-0.0889, grad=2.7080)], [Var(v=-0.1241, grad=0.0000)], [Var(v=-0.0570, grad=-0.1985)], [Var(v=0.0977, grad=0.0000)], [Var(v=-0.0653, grad=0.0000)], [Var(v=0.2537, grad=1.4345)], [Var(v=-0.1274, grad=2.3955)], [Var(v=0.1326, grad=0.0000)], [Var(v=-0.0727, grad=-0.7519)], [Var(v=0.1419, grad=0.0000)], [Var(v=0.1606, grad=0.0000)], [Var(v=-0.0242, grad=-1.0865)], [Var(v=0.1510, grad=0.0684)], [Var(v=-0.1691, grad=3.3586)], [Var(v=-0.1931, grad=-0.9924)], [Var(v=0.1780, grad=1.8118)], [Var(v=-0.0458, grad=0.0000)], [Var(v=0.0825, grad=1.6541)]] Biases: [Var(v=0.0000, grad=-1.9593)]\n",
            "\n",
            "Network after update:\n",
            "Layer 0 \n",
            " Weights: [[Var(v=-0.1471, grad=4.1110), Var(v=-0.0060, grad=-7.4117), Var(v=-0.0460, grad=-2.2153), Var(v=-0.0615, grad=1.9843), Var(v=0.0295, grad=2.6546), Var(v=0.0846, grad=-4.5270), Var(v=0.0508, grad=-2.7479), Var(v=-0.2836, grad=2.8923), Var(v=0.1178, grad=-4.2748), Var(v=0.0306, grad=-4.5875), Var(v=0.0106, grad=7.4600), Var(v=0.0123, grad=-0.1961), Var(v=-0.0726, grad=2.1512), Var(v=-0.1712, grad=8.0060), Var(v=-0.0234, grad=8.7690)]] Biases: [Var(v=0.0374, grad=-3.7357), Var(v=-0.0674, grad=6.7352), Var(v=-0.0201, grad=2.0131), Var(v=0.0180, grad=-1.8032), Var(v=-0.0228, grad=2.2800), Var(v=0.0389, grad=-3.8881), Var(v=0.0236, grad=-2.3601), Var(v=0.0263, grad=-2.6283), Var(v=0.0367, grad=-3.6715), Var(v=-0.0417, grad=4.1687), Var(v=-0.0641, grad=6.4071), Var(v=0.0017, grad=-0.1684), Var(v=0.0195, grad=-1.9549), Var(v=0.0728, grad=-7.2752), Var(v=-0.0753, grad=7.5314)]\n",
            "Layer 1 \n",
            " Weights: [[Var(v=-0.0468, grad=-0.7835), Var(v=-0.0783, grad=0.0000), Var(v=-0.2265, grad=0.0000), Var(v=0.1941, grad=-0.7613), Var(v=-0.0336, grad=-0.4180), Var(v=-0.0681, grad=0.0000), Var(v=-0.0361, grad=0.0000), Var(v=-0.0488, grad=1.7139), Var(v=-0.0629, grad=-2.1534), Var(v=0.0405, grad=-0.0121), Var(v=0.0915, grad=-0.4067), Var(v=-0.0186, grad=0.0000), Var(v=-0.0026, grad=0.0000), Var(v=-0.0911, grad=0.0000), Var(v=-0.0149, grad=-0.1281), Var(v=-0.1595, grad=-0.1896), Var(v=-0.0092, grad=0.0000), Var(v=-0.0912, grad=-0.7564), Var(v=-0.0684, grad=-0.0703), Var(v=-0.0857, grad=0.0000), Var(v=0.0520, grad=0.0000), Var(v=0.0014, grad=0.0000), Var(v=0.0520, grad=0.6760), Var(v=0.0949, grad=0.0000), Var(v=-0.0943, grad=0.0000), Var(v=0.1983, grad=0.0000), Var(v=-0.0153, grad=-0.9810), Var(v=-0.0135, grad=-1.6550), Var(v=0.1998, grad=-0.6962), Var(v=0.0242, grad=-1.1852), Var(v=-0.0562, grad=0.0000), Var(v=0.0906, grad=0.0000), Var(v=-0.0202, grad=-0.8921), Var(v=-0.0585, grad=0.0000), Var(v=-0.0448, grad=-0.5719), Var(v=-0.0687, grad=0.0000), Var(v=-0.2277, grad=0.0000), Var(v=-0.0233, grad=2.5463), Var(v=-0.0143, grad=-1.2779), Var(v=-0.1654, grad=0.0000), Var(v=0.0398, grad=-0.7292), Var(v=-0.0751, grad=0.0000), Var(v=-0.0210, grad=0.0000), Var(v=-0.0910, grad=0.0000), Var(v=-0.2155, grad=1.5154), Var(v=0.0311, grad=-1.6966), Var(v=0.0399, grad=-1.9378), Var(v=-0.1040, grad=1.7866), Var(v=-0.0457, grad=0.0000), Var(v=-0.0944, grad=0.8280)], [Var(v=-0.0044, grad=-0.5924), Var(v=0.0450, grad=0.0000), Var(v=-0.0562, grad=0.0000), Var(v=-0.0314, grad=-0.5756), Var(v=-0.0116, grad=-0.3160), Var(v=-0.0710, grad=0.0000), Var(v=0.0027, grad=0.0000), Var(v=0.0679, grad=1.2958), Var(v=0.1045, grad=-1.6280), Var(v=0.1028, grad=-0.0092), Var(v=0.1084, grad=-0.3075), Var(v=0.0533, grad=0.0000), Var(v=0.0445, grad=0.0000), Var(v=-0.1276, grad=0.0000), Var(v=0.1066, grad=-0.0968), Var(v=0.0965, grad=-0.1433), Var(v=-0.0053, grad=0.0000), Var(v=-0.0458, grad=-0.5718), Var(v=0.0720, grad=-0.0531), Var(v=-0.0108, grad=0.0000), Var(v=-0.0702, grad=0.0000), Var(v=-0.0506, grad=0.0000), Var(v=0.1179, grad=0.5111), Var(v=0.0518, grad=0.0000), Var(v=-0.0888, grad=0.0000), Var(v=0.0360, grad=0.0000), Var(v=-0.1674, grad=-0.7416), Var(v=-0.0169, grad=-1.2512), Var(v=0.0141, grad=-0.5263), Var(v=-0.0613, grad=-0.8960), Var(v=-0.0749, grad=0.0000), Var(v=-0.0212, grad=0.0000), Var(v=0.0450, grad=-0.6744), Var(v=0.1071, grad=0.0000), Var(v=-0.0167, grad=-0.4323), Var(v=-0.1523, grad=0.0000), Var(v=0.1357, grad=0.0000), Var(v=0.1098, grad=1.9250), Var(v=-0.0205, grad=-0.9661), Var(v=-0.1480, grad=0.0000), Var(v=-0.0208, grad=-0.5513), Var(v=-0.0661, grad=0.0000), Var(v=-0.1489, grad=0.0000), Var(v=0.0757, grad=0.0000), Var(v=-0.0113, grad=1.1457), Var(v=0.1290, grad=-1.2827), Var(v=0.0166, grad=-1.4650), Var(v=0.0409, grad=1.3507), Var(v=-0.0337, grad=0.0000), Var(v=0.2295, grad=0.6259)], [Var(v=-0.0062, grad=-0.5035), Var(v=0.1387, grad=0.0000), Var(v=-0.1835, grad=0.0000), Var(v=-0.1057, grad=-0.4892), Var(v=0.0374, grad=-0.2686), Var(v=-0.0448, grad=0.0000), Var(v=-0.0250, grad=0.0000), Var(v=0.1340, grad=1.1014), Var(v=0.1366, grad=-1.3838), Var(v=0.1095, grad=-0.0078), Var(v=0.0388, grad=-0.2614), Var(v=-0.0333, grad=0.0000), Var(v=-0.1239, grad=0.0000), Var(v=-0.0709, grad=0.0000), Var(v=-0.0676, grad=-0.0823), Var(v=-0.0127, grad=-0.1218), Var(v=-0.1735, grad=0.0000), Var(v=0.0615, grad=-0.4861), Var(v=0.0038, grad=-0.0452), Var(v=0.1129, grad=0.0000), Var(v=-0.1567, grad=0.0000), Var(v=-0.0346, grad=0.0000), Var(v=-0.1296, grad=0.4344), Var(v=0.1103, grad=0.0000), Var(v=-0.0230, grad=0.0000), Var(v=-0.1889, grad=0.0000), Var(v=-0.0427, grad=-0.6304), Var(v=0.0515, grad=-1.0635), Var(v=-0.1899, grad=-0.4474), Var(v=-0.0522, grad=-0.7616), Var(v=-0.0154, grad=0.0000), Var(v=-0.0703, grad=0.0000), Var(v=-0.0399, grad=-0.5733), Var(v=0.0674, grad=0.0000), Var(v=0.1746, grad=-0.3675), Var(v=0.1223, grad=0.0000), Var(v=-0.1882, grad=0.0000), Var(v=-0.0652, grad=1.6363), Var(v=0.1120, grad=-0.8212), Var(v=0.0581, grad=0.0000), Var(v=-0.0432, grad=-0.4686), Var(v=0.0426, grad=0.0000), Var(v=-0.0783, grad=0.0000), Var(v=0.1579, grad=0.0000), Var(v=0.0097, grad=0.9738), Var(v=0.0643, grad=-1.0903), Var(v=-0.0766, grad=-1.2453), Var(v=0.1199, grad=1.1481), Var(v=-0.0938, grad=0.0000), Var(v=0.0559, grad=0.5321)], [Var(v=-0.0782, grad=-0.3078), Var(v=-0.0014, grad=0.0000), Var(v=-0.0017, grad=0.0000), Var(v=-0.0207, grad=-0.2990), Var(v=0.0589, grad=-0.1642), Var(v=-0.0557, grad=0.0000), Var(v=-0.1845, grad=0.0000), Var(v=-0.0346, grad=0.6732), Var(v=-0.1208, grad=-0.8458), Var(v=-0.0526, grad=-0.0048), Var(v=0.1199, grad=-0.1598), Var(v=-0.0194, grad=0.0000), Var(v=0.0312, grad=0.0000), Var(v=-0.1160, grad=0.0000), Var(v=0.0107, grad=-0.0503), Var(v=-0.1993, grad=-0.0745), Var(v=-0.1558, grad=0.0000), Var(v=-0.0713, grad=-0.2971), Var(v=-0.0043, grad=-0.0276), Var(v=0.0119, grad=0.0000), Var(v=-0.0531, grad=0.0000), Var(v=0.0736, grad=0.0000), Var(v=-0.0218, grad=0.2655), Var(v=-0.1516, grad=0.0000), Var(v=0.0873, grad=0.0000), Var(v=-0.0035, grad=0.0000), Var(v=0.2598, grad=-0.3853), Var(v=-0.0661, grad=-0.6501), Var(v=0.1632, grad=-0.2735), Var(v=0.0191, grad=-0.4655), Var(v=0.0987, grad=0.0000), Var(v=-0.1629, grad=0.0000), Var(v=0.1161, grad=-0.3504), Var(v=-0.1491, grad=0.0000), Var(v=0.0350, grad=-0.2246), Var(v=0.0660, grad=0.0000), Var(v=-0.2223, grad=0.0000), Var(v=0.0996, grad=1.0001), Var(v=0.0421, grad=-0.5019), Var(v=0.0653, grad=0.0000), Var(v=0.0043, grad=-0.2864), Var(v=-0.0648, grad=0.0000), Var(v=-0.0361, grad=0.0000), Var(v=0.0189, grad=0.0000), Var(v=0.0987, grad=0.5952), Var(v=0.1073, grad=-0.6664), Var(v=0.3229, grad=-0.7611), Var(v=0.0936, grad=0.7018), Var(v=-0.1410, grad=0.0000), Var(v=0.0696, grad=0.3252)], [Var(v=-0.1483, grad=0.0000), Var(v=-0.0521, grad=0.0000), Var(v=0.0941, grad=-0.0438), Var(v=0.0901, grad=0.0000), Var(v=-0.2660, grad=0.0000), Var(v=0.0900, grad=-0.0096), Var(v=-0.1974, grad=0.0000), Var(v=-0.0439, grad=-0.9805), Var(v=0.0447, grad=0.0000), Var(v=0.0688, grad=0.0069), Var(v=-0.1586, grad=0.2327), Var(v=0.1319, grad=0.3705), Var(v=-0.0476, grad=0.5567), Var(v=0.0025, grad=0.0000), Var(v=-0.0167, grad=0.0733), Var(v=0.0223, grad=0.0000), Var(v=-0.0737, grad=0.0972), Var(v=0.1819, grad=0.4327), Var(v=0.0150, grad=0.0000), Var(v=-0.1027, grad=0.0000), Var(v=-0.1288, grad=0.0000), Var(v=-0.0507, grad=0.0000), Var(v=0.2467, grad=-0.3867), Var(v=0.0487, grad=0.0000), Var(v=-0.0251, grad=0.3709), Var(v=0.0239, grad=0.0000), Var(v=0.0543, grad=0.0000), Var(v=-0.0523, grad=0.0000), Var(v=0.2164, grad=0.0000), Var(v=0.0603, grad=0.6780), Var(v=-0.0150, grad=0.1588), Var(v=0.1912, grad=0.7973), Var(v=0.0930, grad=0.0000), Var(v=-0.1338, grad=0.0000), Var(v=0.0011, grad=0.3272), Var(v=0.0532, grad=0.0000), Var(v=-0.0133, grad=0.0000), Var(v=-0.0336, grad=0.0000), Var(v=0.0535, grad=0.7311), Var(v=-0.1062, grad=0.0000), Var(v=0.0577, grad=0.4172), Var(v=-0.0698, grad=0.0000), Var(v=-0.1605, grad=0.0000), Var(v=-0.0515, grad=0.1389), Var(v=0.0159, grad=0.0000), Var(v=-0.1205, grad=0.0000), Var(v=-0.0674, grad=1.1086), Var(v=0.0737, grad=-1.0221), Var(v=-0.0062, grad=0.0000), Var(v=-0.0423, grad=0.0000)], [Var(v=0.0699, grad=0.0000), Var(v=-0.0757, grad=0.0000), Var(v=0.0372, grad=-0.0307), Var(v=-0.2199, grad=0.0000), Var(v=-0.0026, grad=0.0000), Var(v=-0.0983, grad=-0.0067), Var(v=0.0874, grad=0.0000), Var(v=-0.0029, grad=-0.6880), Var(v=-0.1695, grad=0.0000), Var(v=0.1660, grad=0.0049), Var(v=-0.1510, grad=0.1633), Var(v=0.0226, grad=0.2600), Var(v=0.0693, grad=0.3906), Var(v=0.2199, grad=0.0000), Var(v=0.0307, grad=0.0514), Var(v=-0.0927, grad=0.0000), Var(v=-0.0767, grad=0.0682), Var(v=-0.1060, grad=0.3036), Var(v=-0.0924, grad=0.0000), Var(v=-0.0226, grad=0.0000), Var(v=0.0582, grad=0.0000), Var(v=0.1202, grad=0.0000), Var(v=0.0701, grad=-0.2713), Var(v=-0.0196, grad=0.0000), Var(v=0.0472, grad=0.2602), Var(v=0.0713, grad=0.0000), Var(v=0.0228, grad=0.0000), Var(v=-0.1813, grad=0.0000), Var(v=-0.1512, grad=0.0000), Var(v=-0.0245, grad=0.4757), Var(v=-0.0560, grad=0.1114), Var(v=-0.0132, grad=0.5594), Var(v=-0.1134, grad=0.0000), Var(v=0.0882, grad=0.0000), Var(v=-0.0047, grad=0.2296), Var(v=0.0314, grad=0.0000), Var(v=0.1590, grad=0.0000), Var(v=-0.1151, grad=0.0000), Var(v=-0.2536, grad=0.5130), Var(v=0.0294, grad=0.0000), Var(v=0.0197, grad=0.2927), Var(v=0.1722, grad=0.0000), Var(v=-0.0758, grad=0.0000), Var(v=0.0444, grad=0.0974), Var(v=-0.1281, grad=0.0000), Var(v=0.0268, grad=0.0000), Var(v=0.1271, grad=0.7778), Var(v=0.1799, grad=-0.7172), Var(v=0.1097, grad=0.0000), Var(v=-0.0114, grad=0.0000)], [Var(v=0.0379, grad=0.0000), Var(v=0.2082, grad=0.0000), Var(v=0.0845, grad=-0.0183), Var(v=-0.0153, grad=0.0000), Var(v=-0.0972, grad=0.0000), Var(v=0.0394, grad=-0.0040), Var(v=0.0708, grad=0.0000), Var(v=0.0476, grad=-0.4086), Var(v=0.1990, grad=0.0000), Var(v=0.2245, grad=0.0029), Var(v=0.0340, grad=0.0970), Var(v=-0.0690, grad=0.1544), Var(v=0.0818, grad=0.2320), Var(v=0.0131, grad=0.0000), Var(v=0.0047, grad=0.0305), Var(v=-0.3250, grad=0.0000), Var(v=-0.0836, grad=0.0405), Var(v=0.0839, grad=0.1803), Var(v=-0.1539, grad=0.0000), Var(v=-0.0160, grad=0.0000), Var(v=0.1258, grad=0.0000), Var(v=0.0910, grad=0.0000), Var(v=-0.0765, grad=-0.1611), Var(v=0.0382, grad=0.0000), Var(v=-0.0466, grad=0.1546), Var(v=-0.1017, grad=0.0000), Var(v=-0.0175, grad=0.0000), Var(v=0.0499, grad=0.0000), Var(v=-0.0727, grad=0.0000), Var(v=0.0376, grad=0.2825), Var(v=0.0339, grad=0.0662), Var(v=-0.1045, grad=0.3322), Var(v=-0.1065, grad=0.0000), Var(v=-0.1270, grad=0.0000), Var(v=-0.0695, grad=0.1363), Var(v=-0.0309, grad=0.0000), Var(v=-0.0167, grad=0.0000), Var(v=0.0109, grad=0.0000), Var(v=-0.0076, grad=0.3046), Var(v=0.1010, grad=0.0000), Var(v=-0.0395, grad=0.1738), Var(v=0.0867, grad=0.0000), Var(v=-0.0651, grad=0.0000), Var(v=0.0859, grad=0.0579), Var(v=0.0573, grad=0.0000), Var(v=0.1651, grad=0.0000), Var(v=-0.0408, grad=0.4620), Var(v=0.0674, grad=-0.4259), Var(v=0.1288, grad=0.0000), Var(v=-0.0869, grad=0.0000)], [Var(v=0.1347, grad=-1.8820), Var(v=-0.0545, grad=0.0000), Var(v=0.0638, grad=0.0000), Var(v=0.1629, grad=-1.8286), Var(v=0.0656, grad=-1.0040), Var(v=-0.2297, grad=0.0000), Var(v=-0.1525, grad=0.0000), Var(v=0.0754, grad=4.1167), Var(v=0.0213, grad=-5.1722), Var(v=0.0400, grad=-0.0291), Var(v=0.0042, grad=-0.9770), Var(v=-0.1636, grad=0.0000), Var(v=-0.1306, grad=0.0000), Var(v=-0.2461, grad=0.0000), Var(v=0.0764, grad=-0.3077), Var(v=0.0901, grad=-0.4554), Var(v=0.0598, grad=0.0000), Var(v=-0.0071, grad=-1.8168), Var(v=0.0111, grad=-0.1688), Var(v=-0.1336, grad=0.0000), Var(v=-0.0166, grad=0.0000), Var(v=-0.0037, grad=0.0000), Var(v=0.0738, grad=1.6237), Var(v=-0.1686, grad=0.0000), Var(v=-0.2334, grad=0.0000), Var(v=-0.1369, grad=0.0000), Var(v=0.2483, grad=-2.3562), Var(v=0.1382, grad=-3.9752), Var(v=0.0189, grad=-1.6722), Var(v=0.0586, grad=-2.8467), Var(v=-0.1590, grad=0.0000), Var(v=-0.0284, grad=0.0000), Var(v=0.1055, grad=-2.1427), Var(v=0.0112, grad=0.0000), Var(v=0.0322, grad=-1.3736), Var(v=-0.0117, grad=0.0000), Var(v=-0.0614, grad=0.0000), Var(v=-0.0569, grad=6.1159), Var(v=0.1442, grad=-3.0695), Var(v=-0.0233, grad=0.0000), Var(v=-0.0105, grad=-1.7515), Var(v=-0.0652, grad=0.0000), Var(v=0.0323, grad=0.0000), Var(v=-0.0909, grad=0.0000), Var(v=0.0290, grad=3.6400), Var(v=0.1071, grad=-4.0751), Var(v=0.0553, grad=-4.6544), Var(v=0.0789, grad=4.2914), Var(v=-0.0465, grad=0.0000), Var(v=0.0159, grad=1.9887)], [Var(v=-0.1759, grad=0.0000), Var(v=0.0361, grad=0.0000), Var(v=0.0401, grad=-0.0587), Var(v=-0.0747, grad=0.0000), Var(v=0.0433, grad=0.0000), Var(v=0.2125, grad=-0.0128), Var(v=0.0392, grad=0.0000), Var(v=0.1843, grad=-1.3135), Var(v=-0.1221, grad=0.0000), Var(v=0.0167, grad=0.0093), Var(v=0.0300, grad=0.3117), Var(v=-0.0025, grad=0.4963), Var(v=-0.0902, grad=0.7458), Var(v=-0.0760, grad=0.0000), Var(v=0.0020, grad=0.0982), Var(v=-0.0303, grad=0.0000), Var(v=0.1725, grad=0.1302), Var(v=0.0631, grad=0.5797), Var(v=-0.0899, grad=0.0000), Var(v=-0.0384, grad=0.0000), Var(v=-0.1207, grad=0.0000), Var(v=-0.0114, grad=0.0000), Var(v=-0.0037, grad=-0.5180), Var(v=-0.1159, grad=0.0000), Var(v=-0.0434, grad=0.4968), Var(v=-0.0084, grad=0.0000), Var(v=0.0056, grad=0.0000), Var(v=-0.2285, grad=0.0000), Var(v=-0.1167, grad=0.0000), Var(v=0.0756, grad=0.9083), Var(v=0.1190, grad=0.2127), Var(v=-0.0265, grad=1.0681), Var(v=-0.0514, grad=0.0000), Var(v=0.0566, grad=0.0000), Var(v=0.1078, grad=0.4383), Var(v=0.0607, grad=0.0000), Var(v=-0.1508, grad=0.0000), Var(v=0.0645, grad=0.0000), Var(v=-0.0957, grad=0.9793), Var(v=-0.2584, grad=0.0000), Var(v=0.1080, grad=0.5588), Var(v=0.0015, grad=0.0000), Var(v=-0.1191, grad=0.0000), Var(v=-0.0870, grad=0.1860), Var(v=0.0767, grad=0.0000), Var(v=0.0092, grad=0.0000), Var(v=0.0705, grad=1.4850), Var(v=0.2435, grad=-1.3692), Var(v=0.0027, grad=0.0000), Var(v=0.1201, grad=0.0000)], [Var(v=-0.0174, grad=-0.1132), Var(v=-0.1074, grad=0.0000), Var(v=0.2461, grad=0.0000), Var(v=0.1075, grad=-0.1100), Var(v=-0.1241, grad=-0.0604), Var(v=0.1946, grad=0.0000), Var(v=0.0050, grad=0.0000), Var(v=-0.0062, grad=0.2477), Var(v=0.0952, grad=-0.3112), Var(v=0.0011, grad=-0.0018), Var(v=0.0336, grad=-0.0588), Var(v=-0.0486, grad=0.0000), Var(v=-0.0402, grad=0.0000), Var(v=0.0458, grad=0.0000), Var(v=-0.1119, grad=-0.0185), Var(v=-0.0477, grad=-0.0274), Var(v=0.0079, grad=0.0000), Var(v=0.0773, grad=-0.1093), Var(v=-0.0617, grad=-0.0102), Var(v=0.0590, grad=0.0000), Var(v=-0.0057, grad=0.0000), Var(v=-0.0091, grad=0.0000), Var(v=0.1339, grad=0.0977), Var(v=0.0317, grad=0.0000), Var(v=0.0571, grad=0.0000), Var(v=-0.0046, grad=0.0000), Var(v=-0.0706, grad=-0.1418), Var(v=-0.0451, grad=-0.2392), Var(v=-0.0472, grad=-0.1006), Var(v=-0.0110, grad=-0.1713), Var(v=0.1202, grad=0.0000), Var(v=0.0092, grad=0.0000), Var(v=0.0445, grad=-0.1289), Var(v=0.0759, grad=0.0000), Var(v=0.0550, grad=-0.0826), Var(v=0.0285, grad=0.0000), Var(v=0.0821, grad=0.0000), Var(v=0.2203, grad=0.3680), Var(v=-0.0900, grad=-0.1847), Var(v=-0.0770, grad=0.0000), Var(v=-0.0598, grad=-0.1054), Var(v=-0.0236, grad=0.0000), Var(v=0.0624, grad=0.0000), Var(v=0.0533, grad=0.0000), Var(v=-0.0828, grad=0.2190), Var(v=0.0063, grad=-0.2452), Var(v=-0.0558, grad=-0.2800), Var(v=-0.0141, grad=0.2582), Var(v=-0.0902, grad=0.0000), Var(v=-0.2036, grad=0.1197)], [Var(v=-0.0034, grad=0.0000), Var(v=-0.0543, grad=0.0000), Var(v=-0.0075, grad=-0.0666), Var(v=0.0969, grad=0.0000), Var(v=0.0035, grad=0.0000), Var(v=-0.0673, grad=-0.0146), Var(v=-0.0302, grad=0.0000), Var(v=0.1145, grad=-1.4902), Var(v=0.0317, grad=0.0000), Var(v=-0.0889, grad=0.0105), Var(v=0.0436, grad=0.3536), Var(v=-0.0076, grad=0.5631), Var(v=0.1636, grad=0.8461), Var(v=-0.0271, grad=0.0000), Var(v=0.1493, grad=0.1114), Var(v=-0.1299, grad=0.0000), Var(v=-0.0077, grad=0.1477), Var(v=0.0209, grad=0.6576), Var(v=-0.1432, grad=0.0000), Var(v=-0.0699, grad=0.0000), Var(v=-0.0866, grad=0.0000), Var(v=0.0604, grad=0.0000), Var(v=-0.0218, grad=-0.5877), Var(v=-0.0800, grad=0.0000), Var(v=0.0036, grad=0.5637), Var(v=-0.2684, grad=0.0000), Var(v=-0.0983, grad=0.0000), Var(v=0.0099, grad=0.0000), Var(v=-0.0540, grad=0.0000), Var(v=0.0533, grad=1.0305), Var(v=-0.1372, grad=0.2414), Var(v=0.0156, grad=1.2118), Var(v=-0.0414, grad=0.0000), Var(v=0.0151, grad=0.0000), Var(v=0.1778, grad=0.4972), Var(v=-0.0395, grad=0.0000), Var(v=-0.0182, grad=0.0000), Var(v=-0.0679, grad=0.0000), Var(v=0.1270, grad=1.1111), Var(v=0.0331, grad=0.0000), Var(v=0.0195, grad=0.6340), Var(v=-0.0398, grad=0.0000), Var(v=0.0986, grad=0.0000), Var(v=0.0793, grad=0.2111), Var(v=-0.0353, grad=0.0000), Var(v=0.1000, grad=0.0000), Var(v=0.0977, grad=1.6848), Var(v=-0.0032, grad=-1.5534), Var(v=-0.0628, grad=0.0000), Var(v=-0.0316, grad=0.0000)], [Var(v=-0.0222, grad=0.0000), Var(v=-0.0684, grad=0.0000), Var(v=0.0735, grad=-0.0081), Var(v=-0.0860, grad=0.0000), Var(v=0.0198, grad=0.0000), Var(v=0.1665, grad=-0.0018), Var(v=0.1075, grad=0.0000), Var(v=0.0753, grad=-0.1817), Var(v=0.0684, grad=0.0000), Var(v=-0.0377, grad=0.0013), Var(v=0.0247, grad=0.0431), Var(v=-0.0369, grad=0.0687), Var(v=0.1090, grad=0.1032), Var(v=-0.0518, grad=0.0000), Var(v=-0.0648, grad=0.0136), Var(v=0.0627, grad=0.0000), Var(v=0.0104, grad=0.0180), Var(v=0.0731, grad=0.0802), Var(v=0.0483, grad=0.0000), Var(v=-0.0096, grad=0.0000), Var(v=-0.0034, grad=0.0000), Var(v=-0.1299, grad=0.0000), Var(v=0.0755, grad=-0.0717), Var(v=0.0358, grad=0.0000), Var(v=-0.0738, grad=0.0687), Var(v=-0.0117, grad=0.0000), Var(v=-0.1699, grad=0.0000), Var(v=-0.0085, grad=0.0000), Var(v=-0.0570, grad=0.0000), Var(v=-0.0748, grad=0.1257), Var(v=0.0052, grad=0.0294), Var(v=0.1882, grad=0.1478), Var(v=-0.0632, grad=0.0000), Var(v=-0.1740, grad=0.0000), Var(v=-0.0911, grad=0.0606), Var(v=-0.1143, grad=0.0000), Var(v=-0.0048, grad=0.0000), Var(v=-0.0354, grad=0.0000), Var(v=0.0774, grad=0.1355), Var(v=0.0383, grad=0.0000), Var(v=0.0315, grad=0.0773), Var(v=-0.0599, grad=0.0000), Var(v=-0.0890, grad=0.0000), Var(v=-0.0691, grad=0.0257), Var(v=0.0917, grad=0.0000), Var(v=-0.0232, grad=0.0000), Var(v=-0.1001, grad=0.2055), Var(v=-0.0126, grad=-0.1894), Var(v=0.0238, grad=0.0000), Var(v=-0.1138, grad=0.0000)], [Var(v=-0.0542, grad=-0.3773), Var(v=-0.0026, grad=0.0000), Var(v=-0.0938, grad=0.0000), Var(v=-0.2087, grad=-0.3666), Var(v=-0.0625, grad=-0.2013), Var(v=-0.0060, grad=0.0000), Var(v=0.1121, grad=0.0000), Var(v=0.0170, grad=0.8253), Var(v=0.2275, grad=-1.0369), Var(v=0.0977, grad=-0.0058), Var(v=0.2299, grad=-0.1959), Var(v=0.0853, grad=0.0000), Var(v=-0.0133, grad=0.0000), Var(v=-0.0255, grad=0.0000), Var(v=-0.0461, grad=-0.0617), Var(v=0.0162, grad=-0.0913), Var(v=-0.1714, grad=0.0000), Var(v=0.0415, grad=-0.3642), Var(v=0.0948, grad=-0.0338), Var(v=0.0884, grad=0.0000), Var(v=0.0856, grad=0.0000), Var(v=-0.0298, grad=0.0000), Var(v=0.0575, grad=0.3255), Var(v=0.0723, grad=0.0000), Var(v=0.0218, grad=0.0000), Var(v=0.0837, grad=0.0000), Var(v=0.0148, grad=-0.4723), Var(v=-0.0650, grad=-0.7969), Var(v=0.1127, grad=-0.3352), Var(v=-0.0414, grad=-0.5707), Var(v=-0.0795, grad=0.0000), Var(v=0.0845, grad=0.0000), Var(v=0.0409, grad=-0.4295), Var(v=-0.0074, grad=0.0000), Var(v=0.0306, grad=-0.2754), Var(v=0.0566, grad=0.0000), Var(v=0.0774, grad=0.0000), Var(v=-0.0834, grad=1.2260), Var(v=-0.0190, grad=-0.6153), Var(v=-0.0858, grad=0.0000), Var(v=-0.0831, grad=-0.3511), Var(v=-0.0881, grad=0.0000), Var(v=-0.1730, grad=0.0000), Var(v=0.0503, grad=0.0000), Var(v=-0.0545, grad=0.7297), Var(v=-0.0929, grad=-0.8169), Var(v=0.0755, grad=-0.9331), Var(v=0.0692, grad=0.8603), Var(v=-0.0684, grad=0.0000), Var(v=-0.0280, grad=0.3987)], [Var(v=-0.0726, grad=-0.6738), Var(v=0.0347, grad=0.0000), Var(v=-0.0502, grad=0.0000), Var(v=0.0005, grad=-0.6547), Var(v=0.0869, grad=-0.3595), Var(v=-0.0934, grad=0.0000), Var(v=0.1378, grad=0.0000), Var(v=0.1032, grad=1.4740), Var(v=0.0306, grad=-1.8519), Var(v=0.0018, grad=-0.0104), Var(v=-0.0289, grad=-0.3498), Var(v=-0.0921, grad=0.0000), Var(v=0.0489, grad=0.0000), Var(v=-0.0476, grad=0.0000), Var(v=0.0975, grad=-0.1102), Var(v=0.0215, grad=-0.1630), Var(v=-0.0506, grad=0.0000), Var(v=0.2979, grad=-0.6505), Var(v=0.1350, grad=-0.0604), Var(v=0.0856, grad=0.0000), Var(v=0.0148, grad=0.0000), Var(v=-0.1252, grad=0.0000), Var(v=0.0229, grad=0.5814), Var(v=0.0160, grad=0.0000), Var(v=-0.1094, grad=0.0000), Var(v=0.0636, grad=0.0000), Var(v=-0.0833, grad=-0.8436), Var(v=0.1660, grad=-1.4233), Var(v=0.1977, grad=-0.5987), Var(v=0.2975, grad=-1.0192), Var(v=-0.0795, grad=0.0000), Var(v=0.0611, grad=0.0000), Var(v=0.0418, grad=-0.7672), Var(v=-0.0714, grad=0.0000), Var(v=0.0737, grad=-0.4918), Var(v=-0.0165, grad=0.0000), Var(v=0.2109, grad=0.0000), Var(v=0.0052, grad=2.1898), Var(v=0.0533, grad=-1.0990), Var(v=-0.0960, grad=0.0000), Var(v=0.1949, grad=-0.6271), Var(v=-0.0156, grad=0.0000), Var(v=-0.0811, grad=0.0000), Var(v=-0.0406, grad=0.0000), Var(v=0.0227, grad=1.3033), Var(v=0.0701, grad=-1.4591), Var(v=0.0256, grad=-1.6665), Var(v=0.0295, grad=1.5365), Var(v=0.0245, grad=0.0000), Var(v=-0.0539, grad=0.7120)], [Var(v=0.0165, grad=0.0000), Var(v=-0.0658, grad=0.0000), Var(v=-0.0196, grad=-0.0502), Var(v=-0.0026, grad=0.0000), Var(v=-0.1295, grad=0.0000), Var(v=0.0073, grad=-0.0110), Var(v=-0.1085, grad=0.0000), Var(v=0.0637, grad=-1.1243), Var(v=0.0340, grad=0.0000), Var(v=-0.0900, grad=0.0080), Var(v=0.1672, grad=0.2668), Var(v=-0.0142, grad=0.4248), Var(v=-0.0923, grad=0.6384), Var(v=-0.0244, grad=0.0000), Var(v=-0.0061, grad=0.0840), Var(v=-0.0140, grad=0.0000), Var(v=0.0205, grad=0.1115), Var(v=0.0130, grad=0.4962), Var(v=-0.0512, grad=0.0000), Var(v=-0.1864, grad=0.0000), Var(v=0.0178, grad=0.0000), Var(v=-0.1716, grad=0.0000), Var(v=-0.0970, grad=-0.4434), Var(v=-0.0168, grad=0.0000), Var(v=0.1258, grad=0.4253), Var(v=-0.1770, grad=0.0000), Var(v=0.0010, grad=0.0000), Var(v=-0.0296, grad=0.0000), Var(v=0.0558, grad=0.0000), Var(v=0.2541, grad=0.7774), Var(v=0.1224, grad=0.1821), Var(v=0.0500, grad=0.9142), Var(v=0.0898, grad=0.0000), Var(v=-0.0287, grad=0.0000), Var(v=-0.0340, grad=0.3751), Var(v=-0.0725, grad=0.0000), Var(v=0.0635, grad=0.0000), Var(v=0.0273, grad=0.0000), Var(v=0.1132, grad=0.8383), Var(v=-0.0035, grad=0.0000), Var(v=-0.0758, grad=0.4783), Var(v=-0.1775, grad=0.0000), Var(v=-0.0209, grad=0.0000), Var(v=0.1507, grad=0.1592), Var(v=-0.0759, grad=0.0000), Var(v=-0.2602, grad=0.0000), Var(v=0.0968, grad=1.2711), Var(v=-0.0092, grad=-1.1720), Var(v=-0.0383, grad=0.0000), Var(v=-0.0968, grad=0.0000)]] Biases: [Var(v=0.0672, grad=-6.7163), Var(v=0.0000, grad=0.0000), Var(v=0.0067, grad=-0.6714), Var(v=0.0653, grad=-6.5259), Var(v=0.0358, grad=-3.5831), Var(v=0.0015, grad=-0.1469), Var(v=0.0000, grad=0.0000), Var(v=0.0033, grad=-0.3346), Var(v=0.1846, grad=-18.4585), Var(v=-0.0000, grad=0.0024), Var(v=-0.0008, grad=0.0794), Var(v=-0.0568, grad=5.6782), Var(v=-0.0853, grad=8.5320), Var(v=0.0000, grad=0.0000), Var(v=-0.0003, grad=0.0250), Var(v=0.0163, grad=-1.6251), Var(v=-0.0149, grad=1.4898), Var(v=-0.0015, grad=0.1477), Var(v=0.0060, grad=-0.6024), Var(v=0.0000, grad=0.0000), Var(v=0.0000, grad=0.0000), Var(v=0.0000, grad=0.0000), Var(v=0.0013, grad=-0.1320), Var(v=0.0000, grad=0.0000), Var(v=-0.0568, grad=5.6840), Var(v=0.0000, grad=0.0000), Var(v=0.0841, grad=-8.4087), Var(v=0.1419, grad=-14.1867), Var(v=0.0597, grad=-5.9679), Var(v=-0.0023, grad=0.2314), Var(v=-0.0243, grad=2.4338), Var(v=-0.1222, grad=12.2188), Var(v=0.0765, grad=-7.6468), Var(v=0.0000, grad=0.0000), Var(v=-0.0011, grad=0.1117), Var(v=0.0000, grad=0.0000), Var(v=0.0000, grad=0.0000), Var(v=-0.2183, grad=21.8263), Var(v=-0.0025, grad=0.2495), Var(v=0.0000, grad=0.0000), Var(v=-0.0014, grad=0.1424), Var(v=0.0000, grad=0.0000), Var(v=0.0000, grad=0.0000), Var(v=-0.0213, grad=2.1283), Var(v=-0.1299, grad=12.9903), Var(v=0.1454, grad=-14.5433), Var(v=-0.0038, grad=0.3784), Var(v=0.0035, grad=-0.3488), Var(v=0.0000, grad=0.0000), Var(v=-0.0710, grad=7.0972)]\n",
            "Layer 2 \n",
            " Weights: [[Var(v=-0.0859, grad=0.7825)], [Var(v=0.0526, grad=0.0000)], [Var(v=0.0183, grad=-1.0659)], [Var(v=-0.1093, grad=3.3437)], [Var(v=-0.0569, grad=1.5227)], [Var(v=0.0165, grad=-1.4830)], [Var(v=0.0257, grad=0.0000)], [Var(v=0.1438, grad=2.6995)], [Var(v=-0.2212, grad=0.6570)], [Var(v=-0.0292, grad=2.8036)], [Var(v=-0.0677, grad=2.7153)], [Var(v=-0.0584, grad=-0.6169)], [Var(v=-0.0903, grad=-0.6710)], [Var(v=0.0634, grad=0.0000)], [Var(v=-0.0245, grad=1.1718)], [Var(v=-0.0235, grad=0.4604)], [Var(v=-0.0118, grad=-0.5135)], [Var(v=-0.0660, grad=-0.9359)], [Var(v=-0.0231, grad=1.6064)], [Var(v=-0.0097, grad=0.0000)], [Var(v=-0.1043, grad=0.0000)], [Var(v=-0.1153, grad=0.0000)], [Var(v=0.0377, grad=2.9673)], [Var(v=-0.0381, grad=0.0000)], [Var(v=-0.0593, grad=-0.5342)], [Var(v=0.1063, grad=0.0000)], [Var(v=-0.1346, grad=3.6823)], [Var(v=-0.1921, grad=2.7141)], [Var(v=-0.1049, grad=3.5475)], [Var(v=-0.1078, grad=-1.0336)], [Var(v=-0.0240, grad=-0.3627)], [Var(v=-0.1231, grad=-1.5821)], [Var(v=-0.1160, grad=2.7080)], [Var(v=-0.1241, grad=0.0000)], [Var(v=-0.0550, grad=-0.1985)], [Var(v=0.0977, grad=0.0000)], [Var(v=-0.0653, grad=0.0000)], [Var(v=0.2394, grad=1.4345)], [Var(v=-0.1513, grad=2.3955)], [Var(v=0.1326, grad=0.0000)], [Var(v=-0.0651, grad=-0.7519)], [Var(v=0.1419, grad=0.0000)], [Var(v=0.1606, grad=0.0000)], [Var(v=-0.0133, grad=-1.0865)], [Var(v=0.1503, grad=0.0684)], [Var(v=-0.2027, grad=3.3586)], [Var(v=-0.1832, grad=-0.9924)], [Var(v=0.1599, grad=1.8118)], [Var(v=-0.0458, grad=0.0000)], [Var(v=0.0660, grad=1.6541)]] Biases: [Var(v=0.0196, grad=-1.9593)]\n",
            "\n",
            "Network after zeroing gradients:\n",
            "Layer 0 \n",
            " Weights: [[Var(v=-0.1471, grad=0.0000), Var(v=-0.0060, grad=0.0000), Var(v=-0.0460, grad=0.0000), Var(v=-0.0615, grad=0.0000), Var(v=0.0295, grad=0.0000), Var(v=0.0846, grad=0.0000), Var(v=0.0508, grad=0.0000), Var(v=-0.2836, grad=0.0000), Var(v=0.1178, grad=0.0000), Var(v=0.0306, grad=0.0000), Var(v=0.0106, grad=0.0000), Var(v=0.0123, grad=0.0000), Var(v=-0.0726, grad=0.0000), Var(v=-0.1712, grad=0.0000), Var(v=-0.0234, grad=0.0000)]] Biases: [Var(v=0.0374, grad=0.0000), Var(v=-0.0674, grad=0.0000), Var(v=-0.0201, grad=0.0000), Var(v=0.0180, grad=0.0000), Var(v=-0.0228, grad=0.0000), Var(v=0.0389, grad=0.0000), Var(v=0.0236, grad=0.0000), Var(v=0.0263, grad=0.0000), Var(v=0.0367, grad=0.0000), Var(v=-0.0417, grad=0.0000), Var(v=-0.0641, grad=0.0000), Var(v=0.0017, grad=0.0000), Var(v=0.0195, grad=0.0000), Var(v=0.0728, grad=0.0000), Var(v=-0.0753, grad=0.0000)]\n",
            "Layer 1 \n",
            " Weights: [[Var(v=-0.0468, grad=0.0000), Var(v=-0.0783, grad=0.0000), Var(v=-0.2265, grad=0.0000), Var(v=0.1941, grad=0.0000), Var(v=-0.0336, grad=0.0000), Var(v=-0.0681, grad=0.0000), Var(v=-0.0361, grad=0.0000), Var(v=-0.0488, grad=0.0000), Var(v=-0.0629, grad=0.0000), Var(v=0.0405, grad=0.0000), Var(v=0.0915, grad=0.0000), Var(v=-0.0186, grad=0.0000), Var(v=-0.0026, grad=0.0000), Var(v=-0.0911, grad=0.0000), Var(v=-0.0149, grad=0.0000), Var(v=-0.1595, grad=0.0000), Var(v=-0.0092, grad=0.0000), Var(v=-0.0912, grad=0.0000), Var(v=-0.0684, grad=0.0000), Var(v=-0.0857, grad=0.0000), Var(v=0.0520, grad=0.0000), Var(v=0.0014, grad=0.0000), Var(v=0.0520, grad=0.0000), Var(v=0.0949, grad=0.0000), Var(v=-0.0943, grad=0.0000), Var(v=0.1983, grad=0.0000), Var(v=-0.0153, grad=0.0000), Var(v=-0.0135, grad=0.0000), Var(v=0.1998, grad=0.0000), Var(v=0.0242, grad=0.0000), Var(v=-0.0562, grad=0.0000), Var(v=0.0906, grad=0.0000), Var(v=-0.0202, grad=0.0000), Var(v=-0.0585, grad=0.0000), Var(v=-0.0448, grad=0.0000), Var(v=-0.0687, grad=0.0000), Var(v=-0.2277, grad=0.0000), Var(v=-0.0233, grad=0.0000), Var(v=-0.0143, grad=0.0000), Var(v=-0.1654, grad=0.0000), Var(v=0.0398, grad=0.0000), Var(v=-0.0751, grad=0.0000), Var(v=-0.0210, grad=0.0000), Var(v=-0.0910, grad=0.0000), Var(v=-0.2155, grad=0.0000), Var(v=0.0311, grad=0.0000), Var(v=0.0399, grad=0.0000), Var(v=-0.1040, grad=0.0000), Var(v=-0.0457, grad=0.0000), Var(v=-0.0944, grad=0.0000)], [Var(v=-0.0044, grad=0.0000), Var(v=0.0450, grad=0.0000), Var(v=-0.0562, grad=0.0000), Var(v=-0.0314, grad=0.0000), Var(v=-0.0116, grad=0.0000), Var(v=-0.0710, grad=0.0000), Var(v=0.0027, grad=0.0000), Var(v=0.0679, grad=0.0000), Var(v=0.1045, grad=0.0000), Var(v=0.1028, grad=0.0000), Var(v=0.1084, grad=0.0000), Var(v=0.0533, grad=0.0000), Var(v=0.0445, grad=0.0000), Var(v=-0.1276, grad=0.0000), Var(v=0.1066, grad=0.0000), Var(v=0.0965, grad=0.0000), Var(v=-0.0053, grad=0.0000), Var(v=-0.0458, grad=0.0000), Var(v=0.0720, grad=0.0000), Var(v=-0.0108, grad=0.0000), Var(v=-0.0702, grad=0.0000), Var(v=-0.0506, grad=0.0000), Var(v=0.1179, grad=0.0000), Var(v=0.0518, grad=0.0000), Var(v=-0.0888, grad=0.0000), Var(v=0.0360, grad=0.0000), Var(v=-0.1674, grad=0.0000), Var(v=-0.0169, grad=0.0000), Var(v=0.0141, grad=0.0000), Var(v=-0.0613, grad=0.0000), Var(v=-0.0749, grad=0.0000), Var(v=-0.0212, grad=0.0000), Var(v=0.0450, grad=0.0000), Var(v=0.1071, grad=0.0000), Var(v=-0.0167, grad=0.0000), Var(v=-0.1523, grad=0.0000), Var(v=0.1357, grad=0.0000), Var(v=0.1098, grad=0.0000), Var(v=-0.0205, grad=0.0000), Var(v=-0.1480, grad=0.0000), Var(v=-0.0208, grad=0.0000), Var(v=-0.0661, grad=0.0000), Var(v=-0.1489, grad=0.0000), Var(v=0.0757, grad=0.0000), Var(v=-0.0113, grad=0.0000), Var(v=0.1290, grad=0.0000), Var(v=0.0166, grad=0.0000), Var(v=0.0409, grad=0.0000), Var(v=-0.0337, grad=0.0000), Var(v=0.2295, grad=0.0000)], [Var(v=-0.0062, grad=0.0000), Var(v=0.1387, grad=0.0000), Var(v=-0.1835, grad=0.0000), Var(v=-0.1057, grad=0.0000), Var(v=0.0374, grad=0.0000), Var(v=-0.0448, grad=0.0000), Var(v=-0.0250, grad=0.0000), Var(v=0.1340, grad=0.0000), Var(v=0.1366, grad=0.0000), Var(v=0.1095, grad=0.0000), Var(v=0.0388, grad=0.0000), Var(v=-0.0333, grad=0.0000), Var(v=-0.1239, grad=0.0000), Var(v=-0.0709, grad=0.0000), Var(v=-0.0676, grad=0.0000), Var(v=-0.0127, grad=0.0000), Var(v=-0.1735, grad=0.0000), Var(v=0.0615, grad=0.0000), Var(v=0.0038, grad=0.0000), Var(v=0.1129, grad=0.0000), Var(v=-0.1567, grad=0.0000), Var(v=-0.0346, grad=0.0000), Var(v=-0.1296, grad=0.0000), Var(v=0.1103, grad=0.0000), Var(v=-0.0230, grad=0.0000), Var(v=-0.1889, grad=0.0000), Var(v=-0.0427, grad=0.0000), Var(v=0.0515, grad=0.0000), Var(v=-0.1899, grad=0.0000), Var(v=-0.0522, grad=0.0000), Var(v=-0.0154, grad=0.0000), Var(v=-0.0703, grad=0.0000), Var(v=-0.0399, grad=0.0000), Var(v=0.0674, grad=0.0000), Var(v=0.1746, grad=0.0000), Var(v=0.1223, grad=0.0000), Var(v=-0.1882, grad=0.0000), Var(v=-0.0652, grad=0.0000), Var(v=0.1120, grad=0.0000), Var(v=0.0581, grad=0.0000), Var(v=-0.0432, grad=0.0000), Var(v=0.0426, grad=0.0000), Var(v=-0.0783, grad=0.0000), Var(v=0.1579, grad=0.0000), Var(v=0.0097, grad=0.0000), Var(v=0.0643, grad=0.0000), Var(v=-0.0766, grad=0.0000), Var(v=0.1199, grad=0.0000), Var(v=-0.0938, grad=0.0000), Var(v=0.0559, grad=0.0000)], [Var(v=-0.0782, grad=0.0000), Var(v=-0.0014, grad=0.0000), Var(v=-0.0017, grad=0.0000), Var(v=-0.0207, grad=0.0000), Var(v=0.0589, grad=0.0000), Var(v=-0.0557, grad=0.0000), Var(v=-0.1845, grad=0.0000), Var(v=-0.0346, grad=0.0000), Var(v=-0.1208, grad=0.0000), Var(v=-0.0526, grad=0.0000), Var(v=0.1199, grad=0.0000), Var(v=-0.0194, grad=0.0000), Var(v=0.0312, grad=0.0000), Var(v=-0.1160, grad=0.0000), Var(v=0.0107, grad=0.0000), Var(v=-0.1993, grad=0.0000), Var(v=-0.1558, grad=0.0000), Var(v=-0.0713, grad=0.0000), Var(v=-0.0043, grad=0.0000), Var(v=0.0119, grad=0.0000), Var(v=-0.0531, grad=0.0000), Var(v=0.0736, grad=0.0000), Var(v=-0.0218, grad=0.0000), Var(v=-0.1516, grad=0.0000), Var(v=0.0873, grad=0.0000), Var(v=-0.0035, grad=0.0000), Var(v=0.2598, grad=0.0000), Var(v=-0.0661, grad=0.0000), Var(v=0.1632, grad=0.0000), Var(v=0.0191, grad=0.0000), Var(v=0.0987, grad=0.0000), Var(v=-0.1629, grad=0.0000), Var(v=0.1161, grad=0.0000), Var(v=-0.1491, grad=0.0000), Var(v=0.0350, grad=0.0000), Var(v=0.0660, grad=0.0000), Var(v=-0.2223, grad=0.0000), Var(v=0.0996, grad=0.0000), Var(v=0.0421, grad=0.0000), Var(v=0.0653, grad=0.0000), Var(v=0.0043, grad=0.0000), Var(v=-0.0648, grad=0.0000), Var(v=-0.0361, grad=0.0000), Var(v=0.0189, grad=0.0000), Var(v=0.0987, grad=0.0000), Var(v=0.1073, grad=0.0000), Var(v=0.3229, grad=0.0000), Var(v=0.0936, grad=0.0000), Var(v=-0.1410, grad=0.0000), Var(v=0.0696, grad=0.0000)], [Var(v=-0.1483, grad=0.0000), Var(v=-0.0521, grad=0.0000), Var(v=0.0941, grad=0.0000), Var(v=0.0901, grad=0.0000), Var(v=-0.2660, grad=0.0000), Var(v=0.0900, grad=0.0000), Var(v=-0.1974, grad=0.0000), Var(v=-0.0439, grad=0.0000), Var(v=0.0447, grad=0.0000), Var(v=0.0688, grad=0.0000), Var(v=-0.1586, grad=0.0000), Var(v=0.1319, grad=0.0000), Var(v=-0.0476, grad=0.0000), Var(v=0.0025, grad=0.0000), Var(v=-0.0167, grad=0.0000), Var(v=0.0223, grad=0.0000), Var(v=-0.0737, grad=0.0000), Var(v=0.1819, grad=0.0000), Var(v=0.0150, grad=0.0000), Var(v=-0.1027, grad=0.0000), Var(v=-0.1288, grad=0.0000), Var(v=-0.0507, grad=0.0000), Var(v=0.2467, grad=0.0000), Var(v=0.0487, grad=0.0000), Var(v=-0.0251, grad=0.0000), Var(v=0.0239, grad=0.0000), Var(v=0.0543, grad=0.0000), Var(v=-0.0523, grad=0.0000), Var(v=0.2164, grad=0.0000), Var(v=0.0603, grad=0.0000), Var(v=-0.0150, grad=0.0000), Var(v=0.1912, grad=0.0000), Var(v=0.0930, grad=0.0000), Var(v=-0.1338, grad=0.0000), Var(v=0.0011, grad=0.0000), Var(v=0.0532, grad=0.0000), Var(v=-0.0133, grad=0.0000), Var(v=-0.0336, grad=0.0000), Var(v=0.0535, grad=0.0000), Var(v=-0.1062, grad=0.0000), Var(v=0.0577, grad=0.0000), Var(v=-0.0698, grad=0.0000), Var(v=-0.1605, grad=0.0000), Var(v=-0.0515, grad=0.0000), Var(v=0.0159, grad=0.0000), Var(v=-0.1205, grad=0.0000), Var(v=-0.0674, grad=0.0000), Var(v=0.0737, grad=0.0000), Var(v=-0.0062, grad=0.0000), Var(v=-0.0423, grad=0.0000)], [Var(v=0.0699, grad=0.0000), Var(v=-0.0757, grad=0.0000), Var(v=0.0372, grad=0.0000), Var(v=-0.2199, grad=0.0000), Var(v=-0.0026, grad=0.0000), Var(v=-0.0983, grad=0.0000), Var(v=0.0874, grad=0.0000), Var(v=-0.0029, grad=0.0000), Var(v=-0.1695, grad=0.0000), Var(v=0.1660, grad=0.0000), Var(v=-0.1510, grad=0.0000), Var(v=0.0226, grad=0.0000), Var(v=0.0693, grad=0.0000), Var(v=0.2199, grad=0.0000), Var(v=0.0307, grad=0.0000), Var(v=-0.0927, grad=0.0000), Var(v=-0.0767, grad=0.0000), Var(v=-0.1060, grad=0.0000), Var(v=-0.0924, grad=0.0000), Var(v=-0.0226, grad=0.0000), Var(v=0.0582, grad=0.0000), Var(v=0.1202, grad=0.0000), Var(v=0.0701, grad=0.0000), Var(v=-0.0196, grad=0.0000), Var(v=0.0472, grad=0.0000), Var(v=0.0713, grad=0.0000), Var(v=0.0228, grad=0.0000), Var(v=-0.1813, grad=0.0000), Var(v=-0.1512, grad=0.0000), Var(v=-0.0245, grad=0.0000), Var(v=-0.0560, grad=0.0000), Var(v=-0.0132, grad=0.0000), Var(v=-0.1134, grad=0.0000), Var(v=0.0882, grad=0.0000), Var(v=-0.0047, grad=0.0000), Var(v=0.0314, grad=0.0000), Var(v=0.1590, grad=0.0000), Var(v=-0.1151, grad=0.0000), Var(v=-0.2536, grad=0.0000), Var(v=0.0294, grad=0.0000), Var(v=0.0197, grad=0.0000), Var(v=0.1722, grad=0.0000), Var(v=-0.0758, grad=0.0000), Var(v=0.0444, grad=0.0000), Var(v=-0.1281, grad=0.0000), Var(v=0.0268, grad=0.0000), Var(v=0.1271, grad=0.0000), Var(v=0.1799, grad=0.0000), Var(v=0.1097, grad=0.0000), Var(v=-0.0114, grad=0.0000)], [Var(v=0.0379, grad=0.0000), Var(v=0.2082, grad=0.0000), Var(v=0.0845, grad=0.0000), Var(v=-0.0153, grad=0.0000), Var(v=-0.0972, grad=0.0000), Var(v=0.0394, grad=0.0000), Var(v=0.0708, grad=0.0000), Var(v=0.0476, grad=0.0000), Var(v=0.1990, grad=0.0000), Var(v=0.2245, grad=0.0000), Var(v=0.0340, grad=0.0000), Var(v=-0.0690, grad=0.0000), Var(v=0.0818, grad=0.0000), Var(v=0.0131, grad=0.0000), Var(v=0.0047, grad=0.0000), Var(v=-0.3250, grad=0.0000), Var(v=-0.0836, grad=0.0000), Var(v=0.0839, grad=0.0000), Var(v=-0.1539, grad=0.0000), Var(v=-0.0160, grad=0.0000), Var(v=0.1258, grad=0.0000), Var(v=0.0910, grad=0.0000), Var(v=-0.0765, grad=0.0000), Var(v=0.0382, grad=0.0000), Var(v=-0.0466, grad=0.0000), Var(v=-0.1017, grad=0.0000), Var(v=-0.0175, grad=0.0000), Var(v=0.0499, grad=0.0000), Var(v=-0.0727, grad=0.0000), Var(v=0.0376, grad=0.0000), Var(v=0.0339, grad=0.0000), Var(v=-0.1045, grad=0.0000), Var(v=-0.1065, grad=0.0000), Var(v=-0.1270, grad=0.0000), Var(v=-0.0695, grad=0.0000), Var(v=-0.0309, grad=0.0000), Var(v=-0.0167, grad=0.0000), Var(v=0.0109, grad=0.0000), Var(v=-0.0076, grad=0.0000), Var(v=0.1010, grad=0.0000), Var(v=-0.0395, grad=0.0000), Var(v=0.0867, grad=0.0000), Var(v=-0.0651, grad=0.0000), Var(v=0.0859, grad=0.0000), Var(v=0.0573, grad=0.0000), Var(v=0.1651, grad=0.0000), Var(v=-0.0408, grad=0.0000), Var(v=0.0674, grad=0.0000), Var(v=0.1288, grad=0.0000), Var(v=-0.0869, grad=0.0000)], [Var(v=0.1347, grad=0.0000), Var(v=-0.0545, grad=0.0000), Var(v=0.0638, grad=0.0000), Var(v=0.1629, grad=0.0000), Var(v=0.0656, grad=0.0000), Var(v=-0.2297, grad=0.0000), Var(v=-0.1525, grad=0.0000), Var(v=0.0754, grad=0.0000), Var(v=0.0213, grad=0.0000), Var(v=0.0400, grad=0.0000), Var(v=0.0042, grad=0.0000), Var(v=-0.1636, grad=0.0000), Var(v=-0.1306, grad=0.0000), Var(v=-0.2461, grad=0.0000), Var(v=0.0764, grad=0.0000), Var(v=0.0901, grad=0.0000), Var(v=0.0598, grad=0.0000), Var(v=-0.0071, grad=0.0000), Var(v=0.0111, grad=0.0000), Var(v=-0.1336, grad=0.0000), Var(v=-0.0166, grad=0.0000), Var(v=-0.0037, grad=0.0000), Var(v=0.0738, grad=0.0000), Var(v=-0.1686, grad=0.0000), Var(v=-0.2334, grad=0.0000), Var(v=-0.1369, grad=0.0000), Var(v=0.2483, grad=0.0000), Var(v=0.1382, grad=0.0000), Var(v=0.0189, grad=0.0000), Var(v=0.0586, grad=0.0000), Var(v=-0.1590, grad=0.0000), Var(v=-0.0284, grad=0.0000), Var(v=0.1055, grad=0.0000), Var(v=0.0112, grad=0.0000), Var(v=0.0322, grad=0.0000), Var(v=-0.0117, grad=0.0000), Var(v=-0.0614, grad=0.0000), Var(v=-0.0569, grad=0.0000), Var(v=0.1442, grad=0.0000), Var(v=-0.0233, grad=0.0000), Var(v=-0.0105, grad=0.0000), Var(v=-0.0652, grad=0.0000), Var(v=0.0323, grad=0.0000), Var(v=-0.0909, grad=0.0000), Var(v=0.0290, grad=0.0000), Var(v=0.1071, grad=0.0000), Var(v=0.0553, grad=0.0000), Var(v=0.0789, grad=0.0000), Var(v=-0.0465, grad=0.0000), Var(v=0.0159, grad=0.0000)], [Var(v=-0.1759, grad=0.0000), Var(v=0.0361, grad=0.0000), Var(v=0.0401, grad=0.0000), Var(v=-0.0747, grad=0.0000), Var(v=0.0433, grad=0.0000), Var(v=0.2125, grad=0.0000), Var(v=0.0392, grad=0.0000), Var(v=0.1843, grad=0.0000), Var(v=-0.1221, grad=0.0000), Var(v=0.0167, grad=0.0000), Var(v=0.0300, grad=0.0000), Var(v=-0.0025, grad=0.0000), Var(v=-0.0902, grad=0.0000), Var(v=-0.0760, grad=0.0000), Var(v=0.0020, grad=0.0000), Var(v=-0.0303, grad=0.0000), Var(v=0.1725, grad=0.0000), Var(v=0.0631, grad=0.0000), Var(v=-0.0899, grad=0.0000), Var(v=-0.0384, grad=0.0000), Var(v=-0.1207, grad=0.0000), Var(v=-0.0114, grad=0.0000), Var(v=-0.0037, grad=0.0000), Var(v=-0.1159, grad=0.0000), Var(v=-0.0434, grad=0.0000), Var(v=-0.0084, grad=0.0000), Var(v=0.0056, grad=0.0000), Var(v=-0.2285, grad=0.0000), Var(v=-0.1167, grad=0.0000), Var(v=0.0756, grad=0.0000), Var(v=0.1190, grad=0.0000), Var(v=-0.0265, grad=0.0000), Var(v=-0.0514, grad=0.0000), Var(v=0.0566, grad=0.0000), Var(v=0.1078, grad=0.0000), Var(v=0.0607, grad=0.0000), Var(v=-0.1508, grad=0.0000), Var(v=0.0645, grad=0.0000), Var(v=-0.0957, grad=0.0000), Var(v=-0.2584, grad=0.0000), Var(v=0.1080, grad=0.0000), Var(v=0.0015, grad=0.0000), Var(v=-0.1191, grad=0.0000), Var(v=-0.0870, grad=0.0000), Var(v=0.0767, grad=0.0000), Var(v=0.0092, grad=0.0000), Var(v=0.0705, grad=0.0000), Var(v=0.2435, grad=0.0000), Var(v=0.0027, grad=0.0000), Var(v=0.1201, grad=0.0000)], [Var(v=-0.0174, grad=0.0000), Var(v=-0.1074, grad=0.0000), Var(v=0.2461, grad=0.0000), Var(v=0.1075, grad=0.0000), Var(v=-0.1241, grad=0.0000), Var(v=0.1946, grad=0.0000), Var(v=0.0050, grad=0.0000), Var(v=-0.0062, grad=0.0000), Var(v=0.0952, grad=0.0000), Var(v=0.0011, grad=0.0000), Var(v=0.0336, grad=0.0000), Var(v=-0.0486, grad=0.0000), Var(v=-0.0402, grad=0.0000), Var(v=0.0458, grad=0.0000), Var(v=-0.1119, grad=0.0000), Var(v=-0.0477, grad=0.0000), Var(v=0.0079, grad=0.0000), Var(v=0.0773, grad=0.0000), Var(v=-0.0617, grad=0.0000), Var(v=0.0590, grad=0.0000), Var(v=-0.0057, grad=0.0000), Var(v=-0.0091, grad=0.0000), Var(v=0.1339, grad=0.0000), Var(v=0.0317, grad=0.0000), Var(v=0.0571, grad=0.0000), Var(v=-0.0046, grad=0.0000), Var(v=-0.0706, grad=0.0000), Var(v=-0.0451, grad=0.0000), Var(v=-0.0472, grad=0.0000), Var(v=-0.0110, grad=0.0000), Var(v=0.1202, grad=0.0000), Var(v=0.0092, grad=0.0000), Var(v=0.0445, grad=0.0000), Var(v=0.0759, grad=0.0000), Var(v=0.0550, grad=0.0000), Var(v=0.0285, grad=0.0000), Var(v=0.0821, grad=0.0000), Var(v=0.2203, grad=0.0000), Var(v=-0.0900, grad=0.0000), Var(v=-0.0770, grad=0.0000), Var(v=-0.0598, grad=0.0000), Var(v=-0.0236, grad=0.0000), Var(v=0.0624, grad=0.0000), Var(v=0.0533, grad=0.0000), Var(v=-0.0828, grad=0.0000), Var(v=0.0063, grad=0.0000), Var(v=-0.0558, grad=0.0000), Var(v=-0.0141, grad=0.0000), Var(v=-0.0902, grad=0.0000), Var(v=-0.2036, grad=0.0000)], [Var(v=-0.0034, grad=0.0000), Var(v=-0.0543, grad=0.0000), Var(v=-0.0075, grad=0.0000), Var(v=0.0969, grad=0.0000), Var(v=0.0035, grad=0.0000), Var(v=-0.0673, grad=0.0000), Var(v=-0.0302, grad=0.0000), Var(v=0.1145, grad=0.0000), Var(v=0.0317, grad=0.0000), Var(v=-0.0889, grad=0.0000), Var(v=0.0436, grad=0.0000), Var(v=-0.0076, grad=0.0000), Var(v=0.1636, grad=0.0000), Var(v=-0.0271, grad=0.0000), Var(v=0.1493, grad=0.0000), Var(v=-0.1299, grad=0.0000), Var(v=-0.0077, grad=0.0000), Var(v=0.0209, grad=0.0000), Var(v=-0.1432, grad=0.0000), Var(v=-0.0699, grad=0.0000), Var(v=-0.0866, grad=0.0000), Var(v=0.0604, grad=0.0000), Var(v=-0.0218, grad=0.0000), Var(v=-0.0800, grad=0.0000), Var(v=0.0036, grad=0.0000), Var(v=-0.2684, grad=0.0000), Var(v=-0.0983, grad=0.0000), Var(v=0.0099, grad=0.0000), Var(v=-0.0540, grad=0.0000), Var(v=0.0533, grad=0.0000), Var(v=-0.1372, grad=0.0000), Var(v=0.0156, grad=0.0000), Var(v=-0.0414, grad=0.0000), Var(v=0.0151, grad=0.0000), Var(v=0.1778, grad=0.0000), Var(v=-0.0395, grad=0.0000), Var(v=-0.0182, grad=0.0000), Var(v=-0.0679, grad=0.0000), Var(v=0.1270, grad=0.0000), Var(v=0.0331, grad=0.0000), Var(v=0.0195, grad=0.0000), Var(v=-0.0398, grad=0.0000), Var(v=0.0986, grad=0.0000), Var(v=0.0793, grad=0.0000), Var(v=-0.0353, grad=0.0000), Var(v=0.1000, grad=0.0000), Var(v=0.0977, grad=0.0000), Var(v=-0.0032, grad=0.0000), Var(v=-0.0628, grad=0.0000), Var(v=-0.0316, grad=0.0000)], [Var(v=-0.0222, grad=0.0000), Var(v=-0.0684, grad=0.0000), Var(v=0.0735, grad=0.0000), Var(v=-0.0860, grad=0.0000), Var(v=0.0198, grad=0.0000), Var(v=0.1665, grad=0.0000), Var(v=0.1075, grad=0.0000), Var(v=0.0753, grad=0.0000), Var(v=0.0684, grad=0.0000), Var(v=-0.0377, grad=0.0000), Var(v=0.0247, grad=0.0000), Var(v=-0.0369, grad=0.0000), Var(v=0.1090, grad=0.0000), Var(v=-0.0518, grad=0.0000), Var(v=-0.0648, grad=0.0000), Var(v=0.0627, grad=0.0000), Var(v=0.0104, grad=0.0000), Var(v=0.0731, grad=0.0000), Var(v=0.0483, grad=0.0000), Var(v=-0.0096, grad=0.0000), Var(v=-0.0034, grad=0.0000), Var(v=-0.1299, grad=0.0000), Var(v=0.0755, grad=0.0000), Var(v=0.0358, grad=0.0000), Var(v=-0.0738, grad=0.0000), Var(v=-0.0117, grad=0.0000), Var(v=-0.1699, grad=0.0000), Var(v=-0.0085, grad=0.0000), Var(v=-0.0570, grad=0.0000), Var(v=-0.0748, grad=0.0000), Var(v=0.0052, grad=0.0000), Var(v=0.1882, grad=0.0000), Var(v=-0.0632, grad=0.0000), Var(v=-0.1740, grad=0.0000), Var(v=-0.0911, grad=0.0000), Var(v=-0.1143, grad=0.0000), Var(v=-0.0048, grad=0.0000), Var(v=-0.0354, grad=0.0000), Var(v=0.0774, grad=0.0000), Var(v=0.0383, grad=0.0000), Var(v=0.0315, grad=0.0000), Var(v=-0.0599, grad=0.0000), Var(v=-0.0890, grad=0.0000), Var(v=-0.0691, grad=0.0000), Var(v=0.0917, grad=0.0000), Var(v=-0.0232, grad=0.0000), Var(v=-0.1001, grad=0.0000), Var(v=-0.0126, grad=0.0000), Var(v=0.0238, grad=0.0000), Var(v=-0.1138, grad=0.0000)], [Var(v=-0.0542, grad=0.0000), Var(v=-0.0026, grad=0.0000), Var(v=-0.0938, grad=0.0000), Var(v=-0.2087, grad=0.0000), Var(v=-0.0625, grad=0.0000), Var(v=-0.0060, grad=0.0000), Var(v=0.1121, grad=0.0000), Var(v=0.0170, grad=0.0000), Var(v=0.2275, grad=0.0000), Var(v=0.0977, grad=0.0000), Var(v=0.2299, grad=0.0000), Var(v=0.0853, grad=0.0000), Var(v=-0.0133, grad=0.0000), Var(v=-0.0255, grad=0.0000), Var(v=-0.0461, grad=0.0000), Var(v=0.0162, grad=0.0000), Var(v=-0.1714, grad=0.0000), Var(v=0.0415, grad=0.0000), Var(v=0.0948, grad=0.0000), Var(v=0.0884, grad=0.0000), Var(v=0.0856, grad=0.0000), Var(v=-0.0298, grad=0.0000), Var(v=0.0575, grad=0.0000), Var(v=0.0723, grad=0.0000), Var(v=0.0218, grad=0.0000), Var(v=0.0837, grad=0.0000), Var(v=0.0148, grad=0.0000), Var(v=-0.0650, grad=0.0000), Var(v=0.1127, grad=0.0000), Var(v=-0.0414, grad=0.0000), Var(v=-0.0795, grad=0.0000), Var(v=0.0845, grad=0.0000), Var(v=0.0409, grad=0.0000), Var(v=-0.0074, grad=0.0000), Var(v=0.0306, grad=0.0000), Var(v=0.0566, grad=0.0000), Var(v=0.0774, grad=0.0000), Var(v=-0.0834, grad=0.0000), Var(v=-0.0190, grad=0.0000), Var(v=-0.0858, grad=0.0000), Var(v=-0.0831, grad=0.0000), Var(v=-0.0881, grad=0.0000), Var(v=-0.1730, grad=0.0000), Var(v=0.0503, grad=0.0000), Var(v=-0.0545, grad=0.0000), Var(v=-0.0929, grad=0.0000), Var(v=0.0755, grad=0.0000), Var(v=0.0692, grad=0.0000), Var(v=-0.0684, grad=0.0000), Var(v=-0.0280, grad=0.0000)], [Var(v=-0.0726, grad=0.0000), Var(v=0.0347, grad=0.0000), Var(v=-0.0502, grad=0.0000), Var(v=0.0005, grad=0.0000), Var(v=0.0869, grad=0.0000), Var(v=-0.0934, grad=0.0000), Var(v=0.1378, grad=0.0000), Var(v=0.1032, grad=0.0000), Var(v=0.0306, grad=0.0000), Var(v=0.0018, grad=0.0000), Var(v=-0.0289, grad=0.0000), Var(v=-0.0921, grad=0.0000), Var(v=0.0489, grad=0.0000), Var(v=-0.0476, grad=0.0000), Var(v=0.0975, grad=0.0000), Var(v=0.0215, grad=0.0000), Var(v=-0.0506, grad=0.0000), Var(v=0.2979, grad=0.0000), Var(v=0.1350, grad=0.0000), Var(v=0.0856, grad=0.0000), Var(v=0.0148, grad=0.0000), Var(v=-0.1252, grad=0.0000), Var(v=0.0229, grad=0.0000), Var(v=0.0160, grad=0.0000), Var(v=-0.1094, grad=0.0000), Var(v=0.0636, grad=0.0000), Var(v=-0.0833, grad=0.0000), Var(v=0.1660, grad=0.0000), Var(v=0.1977, grad=0.0000), Var(v=0.2975, grad=0.0000), Var(v=-0.0795, grad=0.0000), Var(v=0.0611, grad=0.0000), Var(v=0.0418, grad=0.0000), Var(v=-0.0714, grad=0.0000), Var(v=0.0737, grad=0.0000), Var(v=-0.0165, grad=0.0000), Var(v=0.2109, grad=0.0000), Var(v=0.0052, grad=0.0000), Var(v=0.0533, grad=0.0000), Var(v=-0.0960, grad=0.0000), Var(v=0.1949, grad=0.0000), Var(v=-0.0156, grad=0.0000), Var(v=-0.0811, grad=0.0000), Var(v=-0.0406, grad=0.0000), Var(v=0.0227, grad=0.0000), Var(v=0.0701, grad=0.0000), Var(v=0.0256, grad=0.0000), Var(v=0.0295, grad=0.0000), Var(v=0.0245, grad=0.0000), Var(v=-0.0539, grad=0.0000)], [Var(v=0.0165, grad=0.0000), Var(v=-0.0658, grad=0.0000), Var(v=-0.0196, grad=0.0000), Var(v=-0.0026, grad=0.0000), Var(v=-0.1295, grad=0.0000), Var(v=0.0073, grad=0.0000), Var(v=-0.1085, grad=0.0000), Var(v=0.0637, grad=0.0000), Var(v=0.0340, grad=0.0000), Var(v=-0.0900, grad=0.0000), Var(v=0.1672, grad=0.0000), Var(v=-0.0142, grad=0.0000), Var(v=-0.0923, grad=0.0000), Var(v=-0.0244, grad=0.0000), Var(v=-0.0061, grad=0.0000), Var(v=-0.0140, grad=0.0000), Var(v=0.0205, grad=0.0000), Var(v=0.0130, grad=0.0000), Var(v=-0.0512, grad=0.0000), Var(v=-0.1864, grad=0.0000), Var(v=0.0178, grad=0.0000), Var(v=-0.1716, grad=0.0000), Var(v=-0.0970, grad=0.0000), Var(v=-0.0168, grad=0.0000), Var(v=0.1258, grad=0.0000), Var(v=-0.1770, grad=0.0000), Var(v=0.0010, grad=0.0000), Var(v=-0.0296, grad=0.0000), Var(v=0.0558, grad=0.0000), Var(v=0.2541, grad=0.0000), Var(v=0.1224, grad=0.0000), Var(v=0.0500, grad=0.0000), Var(v=0.0898, grad=0.0000), Var(v=-0.0287, grad=0.0000), Var(v=-0.0340, grad=0.0000), Var(v=-0.0725, grad=0.0000), Var(v=0.0635, grad=0.0000), Var(v=0.0273, grad=0.0000), Var(v=0.1132, grad=0.0000), Var(v=-0.0035, grad=0.0000), Var(v=-0.0758, grad=0.0000), Var(v=-0.1775, grad=0.0000), Var(v=-0.0209, grad=0.0000), Var(v=0.1507, grad=0.0000), Var(v=-0.0759, grad=0.0000), Var(v=-0.2602, grad=0.0000), Var(v=0.0968, grad=0.0000), Var(v=-0.0092, grad=0.0000), Var(v=-0.0383, grad=0.0000), Var(v=-0.0968, grad=0.0000)]] Biases: [Var(v=0.0672, grad=0.0000), Var(v=0.0000, grad=0.0000), Var(v=0.0067, grad=0.0000), Var(v=0.0653, grad=0.0000), Var(v=0.0358, grad=0.0000), Var(v=0.0015, grad=0.0000), Var(v=0.0000, grad=0.0000), Var(v=0.0033, grad=0.0000), Var(v=0.1846, grad=0.0000), Var(v=-0.0000, grad=0.0000), Var(v=-0.0008, grad=0.0000), Var(v=-0.0568, grad=0.0000), Var(v=-0.0853, grad=0.0000), Var(v=0.0000, grad=0.0000), Var(v=-0.0003, grad=0.0000), Var(v=0.0163, grad=0.0000), Var(v=-0.0149, grad=0.0000), Var(v=-0.0015, grad=0.0000), Var(v=0.0060, grad=0.0000), Var(v=0.0000, grad=0.0000), Var(v=0.0000, grad=0.0000), Var(v=0.0000, grad=0.0000), Var(v=0.0013, grad=0.0000), Var(v=0.0000, grad=0.0000), Var(v=-0.0568, grad=0.0000), Var(v=0.0000, grad=0.0000), Var(v=0.0841, grad=0.0000), Var(v=0.1419, grad=0.0000), Var(v=0.0597, grad=0.0000), Var(v=-0.0023, grad=0.0000), Var(v=-0.0243, grad=0.0000), Var(v=-0.1222, grad=0.0000), Var(v=0.0765, grad=0.0000), Var(v=0.0000, grad=0.0000), Var(v=-0.0011, grad=0.0000), Var(v=0.0000, grad=0.0000), Var(v=0.0000, grad=0.0000), Var(v=-0.2183, grad=0.0000), Var(v=-0.0025, grad=0.0000), Var(v=0.0000, grad=0.0000), Var(v=-0.0014, grad=0.0000), Var(v=0.0000, grad=0.0000), Var(v=0.0000, grad=0.0000), Var(v=-0.0213, grad=0.0000), Var(v=-0.1299, grad=0.0000), Var(v=0.1454, grad=0.0000), Var(v=-0.0038, grad=0.0000), Var(v=0.0035, grad=0.0000), Var(v=0.0000, grad=0.0000), Var(v=-0.0710, grad=0.0000)]\n",
            "Layer 2 \n",
            " Weights: [[Var(v=-0.0859, grad=0.0000)], [Var(v=0.0526, grad=0.0000)], [Var(v=0.0183, grad=0.0000)], [Var(v=-0.1093, grad=0.0000)], [Var(v=-0.0569, grad=0.0000)], [Var(v=0.0165, grad=0.0000)], [Var(v=0.0257, grad=0.0000)], [Var(v=0.1438, grad=0.0000)], [Var(v=-0.2212, grad=0.0000)], [Var(v=-0.0292, grad=0.0000)], [Var(v=-0.0677, grad=0.0000)], [Var(v=-0.0584, grad=0.0000)], [Var(v=-0.0903, grad=0.0000)], [Var(v=0.0634, grad=0.0000)], [Var(v=-0.0245, grad=0.0000)], [Var(v=-0.0235, grad=0.0000)], [Var(v=-0.0118, grad=0.0000)], [Var(v=-0.0660, grad=0.0000)], [Var(v=-0.0231, grad=0.0000)], [Var(v=-0.0097, grad=0.0000)], [Var(v=-0.1043, grad=0.0000)], [Var(v=-0.1153, grad=0.0000)], [Var(v=0.0377, grad=0.0000)], [Var(v=-0.0381, grad=0.0000)], [Var(v=-0.0593, grad=0.0000)], [Var(v=0.1063, grad=0.0000)], [Var(v=-0.1346, grad=0.0000)], [Var(v=-0.1921, grad=0.0000)], [Var(v=-0.1049, grad=0.0000)], [Var(v=-0.1078, grad=0.0000)], [Var(v=-0.0240, grad=0.0000)], [Var(v=-0.1231, grad=0.0000)], [Var(v=-0.1160, grad=0.0000)], [Var(v=-0.1241, grad=0.0000)], [Var(v=-0.0550, grad=0.0000)], [Var(v=0.0977, grad=0.0000)], [Var(v=-0.0653, grad=0.0000)], [Var(v=0.2394, grad=0.0000)], [Var(v=-0.1513, grad=0.0000)], [Var(v=0.1326, grad=0.0000)], [Var(v=-0.0651, grad=0.0000)], [Var(v=0.1419, grad=0.0000)], [Var(v=0.1606, grad=0.0000)], [Var(v=-0.0133, grad=0.0000)], [Var(v=0.1503, grad=0.0000)], [Var(v=-0.2027, grad=0.0000)], [Var(v=-0.1832, grad=0.0000)], [Var(v=0.1599, grad=0.0000)], [Var(v=-0.0458, grad=0.0000)], [Var(v=0.0660, grad=0.0000)]] Biases: [Var(v=0.0196, grad=0.0000)]\n"
          ]
        },
        {
          "output_type": "execute_result",
          "data": {
            "text/plain": [
              "[None, None, None]"
            ]
          },
          "metadata": {},
          "execution_count": 33
        }
      ],
      "source": [
        "print('Network before update:')\n",
        "[print('Layer', i, '\\n', NN[i]) for i in range(len(NN))]\n",
        "\n",
        "def parameters(network):\n",
        "  params = []\n",
        "  for layer in range(len(network)):\n",
        "    params += network[layer].parameters()\n",
        "  return params\n",
        "\n",
        "def update_parameters(params, learning_rate=0.01):\n",
        "  for p in params:\n",
        "    p.v -= learning_rate*p.grad\n",
        "\n",
        "def zero_gradients(params):\n",
        "  for p in params:\n",
        "    p.grad = 0.0\n",
        "\n",
        "update_parameters(parameters(NN))\n",
        "\n",
        "print('\\nNetwork after update:')\n",
        "[print('Layer', i, '\\n', NN[i]) for i in range(len(NN))]\n",
        "\n",
        "zero_gradients(parameters(NN))\n",
        "\n",
        "print('\\nNetwork after zeroing gradients:')\n",
        "[print('Layer', i, '\\n', NN[i]) for i in range(len(NN))]"
      ]
    },
    {
      "cell_type": "code",
      "execution_count": 34,
      "metadata": {
        "id": "woWYpdw6FtIO"
      },
      "outputs": [],
      "source": [
        "# Initialize an arbitrary neural network\n",
        "NN = [\n",
        "    DenseLayer(1, 8, lambda x: x.relu()),\n",
        "    DenseLayer(8, 1, lambda x: x.identity())\n",
        "]\n",
        "\n",
        "# Recommended hyper-parameters for 3-D:\n",
        "#NN = [\n",
        "#    DenseLayer(3, 16, lambda x: x.relu()),\n",
        "#    DenseLayer(16, 1, lambda x: x.identity())\n",
        "#]\n",
        "\n",
        "\n",
        "### Notice that, when we switch from tanh to relu activation, we decrease the learning rate. This is due the stability of the gradients\n",
        "## of the activation functions."
      ]
    },
    {
      "cell_type": "code",
      "execution_count": 35,
      "metadata": {
        "id": "mdqaqYBVFtIR"
      },
      "outputs": [],
      "source": [
        "# Initialize training hyperparameters\n",
        "EPOCHS = 200\n",
        "LEARN_R = 2e-3"
      ]
    },
    {
      "cell_type": "code",
      "execution_count": 36,
      "metadata": {
        "colab": {
          "base_uri": "https://localhost:8080/"
        },
        "id": "5kfg76GMFtIW",
        "outputId": "0a034f46-1ea9-4991-c9ce-3760ec606a8e",
        "scrolled": true
      },
      "outputs": [
        {
          "output_type": "stream",
          "name": "stdout",
          "text": [
            "   0 ( 0.00%) Train loss: 106.806 \t Validation loss: 106.886\n",
            "  10 ( 5.00%) Train loss: 54.667 \t Validation loss: 42.306\n",
            "  20 (10.00%) Train loss: 21.727 \t Validation loss: 17.507\n",
            "  30 (15.00%) Train loss: 17.671 \t Validation loss: 13.710\n",
            "  40 (20.00%) Train loss: 14.140 \t Validation loss: 11.125\n",
            "  50 (25.00%) Train loss: 12.879 \t Validation loss: 10.072\n",
            "  60 (30.00%) Train loss: 12.444 \t Validation loss: 9.622\n",
            "  70 (35.00%) Train loss: 12.269 \t Validation loss: 9.371\n",
            "  80 (40.00%) Train loss: 12.177 \t Validation loss: 9.244\n",
            "  90 (45.00%) Train loss: 12.141 \t Validation loss: 9.166\n",
            " 100 (50.00%) Train loss: 12.126 \t Validation loss: 9.127\n",
            " 110 (55.00%) Train loss: 12.117 \t Validation loss: 9.111\n",
            " 120 (60.00%) Train loss: 12.109 \t Validation loss: 9.101\n",
            " 130 (65.00%) Train loss: 12.102 \t Validation loss: 9.092\n",
            " 140 (70.00%) Train loss: 12.095 \t Validation loss: 9.089\n",
            " 150 (75.00%) Train loss: 12.087 \t Validation loss: 9.090\n",
            " 160 (80.00%) Train loss: 12.081 \t Validation loss: 9.069\n",
            " 170 (85.00%) Train loss: 12.076 \t Validation loss: 9.063\n",
            " 180 (90.00%) Train loss: 12.072 \t Validation loss: 9.057\n",
            " 190 (95.00%) Train loss: 12.068 \t Validation loss: 9.048\n"
          ]
        }
      ],
      "source": [
        "train_loss = []\n",
        "val_loss = []\n",
        "\n",
        "for e in range(EPOCHS):\n",
        "\n",
        "    # Forward pass and loss computation\n",
        "    Loss = squared_loss(y_train, forward(x_train, NN))\n",
        "\n",
        "    # Backward pass\n",
        "    Loss.backward()\n",
        "\n",
        "    # gradient descent update\n",
        "    update_parameters(parameters(NN), LEARN_R)\n",
        "    zero_gradients(parameters(NN))\n",
        "\n",
        "    # Training loss\n",
        "    train_loss.append(Loss.v)\n",
        "\n",
        "    # Validation\n",
        "    Loss_validation = squared_loss(y_validation, forward(x_validation, NN))\n",
        "    val_loss.append(Loss_validation.v)\n",
        "\n",
        "    if e%10==0:\n",
        "        print(\"{:4d}\".format(e),\n",
        "              \"({:5.2f}%)\".format(e/EPOCHS*100),\n",
        "              \"Train loss: {:4.3f} \\t Validation loss: {:4.3f}\".format(train_loss[-1], val_loss[-1]))\n",
        "\n"
      ]
    },
    {
      "cell_type": "code",
      "execution_count": 41,
      "metadata": {
        "colab": {
          "base_uri": "https://localhost:8080/",
          "height": 429
        },
        "id": "VetyRWFwFtIY",
        "outputId": "3648d990-ce8d-425f-a270-fd0cdbbe0bec"
      },
      "outputs": [
        {
          "output_type": "display_data",
          "data": {
            "text/plain": [
              "<Figure size 640x480 with 1 Axes>"
            ],
            "image/png": "[encoded data removed]"
          },
          "metadata": {}
        }
      ],
      "source": [
        "plt.plot(range(len(train_loss)), train_loss, 'r');\n",
        "plt.plot(range(len(val_loss)), val_loss, 'b');\n"
      ]
    },
    {
      "cell_type": "markdown",
      "metadata": {
        "id": "8OgmIrM9FtIb"
      },
      "source": [
        "# Testing\n",
        "\n",
        "We have kept the calculation of the test error separate in order to emphasize that you should not use the test set in optimization."
      ]
    },
    {
      "cell_type": "code",
      "execution_count": 42,
      "metadata": {
        "id": "HmNi7S-vFtIc"
      },
      "outputs": [],
      "source": [
        "output_test = forward(x_test, NN)"
      ]
    },
    {
      "cell_type": "code",
      "execution_count": 43,
      "metadata": {
        "colab": {
          "base_uri": "https://localhost:8080/",
          "height": 503
        },
        "id": "7mmJOTSEFtIf",
        "outputId": "343686c6-c62d-465c-9bdc-336a53388185"
      },
      "outputs": [
        {
          "output_type": "stream",
          "name": "stdout",
          "text": [
            "Test loss:  9.316\n"
          ]
        },
        {
          "output_type": "display_data",
          "data": {
            "text/plain": [
              "<Figure size 640x480 with 1 Axes>"
            ],
            "image/png": "[encoded data removed]"
          },
          "metadata": {}
        }
      ],
      "source": [
        "y_test_np = Var_to_nparray(y_test)\n",
        "plt.scatter(y_test_np, Var_to_nparray(output_test));\n",
        "plt.plot([np.min(y_test_np), np.max(y_test_np)], [np.min(y_test_np), np.max(y_test_np)], color='k');\n",
        "plt.xlabel(\"y\");\n",
        "plt.ylabel(\"$\\hat{y}$\");\n",
        "plt.title(\"Model prediction vs real in the test set, the close to the line the better\")\n",
        "plt.grid(True);\n",
        "plt.axis('equal');\n",
        "plt.tight_layout();\n",
        "\n",
        "Loss_test = squared_loss(y_test, forward(x_test, NN))\n",
        "\n",
        "print(\"Test loss:  {:4.3f}\".format(Loss_test.v))"
      ]
    },
    {
      "cell_type": "code",
      "execution_count": 44,
      "metadata": {
        "colab": {
          "base_uri": "https://localhost:8080/",
          "height": 448
        },
        "id": "ODi0WlmQFtIh",
        "outputId": "b90583f5-a69f-46e5-d287-4796fedb8960"
      },
      "outputs": [
        {
          "output_type": "display_data",
          "data": {
            "text/plain": [
              "<Figure size 640x480 with 1 Axes>"
            ],
            "image/png": "[encoded data removed]"
          },
          "metadata": {}
        }
      ],
      "source": [
        "x_test_np = Var_to_nparray(x_test)\n",
        "x_train_np = Var_to_nparray(x_train)\n",
        "y_train_np = Var_to_nparray(y_train)\n",
        "if D1:\n",
        "    plt.scatter(x_train_np, y_train_np, label=\"train data\");\n",
        "    plt.scatter(x_test_np, Var_to_nparray(output_test), label=\"test prediction\");\n",
        "    plt.scatter(x_test_np, y_test_np, label=\"test data\");\n",
        "    plt.legend();\n",
        "    plt.xlabel(\"x\");\n",
        "    plt.ylabel(\"y\");\n",
        "else:\n",
        "    plt.scatter(x_train_np[:,1], y_train, label=\"train data\");\n",
        "    plt.scatter(x_test_np[:,1], Var_to_nparray(output_test), label=\"test data prediction\");\n",
        "    plt.scatter(x_test_np[:,1], y_test_np, label=\"test data\");\n",
        "    plt.legend();\n",
        "    plt.xlabel(\"x\");\n",
        "    plt.ylabel(\"y\");"
      ]
    },
    {
      "cell_type": "markdown",
      "metadata": {
        "id": "zTBAmjsAFtIk"
      },
      "source": [
        "## Exercise l) Show overfitting, underfitting and just right fitting\n",
        "\n",
        "Vary the architecture and other things to show clear signs of overfitting (=training loss significantly lower than test loss) and underfitting (=not fitting enoung to training data so that test performance is also hurt).\n",
        "\n",
        "See also if you can get a good compromise which leads to a low validation loss.\n",
        "\n",
        "For this problem do you see any big difference between validation and test loss? The answer here will probably be no. Discuss cases where it is important to keep the two separate.\n",
        "\n",
        "_Insert written answer here._\n"
      ]
    },
    {
      "cell_type": "code",
      "execution_count": 45,
      "metadata": {
        "id": "tQZCn2dxFtIl"
      },
      "outputs": [],
      "source": [
        "# Insert your code for getting overfitting, underfitting and just right fitting"
      ]
    },
    {
      "cell_type": "code",
      "source": [
        "# Initialize a more complex neural network\n",
        "NN = [\n",
        "    DenseLayer(1, 16, lambda x: x.tanh()),\n",
        "    DenseLayer(16, 16, lambda x: x.tanh()),\n",
        "    DenseLayer(16, 1, lambda x: x.identity())\n",
        "]\n",
        "\n",
        "# Increase epochs and learning rate\n",
        "EPOCHS = 200\n",
        "LEARN_R = 1e-3\n",
        "\n",
        "train_loss = []\n",
        "val_loss = []\n",
        "\n",
        "for e in range(EPOCHS):\n",
        "\n",
        "    # Forward pass and loss computation\n",
        "    Loss = squared_loss(y_train, forward(x_train, NN))\n",
        "\n",
        "    # Backward pass\n",
        "    Loss.backward()\n",
        "\n",
        "    # gradient descent update\n",
        "    update_parameters(parameters(NN), LEARN_R)\n",
        "    zero_gradients(parameters(NN))\n",
        "\n",
        "    # Training loss\n",
        "    train_loss.append(Loss.v)\n",
        "\n",
        "    # Validation\n",
        "    Loss_validation = squared_loss(y_validation, forward(x_validation, NN))\n",
        "    val_loss.append(Loss_validation.v)\n",
        "\n",
        "    if e%10==0:\n",
        "        print(\"{:4d}\".format(e),\n",
        "              \"({:5.2f}%)\".format(e/EPOCHS*100),\n",
        "              \"Train loss: {:4.3f} \\t Validation loss: {:4.3f}\".format(train_loss[-1], val_loss[-1]))"
      ],
      "metadata": {
        "colab": {
          "base_uri": "https://localhost:8080/"
        },
        "id": "Y8n9cTk9CYVB",
        "outputId": "42329745-1850-4395-970c-cbb5851845a5"
      },
      "execution_count": 72,
      "outputs": [
        {
          "output_type": "stream",
          "name": "stdout",
          "text": [
            "   0 ( 0.00%) Train loss: 108.705 \t Validation loss: 107.306\n",
            "  10 ( 5.00%) Train loss: 45.498 \t Validation loss: 36.054\n",
            "  20 (10.00%) Train loss: 13.696 \t Validation loss: 10.088\n",
            "  30 (15.00%) Train loss: 13.589 \t Validation loss: 9.954\n",
            "  40 (20.00%) Train loss: 13.503 \t Validation loss: 9.896\n",
            "  50 (25.00%) Train loss: 13.425 \t Validation loss: 9.844\n",
            "  60 (30.00%) Train loss: 13.355 \t Validation loss: 9.797\n",
            "  70 (35.00%) Train loss: 13.291 \t Validation loss: 9.754\n",
            "  80 (40.00%) Train loss: 13.232 \t Validation loss: 9.716\n",
            "  90 (45.00%) Train loss: 13.179 \t Validation loss: 9.680\n",
            " 100 (50.00%) Train loss: 13.130 \t Validation loss: 9.648\n",
            " 110 (55.00%) Train loss: 13.084 \t Validation loss: 9.618\n",
            " 120 (60.00%) Train loss: 13.043 \t Validation loss: 9.590\n",
            " 130 (65.00%) Train loss: 13.004 \t Validation loss: 9.565\n",
            " 140 (70.00%) Train loss: 12.968 \t Validation loss: 9.542\n",
            " 150 (75.00%) Train loss: 12.935 \t Validation loss: 9.520\n",
            " 160 (80.00%) Train loss: 12.904 \t Validation loss: 9.500\n",
            " 170 (85.00%) Train loss: 12.875 \t Validation loss: 9.481\n",
            " 180 (90.00%) Train loss: 12.849 \t Validation loss: 9.463\n",
            " 190 (95.00%) Train loss: 12.823 \t Validation loss: 9.447\n"
          ]
        }
      ]
    },
    {
      "cell_type": "code",
      "source": [
        "plt.plot(range(len(train_loss)), train_loss, 'r', label = 'Training loss')\n",
        "plt.plot(range(len(val_loss)), val_loss, 'b', label = 'Validation loss')\n",
        "\n",
        "plt.legend()\n"
      ],
      "metadata": {
        "colab": {
          "base_uri": "https://localhost:8080/",
          "height": 445
        },
        "id": "mqu4LkkKCufl",
        "outputId": "79840eef-87a6-4ffb-f892-cff61570bc84"
      },
      "execution_count": 74,
      "outputs": [
        {
          "output_type": "execute_result",
          "data": {
            "text/plain": [
              "<matplotlib.legend.Legend at 0x7d890a47e770>"
            ]
          },
          "metadata": {},
          "execution_count": 74
        },
        {
          "output_type": "display_data",
          "data": {
            "text/plain": [
              "<Figure size 640x480 with 1 Axes>"
            ],
            "image/png": "[encoded data removed]"
          },
          "metadata": {}
        }
      ]
    },
    {
      "cell_type": "markdown",
      "source": [
        "After changing the network, epochs and learnning rate, the biggest issue is that the validation loss is lower than the training loss."
      ],
      "metadata": {
        "id": "ZgATB6G8QvYJ"
      }
    },
    {
      "cell_type": "markdown",
      "metadata": {
        "id": "fYPZP-eTFtIo"
      },
      "source": [
        "# Next steps - classification\n",
        "\n",
        "It is straight forward to extend what we have done to classification.\n",
        "\n",
        "For numerical stability it is better to make softmax and cross-entropy as one function so we write the cross entropy loss as a function of the logits we talked about last week.\n",
        "\n",
        "Next week we will see how to perform classification in PyTorch."
      ]
    },
    {
      "cell_type": "markdown",
      "metadata": {
        "id": "qsVPul3QFtIo"
      },
      "source": [
        "## Exercise m) optional - Implement backpropagation for classification\n",
        "\n",
        "Should be possible with very few lines of code. :-)"
      ]
    },
    {
      "cell_type": "code",
      "execution_count": 46,
      "metadata": {
        "id": "oC8QrI2tFtIp"
      },
      "outputs": [],
      "source": [
        "# Just add code."
      ]
    },
    {
      "cell_type": "markdown",
      "metadata": {
        "id": "APqhJv3tta1O"
      },
      "source": [
        "## Exercise n) optional - Introduce a NeuralNetwork class\n",
        "\n",
        "The functions we applied on the neural network (parameters, update_parameters and zero_gradients) can more naturally be included as methods in a NeuralNetwork class. Make such a class and modify the code to use it."
      ]
    },
    {
      "cell_type": "code",
      "execution_count": 47,
      "metadata": {
        "id": "Dqfnor1ouMLq"
      },
      "outputs": [],
      "source": [
        "# just add some code"
      ]
    }
  ],
  "metadata": {
    "anaconda-cloud": {},
    "colab": {
      "collapsed_sections": [
        "U4057_ljNvWB",
        "p_8n_SKnIW2F",
        "oLrGJytZFtGm",
        "jpIZPBpNI0pO",
        "_79HOAXrFtHK",
        "mqeyab9qFtGs",
        "-XyXBD37FtHk",
        "SrwSJ2UWFtHu",
        "zTBAmjsAFtIk",
        "qsVPul3QFtIo",
        "APqhJv3tta1O"
      ],
      "name": "2.1-EXE-FNN-AutoDif-Nanograd.ipynb",
      "provenance": []
    },
    "kernelspec": {
      "display_name": "Python 3",
      "language": "python",
      "name": "python3"
    },
    "language_info": {
      "codemirror_mode": {
        "name": "ipython",
        "version": 3
      },
      "file_extension": ".py",
      "mimetype": "text/x-python",
      "name": "python",
      "nbconvert_exporter": "python",
      "pygments_lexer": "ipython3",
      "version": "3.9.12"
    }
  },
  "nbformat": 4,
  "nbformat_minor": 0
}